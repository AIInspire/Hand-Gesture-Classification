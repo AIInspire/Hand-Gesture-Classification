{
  "cells": [
    {
      "cell_type": "markdown",
      "metadata": {
        "id": "view-in-github",
        "colab_type": "text"
      },
      "source": [
        "<a href=\"https://colab.research.google.com/github/AIInspire/Hand-Gesture-Classification/blob/main/Training_and_Evaluation.ipynb\" target=\"_parent\"><img src=\"https://colab.research.google.com/assets/colab-badge.svg\" alt=\"Open In Colab\"/></a>"
      ]
    },
    {
      "cell_type": "code",
      "execution_count": 1,
      "metadata": {
        "id": "JzMDpvERgSDv"
      },
      "outputs": [],
      "source": [
        "import pandas as pd\n",
        "import numpy as np\n",
        "import matplotlib.pyplot as plt\n",
        "import seaborn as sns\n",
        "import os\n",
        "import joblib\n",
        "from sklearn.metrics import accuracy_score, precision_score, recall_score, f1_score"
      ]
    },
    {
      "cell_type": "code",
      "execution_count": null,
      "metadata": {
        "colab": {
          "base_uri": "https://localhost:8080/"
        },
        "id": "srGVXdwblXLu",
        "outputId": "33c34662-befd-447a-d4c3-cae94d0a377c"
      },
      "outputs": [
        {
          "output_type": "stream",
          "name": "stdout",
          "text": [
            "Drive already mounted at /content/drive; to attempt to forcibly remount, call drive.mount(\"/content/drive\", force_remount=True).\n"
          ]
        }
      ],
      "source": [
        "# Access my drive\n",
        "from google.colab import drive\n",
        "\n",
        "drive.mount('/content/drive')"
      ]
    },
    {
      "cell_type": "markdown",
      "metadata": {
        "id": "wNaFT6SSgX2s"
      },
      "source": [
        "# Load datasets"
      ]
    },
    {
      "cell_type": "code",
      "execution_count": 2,
      "metadata": {
        "colab": {
          "base_uri": "https://localhost:8080/",
          "height": 342
        },
        "id": "qJAyLEZCgS19",
        "outputId": "297821e6-fc67-4ee8-f5a0-59ecece077c8"
      },
      "outputs": [
        {
          "output_type": "execute_result",
          "data": {
            "text/plain": [
              "    x1   y1            z1        x2        y2        z2        x3        y3  \\\n",
              "0  0.0  0.0  3.952055e-07  0.098025 -0.035313 -0.024145  0.202951 -0.089293   \n",
              "1  0.0  0.0  3.073449e-07 -0.027681 -0.013087 -0.009034 -0.053119 -0.033356   \n",
              "2  0.0  0.0  1.938102e-07 -0.039532 -0.014927 -0.017254 -0.075311 -0.034959   \n",
              "3  0.0  0.0  4.852012e-08 -0.023671 -0.079358 -0.009695 -0.037987 -0.265784   \n",
              "4  0.0  0.0  5.494857e-07 -0.126104 -0.054046 -0.004757 -0.153177 -0.136078   \n",
              "\n",
              "         z3        x4  ...       x19       y19       z19       x20       y20  \\\n",
              "0 -0.036711  0.314607  ... -0.101898 -0.213498 -0.043010 -0.092303 -0.151523   \n",
              "1 -0.015538 -0.076192  ...  0.041777 -0.065237 -0.027049  0.031424 -0.052896   \n",
              "2 -0.029098 -0.102484  ...  0.066524 -0.138803 -0.038567  0.084262 -0.157945   \n",
              "3 -0.012068 -0.024191  ...  0.002507 -0.595504 -0.018158  0.003985 -0.512774   \n",
              "4 -0.014341 -0.070555  ...  0.211904 -0.204862 -0.052404  0.196116 -0.178078   \n",
              "\n",
              "        z20       x21       y21       z21  label  \n",
              "0 -0.043307 -0.063439 -0.099102 -0.035569     15  \n",
              "1 -0.024753  0.022526 -0.043448 -0.021096     15  \n",
              "2 -0.044197  0.100029 -0.175690 -0.047938      8  \n",
              "3 -0.019942  0.006698 -0.412202 -0.020605     14  \n",
              "4 -0.042919  0.164033 -0.148812 -0.032127     17  \n",
              "\n",
              "[5 rows x 64 columns]"
            ],
            "text/html": [
              "\n",
              "  <div id=\"df-79e8d836-43f8-4138-bb7c-9170ad87c406\" class=\"colab-df-container\">\n",
              "    <div>\n",
              "<style scoped>\n",
              "    .dataframe tbody tr th:only-of-type {\n",
              "        vertical-align: middle;\n",
              "    }\n",
              "\n",
              "    .dataframe tbody tr th {\n",
              "        vertical-align: top;\n",
              "    }\n",
              "\n",
              "    .dataframe thead th {\n",
              "        text-align: right;\n",
              "    }\n",
              "</style>\n",
              "<table border=\"1\" class=\"dataframe\">\n",
              "  <thead>\n",
              "    <tr style=\"text-align: right;\">\n",
              "      <th></th>\n",
              "      <th>x1</th>\n",
              "      <th>y1</th>\n",
              "      <th>z1</th>\n",
              "      <th>x2</th>\n",
              "      <th>y2</th>\n",
              "      <th>z2</th>\n",
              "      <th>x3</th>\n",
              "      <th>y3</th>\n",
              "      <th>z3</th>\n",
              "      <th>x4</th>\n",
              "      <th>...</th>\n",
              "      <th>x19</th>\n",
              "      <th>y19</th>\n",
              "      <th>z19</th>\n",
              "      <th>x20</th>\n",
              "      <th>y20</th>\n",
              "      <th>z20</th>\n",
              "      <th>x21</th>\n",
              "      <th>y21</th>\n",
              "      <th>z21</th>\n",
              "      <th>label</th>\n",
              "    </tr>\n",
              "  </thead>\n",
              "  <tbody>\n",
              "    <tr>\n",
              "      <th>0</th>\n",
              "      <td>0.0</td>\n",
              "      <td>0.0</td>\n",
              "      <td>3.952055e-07</td>\n",
              "      <td>0.098025</td>\n",
              "      <td>-0.035313</td>\n",
              "      <td>-0.024145</td>\n",
              "      <td>0.202951</td>\n",
              "      <td>-0.089293</td>\n",
              "      <td>-0.036711</td>\n",
              "      <td>0.314607</td>\n",
              "      <td>...</td>\n",
              "      <td>-0.101898</td>\n",
              "      <td>-0.213498</td>\n",
              "      <td>-0.043010</td>\n",
              "      <td>-0.092303</td>\n",
              "      <td>-0.151523</td>\n",
              "      <td>-0.043307</td>\n",
              "      <td>-0.063439</td>\n",
              "      <td>-0.099102</td>\n",
              "      <td>-0.035569</td>\n",
              "      <td>15</td>\n",
              "    </tr>\n",
              "    <tr>\n",
              "      <th>1</th>\n",
              "      <td>0.0</td>\n",
              "      <td>0.0</td>\n",
              "      <td>3.073449e-07</td>\n",
              "      <td>-0.027681</td>\n",
              "      <td>-0.013087</td>\n",
              "      <td>-0.009034</td>\n",
              "      <td>-0.053119</td>\n",
              "      <td>-0.033356</td>\n",
              "      <td>-0.015538</td>\n",
              "      <td>-0.076192</td>\n",
              "      <td>...</td>\n",
              "      <td>0.041777</td>\n",
              "      <td>-0.065237</td>\n",
              "      <td>-0.027049</td>\n",
              "      <td>0.031424</td>\n",
              "      <td>-0.052896</td>\n",
              "      <td>-0.024753</td>\n",
              "      <td>0.022526</td>\n",
              "      <td>-0.043448</td>\n",
              "      <td>-0.021096</td>\n",
              "      <td>15</td>\n",
              "    </tr>\n",
              "    <tr>\n",
              "      <th>2</th>\n",
              "      <td>0.0</td>\n",
              "      <td>0.0</td>\n",
              "      <td>1.938102e-07</td>\n",
              "      <td>-0.039532</td>\n",
              "      <td>-0.014927</td>\n",
              "      <td>-0.017254</td>\n",
              "      <td>-0.075311</td>\n",
              "      <td>-0.034959</td>\n",
              "      <td>-0.029098</td>\n",
              "      <td>-0.102484</td>\n",
              "      <td>...</td>\n",
              "      <td>0.066524</td>\n",
              "      <td>-0.138803</td>\n",
              "      <td>-0.038567</td>\n",
              "      <td>0.084262</td>\n",
              "      <td>-0.157945</td>\n",
              "      <td>-0.044197</td>\n",
              "      <td>0.100029</td>\n",
              "      <td>-0.175690</td>\n",
              "      <td>-0.047938</td>\n",
              "      <td>8</td>\n",
              "    </tr>\n",
              "    <tr>\n",
              "      <th>3</th>\n",
              "      <td>0.0</td>\n",
              "      <td>0.0</td>\n",
              "      <td>4.852012e-08</td>\n",
              "      <td>-0.023671</td>\n",
              "      <td>-0.079358</td>\n",
              "      <td>-0.009695</td>\n",
              "      <td>-0.037987</td>\n",
              "      <td>-0.265784</td>\n",
              "      <td>-0.012068</td>\n",
              "      <td>-0.024191</td>\n",
              "      <td>...</td>\n",
              "      <td>0.002507</td>\n",
              "      <td>-0.595504</td>\n",
              "      <td>-0.018158</td>\n",
              "      <td>0.003985</td>\n",
              "      <td>-0.512774</td>\n",
              "      <td>-0.019942</td>\n",
              "      <td>0.006698</td>\n",
              "      <td>-0.412202</td>\n",
              "      <td>-0.020605</td>\n",
              "      <td>14</td>\n",
              "    </tr>\n",
              "    <tr>\n",
              "      <th>4</th>\n",
              "      <td>0.0</td>\n",
              "      <td>0.0</td>\n",
              "      <td>5.494857e-07</td>\n",
              "      <td>-0.126104</td>\n",
              "      <td>-0.054046</td>\n",
              "      <td>-0.004757</td>\n",
              "      <td>-0.153177</td>\n",
              "      <td>-0.136078</td>\n",
              "      <td>-0.014341</td>\n",
              "      <td>-0.070555</td>\n",
              "      <td>...</td>\n",
              "      <td>0.211904</td>\n",
              "      <td>-0.204862</td>\n",
              "      <td>-0.052404</td>\n",
              "      <td>0.196116</td>\n",
              "      <td>-0.178078</td>\n",
              "      <td>-0.042919</td>\n",
              "      <td>0.164033</td>\n",
              "      <td>-0.148812</td>\n",
              "      <td>-0.032127</td>\n",
              "      <td>17</td>\n",
              "    </tr>\n",
              "  </tbody>\n",
              "</table>\n",
              "<p>5 rows × 64 columns</p>\n",
              "</div>\n",
              "    <div class=\"colab-df-buttons\">\n",
              "\n",
              "  <div class=\"colab-df-container\">\n",
              "    <button class=\"colab-df-convert\" onclick=\"convertToInteractive('df-79e8d836-43f8-4138-bb7c-9170ad87c406')\"\n",
              "            title=\"Convert this dataframe to an interactive table.\"\n",
              "            style=\"display:none;\">\n",
              "\n",
              "  <svg xmlns=\"http://www.w3.org/2000/svg\" height=\"24px\" viewBox=\"0 -960 960 960\">\n",
              "    <path d=\"M120-120v-720h720v720H120Zm60-500h600v-160H180v160Zm220 220h160v-160H400v160Zm0 220h160v-160H400v160ZM180-400h160v-160H180v160Zm440 0h160v-160H620v160ZM180-180h160v-160H180v160Zm440 0h160v-160H620v160Z\"/>\n",
              "  </svg>\n",
              "    </button>\n",
              "\n",
              "  <style>\n",
              "    .colab-df-container {\n",
              "      display:flex;\n",
              "      gap: 12px;\n",
              "    }\n",
              "\n",
              "    .colab-df-convert {\n",
              "      background-color: #E8F0FE;\n",
              "      border: none;\n",
              "      border-radius: 50%;\n",
              "      cursor: pointer;\n",
              "      display: none;\n",
              "      fill: #1967D2;\n",
              "      height: 32px;\n",
              "      padding: 0 0 0 0;\n",
              "      width: 32px;\n",
              "    }\n",
              "\n",
              "    .colab-df-convert:hover {\n",
              "      background-color: #E2EBFA;\n",
              "      box-shadow: 0px 1px 2px rgba(60, 64, 67, 0.3), 0px 1px 3px 1px rgba(60, 64, 67, 0.15);\n",
              "      fill: #174EA6;\n",
              "    }\n",
              "\n",
              "    .colab-df-buttons div {\n",
              "      margin-bottom: 4px;\n",
              "    }\n",
              "\n",
              "    [theme=dark] .colab-df-convert {\n",
              "      background-color: #3B4455;\n",
              "      fill: #D2E3FC;\n",
              "    }\n",
              "\n",
              "    [theme=dark] .colab-df-convert:hover {\n",
              "      background-color: #434B5C;\n",
              "      box-shadow: 0px 1px 3px 1px rgba(0, 0, 0, 0.15);\n",
              "      filter: drop-shadow(0px 1px 2px rgba(0, 0, 0, 0.3));\n",
              "      fill: #FFFFFF;\n",
              "    }\n",
              "  </style>\n",
              "\n",
              "    <script>\n",
              "      const buttonEl =\n",
              "        document.querySelector('#df-79e8d836-43f8-4138-bb7c-9170ad87c406 button.colab-df-convert');\n",
              "      buttonEl.style.display =\n",
              "        google.colab.kernel.accessAllowed ? 'block' : 'none';\n",
              "\n",
              "      async function convertToInteractive(key) {\n",
              "        const element = document.querySelector('#df-79e8d836-43f8-4138-bb7c-9170ad87c406');\n",
              "        const dataTable =\n",
              "          await google.colab.kernel.invokeFunction('convertToInteractive',\n",
              "                                                    [key], {});\n",
              "        if (!dataTable) return;\n",
              "\n",
              "        const docLinkHtml = 'Like what you see? Visit the ' +\n",
              "          '<a target=\"_blank\" href=https://colab.research.google.com/notebooks/data_table.ipynb>data table notebook</a>'\n",
              "          + ' to learn more about interactive tables.';\n",
              "        element.innerHTML = '';\n",
              "        dataTable['output_type'] = 'display_data';\n",
              "        await google.colab.output.renderOutput(dataTable, element);\n",
              "        const docLink = document.createElement('div');\n",
              "        docLink.innerHTML = docLinkHtml;\n",
              "        element.appendChild(docLink);\n",
              "      }\n",
              "    </script>\n",
              "  </div>\n",
              "\n",
              "\n",
              "<div id=\"df-d68f9c51-55f3-4707-9956-0f9af9d14a32\">\n",
              "  <button class=\"colab-df-quickchart\" onclick=\"quickchart('df-d68f9c51-55f3-4707-9956-0f9af9d14a32')\"\n",
              "            title=\"Suggest charts\"\n",
              "            style=\"display:none;\">\n",
              "\n",
              "<svg xmlns=\"http://www.w3.org/2000/svg\" height=\"24px\"viewBox=\"0 0 24 24\"\n",
              "     width=\"24px\">\n",
              "    <g>\n",
              "        <path d=\"M19 3H5c-1.1 0-2 .9-2 2v14c0 1.1.9 2 2 2h14c1.1 0 2-.9 2-2V5c0-1.1-.9-2-2-2zM9 17H7v-7h2v7zm4 0h-2V7h2v10zm4 0h-2v-4h2v4z\"/>\n",
              "    </g>\n",
              "</svg>\n",
              "  </button>\n",
              "\n",
              "<style>\n",
              "  .colab-df-quickchart {\n",
              "      --bg-color: #E8F0FE;\n",
              "      --fill-color: #1967D2;\n",
              "      --hover-bg-color: #E2EBFA;\n",
              "      --hover-fill-color: #174EA6;\n",
              "      --disabled-fill-color: #AAA;\n",
              "      --disabled-bg-color: #DDD;\n",
              "  }\n",
              "\n",
              "  [theme=dark] .colab-df-quickchart {\n",
              "      --bg-color: #3B4455;\n",
              "      --fill-color: #D2E3FC;\n",
              "      --hover-bg-color: #434B5C;\n",
              "      --hover-fill-color: #FFFFFF;\n",
              "      --disabled-bg-color: #3B4455;\n",
              "      --disabled-fill-color: #666;\n",
              "  }\n",
              "\n",
              "  .colab-df-quickchart {\n",
              "    background-color: var(--bg-color);\n",
              "    border: none;\n",
              "    border-radius: 50%;\n",
              "    cursor: pointer;\n",
              "    display: none;\n",
              "    fill: var(--fill-color);\n",
              "    height: 32px;\n",
              "    padding: 0;\n",
              "    width: 32px;\n",
              "  }\n",
              "\n",
              "  .colab-df-quickchart:hover {\n",
              "    background-color: var(--hover-bg-color);\n",
              "    box-shadow: 0 1px 2px rgba(60, 64, 67, 0.3), 0 1px 3px 1px rgba(60, 64, 67, 0.15);\n",
              "    fill: var(--button-hover-fill-color);\n",
              "  }\n",
              "\n",
              "  .colab-df-quickchart-complete:disabled,\n",
              "  .colab-df-quickchart-complete:disabled:hover {\n",
              "    background-color: var(--disabled-bg-color);\n",
              "    fill: var(--disabled-fill-color);\n",
              "    box-shadow: none;\n",
              "  }\n",
              "\n",
              "  .colab-df-spinner {\n",
              "    border: 2px solid var(--fill-color);\n",
              "    border-color: transparent;\n",
              "    border-bottom-color: var(--fill-color);\n",
              "    animation:\n",
              "      spin 1s steps(1) infinite;\n",
              "  }\n",
              "\n",
              "  @keyframes spin {\n",
              "    0% {\n",
              "      border-color: transparent;\n",
              "      border-bottom-color: var(--fill-color);\n",
              "      border-left-color: var(--fill-color);\n",
              "    }\n",
              "    20% {\n",
              "      border-color: transparent;\n",
              "      border-left-color: var(--fill-color);\n",
              "      border-top-color: var(--fill-color);\n",
              "    }\n",
              "    30% {\n",
              "      border-color: transparent;\n",
              "      border-left-color: var(--fill-color);\n",
              "      border-top-color: var(--fill-color);\n",
              "      border-right-color: var(--fill-color);\n",
              "    }\n",
              "    40% {\n",
              "      border-color: transparent;\n",
              "      border-right-color: var(--fill-color);\n",
              "      border-top-color: var(--fill-color);\n",
              "    }\n",
              "    60% {\n",
              "      border-color: transparent;\n",
              "      border-right-color: var(--fill-color);\n",
              "    }\n",
              "    80% {\n",
              "      border-color: transparent;\n",
              "      border-right-color: var(--fill-color);\n",
              "      border-bottom-color: var(--fill-color);\n",
              "    }\n",
              "    90% {\n",
              "      border-color: transparent;\n",
              "      border-bottom-color: var(--fill-color);\n",
              "    }\n",
              "  }\n",
              "</style>\n",
              "\n",
              "  <script>\n",
              "    async function quickchart(key) {\n",
              "      const quickchartButtonEl =\n",
              "        document.querySelector('#' + key + ' button');\n",
              "      quickchartButtonEl.disabled = true;  // To prevent multiple clicks.\n",
              "      quickchartButtonEl.classList.add('colab-df-spinner');\n",
              "      try {\n",
              "        const charts = await google.colab.kernel.invokeFunction(\n",
              "            'suggestCharts', [key], {});\n",
              "      } catch (error) {\n",
              "        console.error('Error during call to suggestCharts:', error);\n",
              "      }\n",
              "      quickchartButtonEl.classList.remove('colab-df-spinner');\n",
              "      quickchartButtonEl.classList.add('colab-df-quickchart-complete');\n",
              "    }\n",
              "    (() => {\n",
              "      let quickchartButtonEl =\n",
              "        document.querySelector('#df-d68f9c51-55f3-4707-9956-0f9af9d14a32 button');\n",
              "      quickchartButtonEl.style.display =\n",
              "        google.colab.kernel.accessAllowed ? 'block' : 'none';\n",
              "    })();\n",
              "  </script>\n",
              "</div>\n",
              "\n",
              "    </div>\n",
              "  </div>\n"
            ],
            "application/vnd.google.colaboratory.intrinsic+json": {
              "type": "dataframe",
              "variable_name": "train_df"
            }
          },
          "metadata": {},
          "execution_count": 2
        }
      ],
      "source": [
        "train_df = pd.read_csv('train_df.csv')\n",
        "dev_df = pd.read_csv('dev_df.csv')\n",
        "test_df = pd.read_csv('test_df.csv')\n",
        "\n",
        "train_df.head()"
      ]
    },
    {
      "cell_type": "code",
      "execution_count": 3,
      "metadata": {
        "id": "dmCLmHWPizp9"
      },
      "outputs": [],
      "source": [
        "x_train = train_df.drop(columns=['label'])\n",
        "y_train = train_df['label']\n",
        "\n",
        "x_dev = dev_df.drop(columns=['label'])\n",
        "y_dev = dev_df['label']\n",
        "\n",
        "x_test = test_df.drop(columns=['label'])\n",
        "y_test = test_df['label']"
      ]
    },
    {
      "cell_type": "code",
      "source": [
        "final_x_train_df = pd.concat([x_train, x_dev])\n",
        "final_y_train_df = pd.concat([y_train, y_dev])"
      ],
      "metadata": {
        "id": "vxp-Ue7TEMLf"
      },
      "execution_count": 4,
      "outputs": []
    },
    {
      "cell_type": "code",
      "execution_count": 5,
      "metadata": {
        "colab": {
          "base_uri": "https://localhost:8080/"
        },
        "id": "Pcn88kf8taYA",
        "outputId": "8bbf280f-b964-4e2a-c634-6a742e9db46e"
      },
      "outputs": [
        {
          "output_type": "stream",
          "name": "stdout",
          "text": [
            "    x1   y1            z1        x2        y2        z2        x3        y3  \\\n",
            "0  0.0  0.0  3.952055e-07  0.098025 -0.035313 -0.024145  0.202951 -0.089293   \n",
            "1  0.0  0.0  3.073449e-07 -0.027681 -0.013087 -0.009034 -0.053119 -0.033356   \n",
            "2  0.0  0.0  1.938102e-07 -0.039532 -0.014927 -0.017254 -0.075311 -0.034959   \n",
            "3  0.0  0.0  4.852012e-08 -0.023671 -0.079358 -0.009695 -0.037987 -0.265784   \n",
            "4  0.0  0.0  5.494857e-07 -0.126104 -0.054046 -0.004757 -0.153177 -0.136078   \n",
            "\n",
            "         z3        x4  ...       z18       x19       y19       z19       x20  \\\n",
            "0 -0.036711  0.314607  ... -0.019162 -0.101898 -0.213498 -0.043010 -0.092303   \n",
            "1 -0.015538 -0.076192  ... -0.019638  0.041777 -0.065237 -0.027049  0.031424   \n",
            "2 -0.029098 -0.102484  ... -0.027482  0.066524 -0.138803 -0.038567  0.084262   \n",
            "3 -0.012068 -0.024191  ... -0.009977  0.002507 -0.595504 -0.018158  0.003985   \n",
            "4 -0.014341 -0.070555  ... -0.046963  0.211904 -0.204862 -0.052404  0.196116   \n",
            "\n",
            "        y20       z20       x21       y21       z21  \n",
            "0 -0.151523 -0.043307 -0.063439 -0.099102 -0.035569  \n",
            "1 -0.052896 -0.024753  0.022526 -0.043448 -0.021096  \n",
            "2 -0.157945 -0.044197  0.100029 -0.175690 -0.047938  \n",
            "3 -0.512774 -0.019942  0.006698 -0.412202 -0.020605  \n",
            "4 -0.178078 -0.042919  0.164033 -0.148812 -0.032127  \n",
            "\n",
            "[5 rows x 63 columns]\n",
            "0    15\n",
            "1    15\n",
            "2     8\n",
            "3    14\n",
            "4    17\n",
            "Name: label, dtype: int64\n"
          ]
        }
      ],
      "source": [
        "print(x_train.head())\n",
        "print(y_train.head())"
      ]
    },
    {
      "cell_type": "code",
      "source": [
        "print(x_train.shape)\n",
        "print(y_train.shape)\n",
        "\n",
        "print(x_dev.shape)\n",
        "print(y_dev.shape)\n",
        "\n",
        "print(x_test.shape)\n",
        "print(y_test.shape)"
      ],
      "metadata": {
        "colab": {
          "base_uri": "https://localhost:8080/"
        },
        "id": "jIjnXMvtgv8q",
        "outputId": "96196d1b-fddc-43d8-aa72-6e38e492bc89"
      },
      "execution_count": 6,
      "outputs": [
        {
          "output_type": "stream",
          "name": "stdout",
          "text": [
            "(17972, 63)\n",
            "(17972,)\n",
            "(3852, 63)\n",
            "(3852,)\n",
            "(3851, 63)\n",
            "(3851,)\n"
          ]
        }
      ]
    },
    {
      "cell_type": "markdown",
      "metadata": {
        "id": "xrc29NAtjgfI"
      },
      "source": [
        "# Trying models"
      ]
    },
    {
      "cell_type": "markdown",
      "metadata": {
        "id": "j0BAXnF7j_J8"
      },
      "source": [
        "First, We will make a function to return accuracy, precision, recall, and F1-score for each model"
      ]
    },
    {
      "cell_type": "code",
      "execution_count": 7,
      "metadata": {
        "id": "H-GNazFWj99r"
      },
      "outputs": [],
      "source": [
        "def evaluate_model(model, x, y):\n",
        "  y_pred = model.predict(x)\n",
        "  accuracy = accuracy_score(y, y_pred)\n",
        "  precision = precision_score(y, y_pred, average='weighted')\n",
        "  recall = recall_score(y, y_pred, average='weighted')\n",
        "  f1 = f1_score(y, y_pred, average='weighted')\n",
        "\n",
        "  results = pd.DataFrame({\n",
        "      'Model': [model],\n",
        "      'Accuracy': [accuracy],\n",
        "      'Precision': [precision],\n",
        "      'Recall': [recall],\n",
        "      'F1-score': [f1]\n",
        "  })\n",
        "\n",
        "  return results"
      ]
    },
    {
      "cell_type": "markdown",
      "metadata": {
        "id": "OCsisChnn8DC"
      },
      "source": [
        "Function to Appean results to a csv file in **Drive**"
      ]
    },
    {
      "cell_type": "code",
      "execution_count": 8,
      "metadata": {
        "id": "ang0HsBXn7s-"
      },
      "outputs": [],
      "source": [
        "# fun to open csv file in google drive if exist and append the dataframe on it, if not exsit create one\n",
        "def append_to_csv(df, file_path='/content/drive/My Drive/scores_after_tuning.csv'):\n",
        "    if os.path.exists(file_path):\n",
        "        existing_df = pd.read_csv(file_path)\n",
        "        updated_df = pd.concat([existing_df, df], ignore_index=True)\n",
        "    else:\n",
        "        updated_df = df\n",
        "\n",
        "    updated_df.to_csv(file_path, index=False)\n",
        "    print(f\"Data saved to {file_path}\")"
      ]
    },
    {
      "cell_type": "markdown",
      "metadata": {
        "id": "YfV7M4kNjmCY"
      },
      "source": [
        "## **1. Logistic regression**"
      ]
    },
    {
      "cell_type": "code",
      "source": [
        "from sklearn.linear_model import LogisticRegression\n",
        "\n",
        "logistic_regression = LogisticRegression()\n",
        "logistic_regression.fit(x_train, y_train)\n",
        "\n",
        "log_reg_score = evaluate_model(logistic_regression, x_dev, y_dev)\n",
        "print(log_reg_score)\n",
        "append_to_csv(log_reg_score, file_path='/content/drive/My Drive/scores using defualt hyperparas.csv')"
      ],
      "metadata": {
        "colab": {
          "base_uri": "https://localhost:8080/"
        },
        "id": "RmrN8MzqCiJB",
        "outputId": "11e70009-230b-4184-af85-4d881e505e01"
      },
      "execution_count": null,
      "outputs": [
        {
          "output_type": "stream",
          "name": "stdout",
          "text": [
            "                  Model  Accuracy  Precision    Recall  F1-score\n",
            "0  LogisticRegression()  0.799585   0.798508  0.799585  0.797764\n",
            "Data saved to /content/drive/My Drive/scores using defualt hyperparas.csv\n"
          ]
        },
        {
          "output_type": "stream",
          "name": "stderr",
          "text": [
            "/usr/local/lib/python3.11/dist-packages/sklearn/linear_model/_logistic.py:465: ConvergenceWarning: lbfgs failed to converge (status=1):\n",
            "STOP: TOTAL NO. of ITERATIONS REACHED LIMIT.\n",
            "\n",
            "Increase the number of iterations (max_iter) or scale the data as shown in:\n",
            "    https://scikit-learn.org/stable/modules/preprocessing.html\n",
            "Please also refer to the documentation for alternative solver options:\n",
            "    https://scikit-learn.org/stable/modules/linear_model.html#logistic-regression\n",
            "  n_iter_i = _check_optimize_result(\n"
          ]
        }
      ]
    },
    {
      "cell_type": "markdown",
      "metadata": {
        "id": "nTYcsSpgxJbm"
      },
      "source": [
        "*Logistic regression -- Hyperparameter Tuning Trials*"
      ]
    },
    {
      "cell_type": "code",
      "source": [
        "'''\n",
        "1st trial:\n",
        "incresing max_iter from 100 to 1500\n",
        "max_iter = [100, 200, 500, 1000, 1500]\n",
        "'''\n",
        "max_iter_values = [100, 200, 500, 1000, 1500]\n",
        "\n",
        "for max_iter in max_iter_values:\n",
        "  logistic_regression = LogisticRegression(max_iter=max_iter)\n",
        "  logistic_regression.fit(x_train, y_train)\n",
        "\n",
        "  print(f\"Evaluation when max_iter = {max_iter}:\")\n",
        "  print(evaluate_model(logistic_regression, x_dev, y_dev))\n",
        "  print()"
      ],
      "metadata": {
        "colab": {
          "base_uri": "https://localhost:8080/"
        },
        "id": "MDIF3Ker1XAg",
        "outputId": "54e8e5e5-2899-4517-eb61-ffa7a15d139d"
      },
      "execution_count": null,
      "outputs": [
        {
          "output_type": "stream",
          "name": "stderr",
          "text": [
            "/usr/local/lib/python3.11/dist-packages/sklearn/linear_model/_logistic.py:465: ConvergenceWarning: lbfgs failed to converge (status=1):\n",
            "STOP: TOTAL NO. of ITERATIONS REACHED LIMIT.\n",
            "\n",
            "Increase the number of iterations (max_iter) or scale the data as shown in:\n",
            "    https://scikit-learn.org/stable/modules/preprocessing.html\n",
            "Please also refer to the documentation for alternative solver options:\n",
            "    https://scikit-learn.org/stable/modules/linear_model.html#logistic-regression\n",
            "  n_iter_i = _check_optimize_result(\n"
          ]
        },
        {
          "output_type": "stream",
          "name": "stdout",
          "text": [
            "Evaluation when max_iter = 100:\n",
            "                  Model  Accuracy  Precision    Recall  F1-score\n",
            "0  LogisticRegression()  0.799585   0.798508  0.799585  0.797764\n",
            "\n",
            "Evaluation when max_iter = 200:\n",
            "                              Model  Accuracy  Precision    Recall  F1-score\n",
            "0  LogisticRegression(max_iter=200)  0.803479   0.802435  0.803479   0.80188\n",
            "\n",
            "Evaluation when max_iter = 500:\n",
            "                              Model  Accuracy  Precision    Recall  F1-score\n",
            "0  LogisticRegression(max_iter=500)  0.803479   0.802435  0.803479   0.80188\n",
            "\n",
            "Evaluation when max_iter = 1000:\n",
            "                               Model  Accuracy  Precision    Recall  F1-score\n",
            "0  LogisticRegression(max_iter=1000)  0.803479   0.802435  0.803479   0.80188\n",
            "\n",
            "Evaluation when max_iter = 1500:\n",
            "                               Model  Accuracy  Precision    Recall  F1-score\n",
            "0  LogisticRegression(max_iter=1500)  0.803479   0.802435  0.803479   0.80188\n",
            "\n"
          ]
        }
      ]
    },
    {
      "cell_type": "markdown",
      "source": [
        "* Increasing max_iter from 200 to 1500 made no further improvement.\n",
        "\n",
        "* After max_iter=200, the model converged and stabilized.\n",
        "\n",
        "* So, setting **max_iter=500** is sufficient for convergence and performance."
      ],
      "metadata": {
        "id": "5817Agrx3y9i"
      }
    },
    {
      "cell_type": "code",
      "source": [
        "'''\n",
        "2st trial:\n",
        "Try values like C = [0.01, 0.1, 1, 10]\n",
        "'''\n",
        "c_values = [0.01, 0.1, 1, 10]\n",
        "best_max_iter = 500\n",
        "\n",
        "for c in c_values:\n",
        "  logistic_regression = LogisticRegression(C=c, max_iter=best_max_iter)\n",
        "  logistic_regression.fit(x_train, y_train)\n",
        "\n",
        "  print(f\"Evaluation when C = {c}:\")\n",
        "  print(evaluate_model(logistic_regression, x_dev, y_dev))\n",
        "  print()"
      ],
      "metadata": {
        "colab": {
          "base_uri": "https://localhost:8080/"
        },
        "id": "Htm8DMJIRYBT",
        "outputId": "d34f78d8-7d36-4ccb-fe10-f340d83a381a"
      },
      "execution_count": null,
      "outputs": [
        {
          "output_type": "stream",
          "name": "stdout",
          "text": [
            "Evaluation when C = 0.01:\n",
            "                                      Model  Accuracy  Precision    Recall  \\\n",
            "0  LogisticRegression(C=0.01, max_iter=500)  0.458463   0.473855  0.458463   \n",
            "\n",
            "   F1-score  \n",
            "0  0.417058  \n",
            "\n"
          ]
        },
        {
          "output_type": "stream",
          "name": "stderr",
          "text": [
            "/usr/local/lib/python3.11/dist-packages/sklearn/metrics/_classification.py:1565: UndefinedMetricWarning: Precision is ill-defined and being set to 0.0 in labels with no predicted samples. Use `zero_division` parameter to control this behavior.\n",
            "  _warn_prf(average, modifier, f\"{metric.capitalize()} is\", len(result))\n"
          ]
        },
        {
          "output_type": "stream",
          "name": "stdout",
          "text": [
            "Evaluation when C = 0.1:\n",
            "                                     Model  Accuracy  Precision    Recall  \\\n",
            "0  LogisticRegression(C=0.1, max_iter=500)  0.694704   0.700307  0.694704   \n",
            "\n",
            "   F1-score  \n",
            "0  0.688569  \n",
            "\n",
            "Evaluation when C = 1:\n",
            "                                   Model  Accuracy  Precision    Recall  \\\n",
            "0  LogisticRegression(C=1, max_iter=500)  0.803479   0.802435  0.803479   \n",
            "\n",
            "   F1-score  \n",
            "0   0.80188  \n",
            "\n",
            "Evaluation when C = 10:\n",
            "                                    Model  Accuracy  Precision    Recall  \\\n",
            "0  LogisticRegression(C=10, max_iter=500)  0.866563   0.866927  0.866563   \n",
            "\n",
            "   F1-score  \n",
            "0  0.866534  \n",
            "\n"
          ]
        }
      ]
    },
    {
      "cell_type": "markdown",
      "source": [
        "\n",
        "\n",
        "1.   C = 0.01\n",
        "      * Low accuracy and recall indicate that the model is underfitting\n",
        "      * Not a good choice due to underfitting\n",
        "      \n",
        "2.   C = 0.1\n",
        "      * Accuracy has improved significantly\n",
        "      * Better than C=0.01, but needs parameter tuning to resolve convergence issues\n",
        "\n",
        "3.   C = 1\n",
        "      * Further improvement in accuracy\n",
        "      * A strong candidate for the best choice so far\n",
        "\n",
        "4.   C = 10\n",
        "      * Highest accuracy and best precision/recall\n",
        "      * This model gives the best performance, but the warning suggests it might need fine-tuning\n",
        "\n",
        "**Which C Value Should You Use?**\n",
        "\n",
        "We will Try\n",
        "* C = 1 -- Best balance between accuracy and stability, no warning\n",
        "\n",
        "* C = 10 is good but may need max_iter adjustments\n",
        "\n",
        "\n"
      ],
      "metadata": {
        "id": "j8Ty497NTQWx"
      }
    },
    {
      "cell_type": "code",
      "source": [
        "'''\n",
        "3st trial:\n",
        "solver = ['lbfgs', 'liblinear', 'saga']\n",
        "'''\n",
        "solver_values = ['lbfgs', 'liblinear', 'saga']\n",
        "best_max_iter = 500\n",
        "c_values = [1, 10]\n",
        "\n",
        "for solver in solver_values:\n",
        "  for c in c_values:\n",
        "    logistic_regression = LogisticRegression(solver=solver, C=c, max_iter=best_max_iter)\n",
        "    logistic_regression.fit(x_train, y_train)\n",
        "\n",
        "    print(f\"Evaluation when solver = {solver} and C = {c}:\")\n",
        "    print(evaluate_model(logistic_regression, x_dev, y_dev))\n",
        "    print()"
      ],
      "metadata": {
        "colab": {
          "base_uri": "https://localhost:8080/"
        },
        "id": "WrVxq5Al41Tk",
        "outputId": "d4afe2da-5576-4cba-e086-99ac4d3956c7"
      },
      "execution_count": null,
      "outputs": [
        {
          "output_type": "stream",
          "name": "stdout",
          "text": [
            "Evaluation when solver = lbfgs and C = 1:\n",
            "                                   Model  Accuracy  Precision    Recall  \\\n",
            "0  LogisticRegression(C=1, max_iter=500)  0.803479   0.802435  0.803479   \n",
            "\n",
            "   F1-score  \n",
            "0   0.80188  \n",
            "\n",
            "Evaluation when solver = lbfgs and C = 10:\n",
            "                                    Model  Accuracy  Precision    Recall  \\\n",
            "0  LogisticRegression(C=10, max_iter=500)  0.866563   0.866927  0.866563   \n",
            "\n",
            "   F1-score  \n",
            "0  0.866534  \n",
            "\n",
            "Evaluation when solver = liblinear and C = 1:\n",
            "                                               Model  Accuracy  Precision  \\\n",
            "0  LogisticRegression(C=1, max_iter=500, solver='...   0.78297   0.784273   \n",
            "\n",
            "    Recall  F1-score  \n",
            "0  0.78297  0.780808  \n",
            "\n",
            "Evaluation when solver = liblinear and C = 10:\n",
            "                                               Model  Accuracy  Precision  \\\n",
            "0  LogisticRegression(C=10, max_iter=500, solver=...  0.842939   0.843847   \n",
            "\n",
            "     Recall  F1-score  \n",
            "0  0.842939  0.842599  \n",
            "\n"
          ]
        },
        {
          "output_type": "stream",
          "name": "stderr",
          "text": [
            "/usr/local/lib/python3.11/dist-packages/sklearn/linear_model/_sag.py:348: ConvergenceWarning: The max_iter was reached which means the coef_ did not converge\n",
            "  warnings.warn(\n"
          ]
        },
        {
          "output_type": "stream",
          "name": "stdout",
          "text": [
            "Evaluation when solver = saga and C = 1:\n",
            "                                               Model  Accuracy  Precision  \\\n",
            "0  LogisticRegression(C=1, max_iter=500, solver='...  0.784787   0.784291   \n",
            "\n",
            "     Recall  F1-score  \n",
            "0  0.784787  0.782633  \n",
            "\n",
            "Evaluation when solver = saga and C = 10:\n",
            "                                               Model  Accuracy  Precision  \\\n",
            "0  LogisticRegression(C=10, max_iter=500, solver=...  0.794393   0.793545   \n",
            "\n",
            "     Recall  F1-score  \n",
            "0  0.794393  0.792867  \n",
            "\n"
          ]
        },
        {
          "output_type": "stream",
          "name": "stderr",
          "text": [
            "/usr/local/lib/python3.11/dist-packages/sklearn/linear_model/_sag.py:348: ConvergenceWarning: The max_iter was reached which means the coef_ did not converge\n",
            "  warnings.warn(\n"
          ]
        }
      ]
    },
    {
      "cell_type": "markdown",
      "source": [
        "\n",
        "\n",
        "*   lbfgs with C=10 is the best performer\n",
        "*   liblinear Performed Well, but Not as Good as lbfgs\n",
        "\n"
      ],
      "metadata": {
        "id": "XKK-LHpg-fcN"
      }
    },
    {
      "cell_type": "code",
      "source": [
        "'''\n",
        "4nd trial:\n",
        "penalty : Compare \"l1\", \"l2\".\n",
        "with C = [1, 10]\n",
        "solver = ['liblinear', 'lbfgs']\n",
        "max_iter = 500\n",
        "'''\n",
        "penalty_values = ['l2', 'l1']\n",
        "solver_values = ['liblinear', 'lbfgs']\n",
        "c_values = [1, 10]\n",
        "best_max_iter = 500\n",
        "\n",
        "for solver in solver_values:\n",
        "  for penalty in penalty_values:\n",
        "    for c in c_values:\n",
        "      logistic_regression = LogisticRegression(penalty=penalty, C=c, solver=solver, max_iter=best_max_iter)\n",
        "      logistic_regression.fit(x_train, y_train)\n",
        "\n",
        "      print(f\"Evaluation when solver = {solver}, penalty = {penalty} and C = {c}:\")\n",
        "      print(evaluate_model(logistic_regression, x_dev, y_dev))\n",
        "      print()"
      ],
      "metadata": {
        "colab": {
          "base_uri": "https://localhost:8080/",
          "height": 1000
        },
        "id": "Q9_s0Uv19A-c",
        "outputId": "665b2941-7a0e-43e7-96a6-23dfb9c6c95c"
      },
      "execution_count": null,
      "outputs": [
        {
          "output_type": "stream",
          "name": "stdout",
          "text": [
            "Evaluation when solver = liblinear, penalty = l2 and C = 1:\n",
            "                                               Model  Accuracy  Precision  \\\n",
            "0  LogisticRegression(C=1, max_iter=500, solver='...   0.78297   0.784273   \n",
            "\n",
            "    Recall  F1-score  \n",
            "0  0.78297  0.780808  \n",
            "\n",
            "Evaluation when solver = liblinear, penalty = l2 and C = 10:\n",
            "                                               Model  Accuracy  Precision  \\\n",
            "0  LogisticRegression(C=10, max_iter=500, solver=...  0.842939   0.843847   \n",
            "\n",
            "     Recall  F1-score  \n",
            "0  0.842939  0.842599  \n",
            "\n",
            "Evaluation when solver = liblinear, penalty = l1 and C = 1:\n",
            "                                               Model  Accuracy  Precision  \\\n",
            "0  LogisticRegression(C=1, max_iter=500, penalty=...  0.859813   0.860482   \n",
            "\n",
            "     Recall  F1-score  \n",
            "0  0.859813  0.859553  \n",
            "\n",
            "Evaluation when solver = liblinear, penalty = l1 and C = 10:\n",
            "                                               Model  Accuracy  Precision  \\\n",
            "0  LogisticRegression(C=10, max_iter=500, penalty...    0.9081   0.908492   \n",
            "\n",
            "   Recall  F1-score  \n",
            "0  0.9081  0.907942  \n",
            "\n",
            "Evaluation when solver = lbfgs, penalty = l2 and C = 1:\n",
            "                                   Model  Accuracy  Precision    Recall  \\\n",
            "0  LogisticRegression(C=1, max_iter=500)  0.803479   0.802435  0.803479   \n",
            "\n",
            "   F1-score  \n",
            "0   0.80188  \n",
            "\n",
            "Evaluation when solver = lbfgs, penalty = l2 and C = 10:\n",
            "                                    Model  Accuracy  Precision    Recall  \\\n",
            "0  LogisticRegression(C=10, max_iter=500)  0.866563   0.866927  0.866563   \n",
            "\n",
            "   F1-score  \n",
            "0  0.866534  \n",
            "\n"
          ]
        },
        {
          "output_type": "error",
          "ename": "ValueError",
          "evalue": "Solver lbfgs supports only 'l2' or None penalties, got l1 penalty.",
          "traceback": [
            "\u001b[0;31m---------------------------------------------------------------------------\u001b[0m",
            "\u001b[0;31mValueError\u001b[0m                                Traceback (most recent call last)",
            "\u001b[0;32m<ipython-input-22-26ea19ecf218>\u001b[0m in \u001b[0;36m<cell line: 0>\u001b[0;34m()\u001b[0m\n\u001b[1;32m     14\u001b[0m     \u001b[0;32mfor\u001b[0m \u001b[0mc\u001b[0m \u001b[0;32min\u001b[0m \u001b[0mc_values\u001b[0m\u001b[0;34m:\u001b[0m\u001b[0;34m\u001b[0m\u001b[0;34m\u001b[0m\u001b[0m\n\u001b[1;32m     15\u001b[0m       \u001b[0mlogistic_regression\u001b[0m \u001b[0;34m=\u001b[0m \u001b[0mLogisticRegression\u001b[0m\u001b[0;34m(\u001b[0m\u001b[0mpenalty\u001b[0m\u001b[0;34m=\u001b[0m\u001b[0mpenalty\u001b[0m\u001b[0;34m,\u001b[0m \u001b[0mC\u001b[0m\u001b[0;34m=\u001b[0m\u001b[0mc\u001b[0m\u001b[0;34m,\u001b[0m \u001b[0msolver\u001b[0m\u001b[0;34m=\u001b[0m\u001b[0msolver\u001b[0m\u001b[0;34m,\u001b[0m \u001b[0mmax_iter\u001b[0m\u001b[0;34m=\u001b[0m\u001b[0mbest_max_iter\u001b[0m\u001b[0;34m)\u001b[0m\u001b[0;34m\u001b[0m\u001b[0;34m\u001b[0m\u001b[0m\n\u001b[0;32m---> 16\u001b[0;31m       \u001b[0mlogistic_regression\u001b[0m\u001b[0;34m.\u001b[0m\u001b[0mfit\u001b[0m\u001b[0;34m(\u001b[0m\u001b[0mx_train\u001b[0m\u001b[0;34m,\u001b[0m \u001b[0my_train\u001b[0m\u001b[0;34m)\u001b[0m\u001b[0;34m\u001b[0m\u001b[0;34m\u001b[0m\u001b[0m\n\u001b[0m\u001b[1;32m     17\u001b[0m \u001b[0;34m\u001b[0m\u001b[0m\n\u001b[1;32m     18\u001b[0m       \u001b[0mprint\u001b[0m\u001b[0;34m(\u001b[0m\u001b[0;34mf\"Evaluation when solver = {solver}, penalty = {penalty} and C = {c}:\"\u001b[0m\u001b[0;34m)\u001b[0m\u001b[0;34m\u001b[0m\u001b[0;34m\u001b[0m\u001b[0m\n",
            "\u001b[0;32m/usr/local/lib/python3.11/dist-packages/sklearn/base.py\u001b[0m in \u001b[0;36mwrapper\u001b[0;34m(estimator, *args, **kwargs)\u001b[0m\n\u001b[1;32m   1387\u001b[0m                 )\n\u001b[1;32m   1388\u001b[0m             ):\n\u001b[0;32m-> 1389\u001b[0;31m                 \u001b[0;32mreturn\u001b[0m \u001b[0mfit_method\u001b[0m\u001b[0;34m(\u001b[0m\u001b[0mestimator\u001b[0m\u001b[0;34m,\u001b[0m \u001b[0;34m*\u001b[0m\u001b[0margs\u001b[0m\u001b[0;34m,\u001b[0m \u001b[0;34m**\u001b[0m\u001b[0mkwargs\u001b[0m\u001b[0;34m)\u001b[0m\u001b[0;34m\u001b[0m\u001b[0;34m\u001b[0m\u001b[0m\n\u001b[0m\u001b[1;32m   1390\u001b[0m \u001b[0;34m\u001b[0m\u001b[0m\n\u001b[1;32m   1391\u001b[0m         \u001b[0;32mreturn\u001b[0m \u001b[0mwrapper\u001b[0m\u001b[0;34m\u001b[0m\u001b[0;34m\u001b[0m\u001b[0m\n",
            "\u001b[0;32m/usr/local/lib/python3.11/dist-packages/sklearn/linear_model/_logistic.py\u001b[0m in \u001b[0;36mfit\u001b[0;34m(self, X, y, sample_weight)\u001b[0m\n\u001b[1;32m   1191\u001b[0m         \u001b[0mThe\u001b[0m \u001b[0mSAGA\u001b[0m \u001b[0msolver\u001b[0m \u001b[0msupports\u001b[0m \u001b[0mboth\u001b[0m \u001b[0mfloat64\u001b[0m \u001b[0;32mand\u001b[0m \u001b[0mfloat32\u001b[0m \u001b[0mbit\u001b[0m \u001b[0marrays\u001b[0m\u001b[0;34m.\u001b[0m\u001b[0;34m\u001b[0m\u001b[0;34m\u001b[0m\u001b[0m\n\u001b[1;32m   1192\u001b[0m         \"\"\"\n\u001b[0;32m-> 1193\u001b[0;31m         \u001b[0msolver\u001b[0m \u001b[0;34m=\u001b[0m \u001b[0m_check_solver\u001b[0m\u001b[0;34m(\u001b[0m\u001b[0mself\u001b[0m\u001b[0;34m.\u001b[0m\u001b[0msolver\u001b[0m\u001b[0;34m,\u001b[0m \u001b[0mself\u001b[0m\u001b[0;34m.\u001b[0m\u001b[0mpenalty\u001b[0m\u001b[0;34m,\u001b[0m \u001b[0mself\u001b[0m\u001b[0;34m.\u001b[0m\u001b[0mdual\u001b[0m\u001b[0;34m)\u001b[0m\u001b[0;34m\u001b[0m\u001b[0;34m\u001b[0m\u001b[0m\n\u001b[0m\u001b[1;32m   1194\u001b[0m \u001b[0;34m\u001b[0m\u001b[0m\n\u001b[1;32m   1195\u001b[0m         \u001b[0;32mif\u001b[0m \u001b[0mself\u001b[0m\u001b[0;34m.\u001b[0m\u001b[0mpenalty\u001b[0m \u001b[0;34m!=\u001b[0m \u001b[0;34m\"elasticnet\"\u001b[0m \u001b[0;32mand\u001b[0m \u001b[0mself\u001b[0m\u001b[0;34m.\u001b[0m\u001b[0ml1_ratio\u001b[0m \u001b[0;32mis\u001b[0m \u001b[0;32mnot\u001b[0m \u001b[0;32mNone\u001b[0m\u001b[0;34m:\u001b[0m\u001b[0;34m\u001b[0m\u001b[0;34m\u001b[0m\u001b[0m\n",
            "\u001b[0;32m/usr/local/lib/python3.11/dist-packages/sklearn/linear_model/_logistic.py\u001b[0m in \u001b[0;36m_check_solver\u001b[0;34m(solver, penalty, dual)\u001b[0m\n\u001b[1;32m     61\u001b[0m \u001b[0;32mdef\u001b[0m \u001b[0m_check_solver\u001b[0m\u001b[0;34m(\u001b[0m\u001b[0msolver\u001b[0m\u001b[0;34m,\u001b[0m \u001b[0mpenalty\u001b[0m\u001b[0;34m,\u001b[0m \u001b[0mdual\u001b[0m\u001b[0;34m)\u001b[0m\u001b[0;34m:\u001b[0m\u001b[0;34m\u001b[0m\u001b[0;34m\u001b[0m\u001b[0m\n\u001b[1;32m     62\u001b[0m     \u001b[0;32mif\u001b[0m \u001b[0msolver\u001b[0m \u001b[0;32mnot\u001b[0m \u001b[0;32min\u001b[0m \u001b[0;34m[\u001b[0m\u001b[0;34m\"liblinear\"\u001b[0m\u001b[0;34m,\u001b[0m \u001b[0;34m\"saga\"\u001b[0m\u001b[0;34m]\u001b[0m \u001b[0;32mand\u001b[0m \u001b[0mpenalty\u001b[0m \u001b[0;32mnot\u001b[0m \u001b[0;32min\u001b[0m \u001b[0;34m(\u001b[0m\u001b[0;34m\"l2\"\u001b[0m\u001b[0;34m,\u001b[0m \u001b[0;32mNone\u001b[0m\u001b[0;34m)\u001b[0m\u001b[0;34m:\u001b[0m\u001b[0;34m\u001b[0m\u001b[0;34m\u001b[0m\u001b[0m\n\u001b[0;32m---> 63\u001b[0;31m         raise ValueError(\n\u001b[0m\u001b[1;32m     64\u001b[0m             \u001b[0;34mf\"Solver {solver} supports only 'l2' or None penalties, got {penalty} \"\u001b[0m\u001b[0;34m\u001b[0m\u001b[0;34m\u001b[0m\u001b[0m\n\u001b[1;32m     65\u001b[0m             \u001b[0;34m\"penalty.\"\u001b[0m\u001b[0;34m\u001b[0m\u001b[0;34m\u001b[0m\u001b[0m\n",
            "\u001b[0;31mValueError\u001b[0m: Solver lbfgs supports only 'l2' or None penalties, got l1 penalty."
          ]
        }
      ]
    },
    {
      "cell_type": "markdown",
      "source": [
        "**The liblinear solver with l1 penalty and C = 10 performs the best overall, achieving the highest scores in all metrics**"
      ],
      "metadata": {
        "id": "64bJj_MiC0FG"
      }
    },
    {
      "cell_type": "code",
      "source": [
        "'''\n",
        "Last trial:\n",
        "we will use the best found parameters for the logistic regression model with dataset StandardScaler\n",
        "'''\n",
        "from sklearn.preprocessing import StandardScaler\n",
        "scaler = StandardScaler()\n",
        "X_train_scaled = scaler.fit_transform(x_train)\n",
        "X_dev_scaled = scaler.transform(x_dev)\n",
        "\n",
        "logistic_regression = LogisticRegression(penalty='l2', C=10, solver='liblinear', max_iter=500)\n",
        "logistic_regression.fit(X_train_scaled, y_train)\n",
        "\n",
        "print(evaluate_model(logistic_regression, X_dev_scaled, y_dev))"
      ],
      "metadata": {
        "colab": {
          "base_uri": "https://localhost:8080/"
        },
        "id": "jEPRrMwsinDF",
        "outputId": "0f55fc71-9f0b-47df-a14d-059f1e56e340"
      },
      "execution_count": null,
      "outputs": [
        {
          "output_type": "stream",
          "name": "stdout",
          "text": [
            "                                               Model  Accuracy  Precision  \\\n",
            "0  LogisticRegression(C=10, max_iter=500, solver=...  0.921599   0.921947   \n",
            "\n",
            "     Recall  F1-score  \n",
            "0  0.921599  0.921418  \n"
          ]
        }
      ]
    },
    {
      "cell_type": "markdown",
      "source": [
        "**Logistic Regression — Best Hyperparameter Combination:**\n",
        "\n",
        "1. Apply StandardScaler() to standardize the datasets.\n",
        "\n",
        "2. Set max_iter = 500 for a sufficient number of iterations.\n",
        "\n",
        "3. Use solver = 'liblinear' for efficient optimization.\n",
        "\n",
        "4. Set the regularization parameter C = 10 to balance bias and variance.\n",
        "\n",
        "5. Apply penalty = 'l2' to use L2 regularization, which helps prevent overfitting.\n",
        "\n"
      ],
      "metadata": {
        "id": "6H6vmGSHEb0J"
      }
    },
    {
      "cell_type": "code",
      "source": [
        "# Final Evaluation on the test_df\n",
        "from sklearn.preprocessing import StandardScaler\n",
        "\n",
        "scaler = StandardScaler()\n",
        "X_train_scaled = scaler.fit_transform(final_x_train_df)\n",
        "X_test_scaled = scaler.transform(x_test)\n",
        "\n",
        "logistic_regression = LogisticRegression(penalty='l2', C=10, solver='liblinear', max_iter=500)\n",
        "logistic_regression.fit(X_train_scaled, final_y_train_df)\n",
        "\n",
        "log_reg_score = evaluate_model(logistic_regression, X_test_scaled, y_test)\n",
        "print(log_reg_score)\n",
        "append_to_csv(log_reg_score)"
      ],
      "metadata": {
        "colab": {
          "base_uri": "https://localhost:8080/"
        },
        "id": "SZH2BA7zEH2B",
        "outputId": "ad14118a-89df-4e89-a4a9-fbb151520029"
      },
      "execution_count": null,
      "outputs": [
        {
          "output_type": "stream",
          "name": "stdout",
          "text": [
            "                                               Model  Accuracy  Precision  \\\n",
            "0  LogisticRegression(C=10, max_iter=500, solver=...  0.930667   0.930706   \n",
            "\n",
            "     Recall  F1-score  \n",
            "0  0.930667  0.930359  \n",
            "Data saved to /content/drive/My Drive/scores_after_tuning.csv\n"
          ]
        }
      ]
    },
    {
      "cell_type": "markdown",
      "source": [
        "##**2. Decision Tree**"
      ],
      "metadata": {
        "id": "7kEN1r1JgGoN"
      }
    },
    {
      "cell_type": "code",
      "execution_count": null,
      "metadata": {
        "id": "IqieMsdcjfBq",
        "colab": {
          "base_uri": "https://localhost:8080/"
        },
        "outputId": "0a83d172-2a1c-4fb6-d14a-4cc28fd081a1"
      },
      "outputs": [
        {
          "output_type": "stream",
          "name": "stdout",
          "text": [
            "                      Model  Accuracy  Precision    Recall  F1-score\n",
            "0  DecisionTreeClassifier()  0.853583   0.855773  0.853583  0.854184\n",
            "Data saved to /content/drive/My Drive/scores using defualt hyperparas.csv\n"
          ]
        }
      ],
      "source": [
        "from sklearn.tree import DecisionTreeClassifier\n",
        "\n",
        "decision_tree = DecisionTreeClassifier()\n",
        "decision_tree.fit(x_train, y_train)\n",
        "\n",
        "dt_score = evaluate_model(decision_tree, x_dev, y_dev)\n",
        "print(dt_score)\n",
        "append_to_csv(dt_score, file_path='/content/drive/My Drive/scores using defualt hyperparas.csv')"
      ]
    },
    {
      "cell_type": "markdown",
      "source": [
        "*Decision Tree -- Hyperparameter tuning trials*"
      ],
      "metadata": {
        "id": "b1dftKCmHrK2"
      }
    },
    {
      "cell_type": "code",
      "source": [
        "'''\n",
        "1st trial:\n",
        "'criterion': ['gini', 'entropy']\n",
        "'''\n",
        "\n",
        "criterion_values = ['gini', 'entropy']\n",
        "\n",
        "for criterion in criterion_values:\n",
        "  decision_tree = DecisionTreeClassifier(criterion=criterion)\n",
        "  decision_tree.fit(x_train, y_train)\n",
        "\n",
        "  print(f\"Evaluation when criterion = {criterion}:\")\n",
        "  print(evaluate_model(decision_tree, x_dev, y_dev))\n",
        "  print()"
      ],
      "metadata": {
        "colab": {
          "base_uri": "https://localhost:8080/"
        },
        "id": "CmmukrvBHdhC",
        "outputId": "a96cd4e7-6301-4617-9368-e3555ec8662b"
      },
      "execution_count": null,
      "outputs": [
        {
          "output_type": "stream",
          "name": "stdout",
          "text": [
            "Evaluation when criterion = gini:\n",
            "                      Model  Accuracy  Precision    Recall  F1-score\n",
            "0  DecisionTreeClassifier()  0.849429   0.851069  0.849429  0.849727\n",
            "\n",
            "Evaluation when criterion = entropy:\n",
            "                                         Model  Accuracy  Precision    Recall  \\\n",
            "0  DecisionTreeClassifier(criterion='entropy')  0.869159   0.870129  0.869159   \n",
            "\n",
            "   F1-score  \n",
            "0  0.869367  \n",
            "\n"
          ]
        }
      ]
    },
    {
      "cell_type": "markdown",
      "source": [
        "**Switching to entropy has resulted in a noticeable improvement in all metrics**"
      ],
      "metadata": {
        "id": "espNeXXeLWom"
      }
    },
    {
      "cell_type": "code",
      "source": [
        "'''\n",
        "2nd trial:\n",
        "max_depth': [None, 5, 10, 20, 50]\n",
        "'''\n",
        "\n",
        "max_depth_values = [None, 5, 10, 20, 50, 60]\n",
        "\n",
        "for max_depth in max_depth_values:\n",
        "  for criterion in criterion_values:\n",
        "    decision_tree = DecisionTreeClassifier(criterion=criterion, max_depth=max_depth)\n",
        "    decision_tree.fit(x_train, y_train)\n",
        "\n",
        "    print(f\"Evaluation when max_depth = {max_depth} and criterion = {criterion}:\")\n",
        "    print(evaluate_model(decision_tree, x_dev, y_dev))\n",
        "    print()"
      ],
      "metadata": {
        "colab": {
          "base_uri": "https://localhost:8080/"
        },
        "id": "aeR8O93pLVvq",
        "outputId": "ef420cd6-9c18-4271-e1c8-2eb82c7f2f61"
      },
      "execution_count": null,
      "outputs": [
        {
          "output_type": "stream",
          "name": "stdout",
          "text": [
            "Evaluation when max_depth = None and criterion = gini:\n",
            "                      Model  Accuracy  Precision    Recall  F1-score\n",
            "0  DecisionTreeClassifier()  0.848131   0.849891  0.848131  0.848453\n",
            "\n",
            "Evaluation when max_depth = None and criterion = entropy:\n",
            "                                         Model  Accuracy  Precision    Recall  \\\n",
            "0  DecisionTreeClassifier(criterion='entropy')  0.864486   0.866229  0.864486   \n",
            "\n",
            "   F1-score  \n",
            "0  0.864904  \n",
            "\n",
            "Evaluation when max_depth = 5 and criterion = gini:\n",
            "                                 Model  Accuracy  Precision    Recall  \\\n",
            "0  DecisionTreeClassifier(max_depth=5)  0.420301   0.331413  0.420301   \n",
            "\n",
            "   F1-score  \n",
            "0   0.34901  \n",
            "\n"
          ]
        },
        {
          "output_type": "stream",
          "name": "stderr",
          "text": [
            "/usr/local/lib/python3.11/dist-packages/sklearn/metrics/_classification.py:1565: UndefinedMetricWarning: Precision is ill-defined and being set to 0.0 in labels with no predicted samples. Use `zero_division` parameter to control this behavior.\n",
            "  _warn_prf(average, modifier, f\"{metric.capitalize()} is\", len(result))\n"
          ]
        },
        {
          "output_type": "stream",
          "name": "stdout",
          "text": [
            "Evaluation when max_depth = 5 and criterion = entropy:\n",
            "                                               Model  Accuracy  Precision  \\\n",
            "0  DecisionTreeClassifier(criterion='entropy', ma...  0.531672   0.545335   \n",
            "\n",
            "     Recall  F1-score  \n",
            "0  0.531672  0.505554  \n",
            "\n"
          ]
        },
        {
          "output_type": "stream",
          "name": "stderr",
          "text": [
            "/usr/local/lib/python3.11/dist-packages/sklearn/metrics/_classification.py:1565: UndefinedMetricWarning: Precision is ill-defined and being set to 0.0 in labels with no predicted samples. Use `zero_division` parameter to control this behavior.\n",
            "  _warn_prf(average, modifier, f\"{metric.capitalize()} is\", len(result))\n"
          ]
        },
        {
          "output_type": "stream",
          "name": "stdout",
          "text": [
            "Evaluation when max_depth = 10 and criterion = gini:\n",
            "                                  Model  Accuracy  Precision    Recall  \\\n",
            "0  DecisionTreeClassifier(max_depth=10)  0.705607   0.761448  0.705607   \n",
            "\n",
            "   F1-score  \n",
            "0  0.716794  \n",
            "\n",
            "Evaluation when max_depth = 10 and criterion = entropy:\n",
            "                                               Model  Accuracy  Precision  \\\n",
            "0  DecisionTreeClassifier(criterion='entropy', ma...  0.820093   0.830566   \n",
            "\n",
            "     Recall  F1-score  \n",
            "0  0.820093  0.822113  \n",
            "\n",
            "Evaluation when max_depth = 20 and criterion = gini:\n",
            "                                  Model  Accuracy  Precision    Recall  \\\n",
            "0  DecisionTreeClassifier(max_depth=20)  0.851246   0.853648  0.851246   \n",
            "\n",
            "   F1-score  \n",
            "0   0.85193  \n",
            "\n",
            "Evaluation when max_depth = 20 and criterion = entropy:\n",
            "                                               Model  Accuracy  Precision  \\\n",
            "0  DecisionTreeClassifier(criterion='entropy', ma...   0.86838   0.869643   \n",
            "\n",
            "    Recall  F1-score  \n",
            "0  0.86838  0.868719  \n",
            "\n",
            "Evaluation when max_depth = 50 and criterion = gini:\n",
            "                                  Model  Accuracy  Precision    Recall  \\\n",
            "0  DecisionTreeClassifier(max_depth=50)  0.851506   0.853268  0.851506   \n",
            "\n",
            "   F1-score  \n",
            "0  0.851911  \n",
            "\n",
            "Evaluation when max_depth = 50 and criterion = entropy:\n",
            "                                               Model  Accuracy  Precision  \\\n",
            "0  DecisionTreeClassifier(criterion='entropy', ma...  0.865784   0.867122   \n",
            "\n",
            "     Recall  F1-score  \n",
            "0  0.865784  0.866012  \n",
            "\n",
            "Evaluation when max_depth = 60 and criterion = gini:\n",
            "                                  Model  Accuracy  Precision    Recall  \\\n",
            "0  DecisionTreeClassifier(max_depth=60)  0.851246   0.852973  0.851246   \n",
            "\n",
            "   F1-score  \n",
            "0  0.851572  \n",
            "\n",
            "Evaluation when max_depth = 60 and criterion = entropy:\n",
            "                                               Model  Accuracy  Precision  \\\n",
            "0  DecisionTreeClassifier(criterion='entropy', ma...  0.865265   0.866621   \n",
            "\n",
            "     Recall  F1-score  \n",
            "0  0.865265  0.865641  \n",
            "\n"
          ]
        }
      ]
    },
    {
      "cell_type": "markdown",
      "source": [
        "* Entropy leads to higher accuracy, precision, recall, and F1-score in almost every case\n",
        "* Accuracy peaks around max_depth=20 or max_depth=50\n",
        "*  **Optimal depth = 20 with entropy, balancing performance and complexity**\n",
        "\n"
      ],
      "metadata": {
        "id": "ni9scSQ1Mn3-"
      }
    },
    {
      "cell_type": "code",
      "source": [
        "'''\n",
        "3rd trial:\n",
        "min_samples_split: [2, 5, 10, 20]\n",
        "'''\n",
        "min_samples_split_values = [2, 5, 10, 20]\n",
        "criterion = 'entropy'\n",
        "max_depth = 20\n",
        "\n",
        "for min_samples_split in min_samples_split_values:\n",
        "  decision_tree = DecisionTreeClassifier(criterion=criterion, max_depth=max_depth, min_samples_split=min_samples_split)\n",
        "  decision_tree.fit(x_train, y_train)\n",
        "\n",
        "  print(f\"Evaluation when min_samples_split = {min_samples_split}:\")\n",
        "  print(evaluate_model(decision_tree, x_dev, y_dev))\n",
        "  print()\n"
      ],
      "metadata": {
        "colab": {
          "base_uri": "https://localhost:8080/"
        },
        "id": "X3fUr9M9MnVE",
        "outputId": "c2fc8208-ec33-40c3-f966-63062327fc28"
      },
      "execution_count": null,
      "outputs": [
        {
          "output_type": "stream",
          "name": "stdout",
          "text": [
            "Evaluation when min_samples_split = 2:\n",
            "                                               Model  Accuracy  Precision  \\\n",
            "0  DecisionTreeClassifier(criterion='entropy', ma...  0.870457   0.871471   \n",
            "\n",
            "     Recall  F1-score  \n",
            "0  0.870457  0.870588  \n",
            "\n",
            "Evaluation when min_samples_split = 5:\n",
            "                                               Model  Accuracy  Precision  \\\n",
            "0  DecisionTreeClassifier(criterion='entropy', ma...  0.868899    0.87017   \n",
            "\n",
            "     Recall  F1-score  \n",
            "0  0.868899  0.869108  \n",
            "\n",
            "Evaluation when min_samples_split = 10:\n",
            "                                               Model  Accuracy  Precision  \\\n",
            "0  DecisionTreeClassifier(criterion='entropy', ma...  0.866563    0.86828   \n",
            "\n",
            "     Recall  F1-score  \n",
            "0  0.866563  0.866964  \n",
            "\n",
            "Evaluation when min_samples_split = 20:\n",
            "                                               Model  Accuracy  Precision  \\\n",
            "0  DecisionTreeClassifier(criterion='entropy', ma...  0.861371     0.8638   \n",
            "\n",
            "     Recall  F1-score  \n",
            "0  0.861371  0.861937  \n",
            "\n"
          ]
        }
      ]
    },
    {
      "cell_type": "markdown",
      "source": [
        "**The default value min_samples_split=2 gives the best performance across all metrics.**"
      ],
      "metadata": {
        "id": "bWpku0DwOmKy"
      }
    },
    {
      "cell_type": "code",
      "source": [
        "'''\n",
        "4th trial:\n",
        "min_samples_leaf = [1, 2, 4]\n",
        "'''\n",
        "min_samples_leaf_values = [1, 2, 4, 6]\n",
        "criterion = 'entropy'\n",
        "max_depth = 20\n",
        "min_samples_split = 2\n",
        "\n",
        "for min_samples_leaf_values in min_samples_leaf_values:\n",
        "  decision_tree = DecisionTreeClassifier(criterion=criterion, max_depth=max_depth, min_samples_split=min_samples_split, min_samples_leaf=min_samples_leaf_values)\n",
        "  decision_tree.fit(x_train, y_train)\n",
        "\n",
        "  print(f\"Evaluation when min_samples_leaf = {min_samples_leaf_values}:\")\n",
        "  print(evaluate_model(decision_tree, x_dev, y_dev))\n",
        "  print()"
      ],
      "metadata": {
        "colab": {
          "base_uri": "https://localhost:8080/"
        },
        "id": "_PVzzvK7RiE7",
        "outputId": "728038db-0d6d-4705-faae-a9fb6c955166"
      },
      "execution_count": null,
      "outputs": [
        {
          "output_type": "stream",
          "name": "stdout",
          "text": [
            "Evaluation when min_samples_leaf = 1:\n",
            "                                               Model  Accuracy  Precision  \\\n",
            "0  DecisionTreeClassifier(criterion='entropy', ma...  0.871755   0.873293   \n",
            "\n",
            "     Recall  F1-score  \n",
            "0  0.871755  0.872148  \n",
            "Evaluation when min_samples_leaf = 2:\n",
            "                                               Model  Accuracy  Precision  \\\n",
            "0  DecisionTreeClassifier(criterion='entropy', ma...  0.866563   0.868499   \n",
            "\n",
            "     Recall  F1-score  \n",
            "0  0.866563  0.866874  \n",
            "Evaluation when min_samples_leaf = 4:\n",
            "                                               Model  Accuracy  Precision  \\\n",
            "0  DecisionTreeClassifier(criterion='entropy', ma...  0.874091    0.87598   \n",
            "\n",
            "     Recall  F1-score  \n",
            "0  0.874091  0.874428  \n",
            "Evaluation when min_samples_leaf = 6:\n",
            "                                               Model  Accuracy  Precision  \\\n",
            "0  DecisionTreeClassifier(criterion='entropy', ma...  0.877985   0.880042   \n",
            "\n",
            "     Recall  F1-score  \n",
            "0  0.877985  0.878314  \n"
          ]
        }
      ]
    },
    {
      "cell_type": "markdown",
      "source": [
        "**Performance peaks at min_samples_leaf = 6, where the model achieves the highest scores across all metrics**"
      ],
      "metadata": {
        "id": "IoKUr9HzOp0U"
      }
    },
    {
      "cell_type": "code",
      "source": [
        "'''\n",
        "5th trial:\n",
        "max_features = ['auto', 'sqrt', 'log2', None]\n",
        "'''\n",
        "\n",
        "max_features_values = ['sqrt', 'log2', None, 0.5, 5, 50]\n",
        "criterion = 'entropy'\n",
        "max_depth = 20\n",
        "min_samples_split = 2\n",
        "min_samples_leaf = 6\n",
        "\n",
        "for max_features in max_features_values:\n",
        "  decision_tree = DecisionTreeClassifier(criterion=criterion, max_depth=max_depth, min_samples_split=min_samples_split, min_samples_leaf=min_samples_leaf, max_features=max_features)\n",
        "\n",
        "  decision_tree.fit(x_train, y_train)\n",
        "\n",
        "  print(f\"Evaluation when max_features = {max_features}:\")\n",
        "  print(evaluate_model(decision_tree, x_dev, y_dev))\n",
        "  print()"
      ],
      "metadata": {
        "colab": {
          "base_uri": "https://localhost:8080/"
        },
        "id": "4ykcDRfqSe6D",
        "outputId": "000cb8aa-0d29-46f6-c101-11238894de76"
      },
      "execution_count": null,
      "outputs": [
        {
          "output_type": "stream",
          "name": "stdout",
          "text": [
            "Evaluation when max_features = sqrt:\n",
            "                                               Model  Accuracy  Precision  \\\n",
            "0  DecisionTreeClassifier(criterion='entropy', ma...  0.753894   0.754416   \n",
            "\n",
            "     Recall  F1-score  \n",
            "0  0.753894  0.753429  \n",
            "\n",
            "Evaluation when max_features = log2:\n",
            "                                               Model  Accuracy  Precision  \\\n",
            "0  DecisionTreeClassifier(criterion='entropy', ma...  0.759346   0.762974   \n",
            "\n",
            "     Recall  F1-score  \n",
            "0  0.759346  0.759955  \n",
            "\n",
            "Evaluation when max_features = None:\n",
            "                                               Model  Accuracy  Precision  \\\n",
            "0  DecisionTreeClassifier(criterion='entropy', ma...  0.876687   0.878254   \n",
            "\n",
            "     Recall  F1-score  \n",
            "0  0.876687  0.876807  \n",
            "\n",
            "Evaluation when max_features = 0.5:\n",
            "                                               Model  Accuracy  Precision  \\\n",
            "0  DecisionTreeClassifier(criterion='entropy', ma...   0.84891   0.850665   \n",
            "\n",
            "    Recall  F1-score  \n",
            "0  0.84891  0.849023  \n",
            "\n",
            "Evaluation when max_features = 5:\n",
            "                                               Model  Accuracy  Precision  \\\n",
            "0  DecisionTreeClassifier(criterion='entropy', ma...  0.734683   0.738683   \n",
            "\n",
            "     Recall  F1-score  \n",
            "0  0.734683  0.735787  \n",
            "\n",
            "Evaluation when max_features = 50:\n",
            "                                               Model  Accuracy  Precision  \\\n",
            "0  DecisionTreeClassifier(criterion='entropy', ma...  0.855919   0.856816   \n",
            "\n",
            "     Recall  F1-score  \n",
            "0  0.855919  0.856075  \n",
            "\n"
          ]
        }
      ]
    },
    {
      "cell_type": "markdown",
      "source": [
        "**max_features = None gives the highest performance across all metrics**"
      ],
      "metadata": {
        "id": "u4qJDxubThqe"
      }
    },
    {
      "cell_type": "code",
      "source": [
        "'''\n",
        "6th trial:\n",
        " 'max_leaf_nodes': [None, 10, 20, 50]\n",
        "'''\n",
        "\n",
        "max_leaf_nodes_values = [None, 10, 20, 50, 500]\n",
        "criterion = 'entropy'\n",
        "max_depth = 20\n",
        "min_samples_split = 2\n",
        "min_samples_leaf = 6\n",
        "max_features = None\n",
        "\n",
        "for max_leaf_nodes in max_leaf_nodes_values:\n",
        "  decision_tree = DecisionTreeClassifier(criterion=criterion, max_depth=max_depth, min_samples_split=min_samples_split, min_samples_leaf=min_samples_leaf, max_features=max_features, max_leaf_nodes=max_leaf_nodes)\n",
        "\n",
        "  decision_tree.fit(x_train, y_train)\n",
        "\n",
        "  print(f\"Evaluation when max_leaf_nodes = {max_leaf_nodes}:\")\n",
        "  print(evaluate_model(decision_tree, x_dev, y_dev))"
      ],
      "metadata": {
        "colab": {
          "base_uri": "https://localhost:8080/"
        },
        "id": "rj1V4DCoUZa_",
        "outputId": "ca869526-239d-4444-8a63-3a128d0db7d9"
      },
      "execution_count": null,
      "outputs": [
        {
          "output_type": "stream",
          "name": "stdout",
          "text": [
            "Evaluation when max_leaf_nodes = None:\n",
            "                                               Model  Accuracy  Precision  \\\n",
            "0  DecisionTreeClassifier(criterion='entropy', ma...  0.877726   0.879648   \n",
            "\n",
            "     Recall  F1-score  \n",
            "0  0.877726  0.877913  \n",
            "Evaluation when max_leaf_nodes = 10:\n",
            "                                               Model  Accuracy  Precision  \\\n",
            "0  DecisionTreeClassifier(criterion='entropy', ma...   0.38162   0.198017   \n",
            "\n",
            "    Recall  F1-score  \n",
            "0  0.38162  0.252898  \n"
          ]
        },
        {
          "output_type": "stream",
          "name": "stderr",
          "text": [
            "/usr/local/lib/python3.11/dist-packages/sklearn/metrics/_classification.py:1565: UndefinedMetricWarning: Precision is ill-defined and being set to 0.0 in labels with no predicted samples. Use `zero_division` parameter to control this behavior.\n",
            "  _warn_prf(average, modifier, f\"{metric.capitalize()} is\", len(result))\n"
          ]
        },
        {
          "output_type": "stream",
          "name": "stdout",
          "text": [
            "Evaluation when max_leaf_nodes = 20:\n",
            "                                               Model  Accuracy  Precision  \\\n",
            "0  DecisionTreeClassifier(criterion='entropy', ma...   0.51324   0.506059   \n",
            "\n",
            "    Recall  F1-score  \n",
            "0  0.51324   0.47888  \n"
          ]
        },
        {
          "output_type": "stream",
          "name": "stderr",
          "text": [
            "/usr/local/lib/python3.11/dist-packages/sklearn/metrics/_classification.py:1565: UndefinedMetricWarning: Precision is ill-defined and being set to 0.0 in labels with no predicted samples. Use `zero_division` parameter to control this behavior.\n",
            "  _warn_prf(average, modifier, f\"{metric.capitalize()} is\", len(result))\n"
          ]
        },
        {
          "output_type": "stream",
          "name": "stdout",
          "text": [
            "Evaluation when max_leaf_nodes = 50:\n",
            "                                               Model  Accuracy  Precision  \\\n",
            "0  DecisionTreeClassifier(criterion='entropy', ma...   0.67108   0.670194   \n",
            "\n",
            "    Recall  F1-score  \n",
            "0  0.67108  0.660924  \n",
            "Evaluation when max_leaf_nodes = 500:\n",
            "                                               Model  Accuracy  Precision  \\\n",
            "0  DecisionTreeClassifier(criterion='entropy', ma...  0.873053   0.875901   \n",
            "\n",
            "     Recall  F1-score  \n",
            "0  0.873053  0.873371  \n"
          ]
        }
      ]
    },
    {
      "cell_type": "markdown",
      "source": [
        "**max_leaf_nodes = None is again the best, with an F1-score of 87.79%**"
      ],
      "metadata": {
        "id": "qfPavVshU4YP"
      }
    },
    {
      "cell_type": "markdown",
      "source": [
        "**DecisionTreeClassifier -- Best Hyperparameters**\n",
        "\n",
        "* criterion='entropy',\n",
        "* max_depth=20,\n",
        "* min_samples_split=2,\n",
        "* min_samples_leaf=6,\n",
        "* max_features=None,\n",
        "* max_leaf_nodes=None"
      ],
      "metadata": {
        "id": "4z8QtAFxU8xt"
      }
    },
    {
      "cell_type": "code",
      "source": [
        "# Decision Tree model using the best hyperparameters and evaluate it on test_df\n",
        "decision_tree = DecisionTreeClassifier(criterion='entropy', max_depth=20, min_samples_split=2, min_samples_leaf=6, max_features=None, max_leaf_nodes=None)\n",
        "decision_tree.fit(final_x_train_df, final_y_train_df)\n",
        "\n",
        "decision_tree_score = evaluate_model(decision_tree, x_test, y_test)\n",
        "print(decision_tree_score)\n",
        "append_to_csv(decision_tree_score)"
      ],
      "metadata": {
        "colab": {
          "base_uri": "https://localhost:8080/"
        },
        "outputId": "6942e6a5-1631-409c-e738-080820a6a9f5",
        "id": "tCUEt5CZESaN"
      },
      "execution_count": null,
      "outputs": [
        {
          "output_type": "stream",
          "name": "stdout",
          "text": [
            "                                               Model  Accuracy  Precision  \\\n",
            "0  DecisionTreeClassifier(criterion='entropy', ma...  0.868086   0.869012   \n",
            "\n",
            "     Recall  F1-score  \n",
            "0  0.868086  0.868076  \n",
            "Data saved to /content/drive/My Drive/scores_after_tuning.csv\n"
          ]
        }
      ]
    },
    {
      "cell_type": "markdown",
      "source": [
        "##**3. Random Forest**"
      ],
      "metadata": {
        "id": "Pc0FHzWwg0Pr"
      }
    },
    {
      "cell_type": "code",
      "source": [
        "from sklearn.ensemble import RandomForestClassifier\n",
        "\n",
        "random_forest = RandomForestClassifier()\n",
        "random_forest.fit(x_train, y_train)\n",
        "\n",
        "rf_score = evaluate_model(random_forest, x_dev, y_dev)\n",
        "print(rf_score)\n",
        "append_to_csv(rf_score, file_path='/content/drive/My Drive/scores using defualt hyperparas.csv')"
      ],
      "metadata": {
        "colab": {
          "base_uri": "https://localhost:8080/"
        },
        "id": "kfwfDRdIEiwm",
        "outputId": "22757c1f-6b7b-4abd-91b3-8428db045161"
      },
      "execution_count": null,
      "outputs": [
        {
          "output_type": "stream",
          "name": "stdout",
          "text": [
            "                                               Model  Accuracy  Precision  \\\n",
            "0  (DecisionTreeClassifier(max_features='sqrt', r...  0.938733   0.939686   \n",
            "\n",
            "     Recall  F1-score  \n",
            "0  0.938733  0.938756  \n",
            "Data saved to /content/drive/My Drive/scores using defualt hyperparas.csv\n"
          ]
        }
      ]
    },
    {
      "cell_type": "markdown",
      "source": [
        "*Random Forest -- hyperparameter tuning*"
      ],
      "metadata": {
        "id": "VYaOsu8ZXkMu"
      }
    },
    {
      "cell_type": "code",
      "source": [
        "'''\n",
        "1st trial:\n",
        "criterion = ['gini', 'entropy']\n",
        "'''\n",
        "\n",
        "criterion_values = ['gini', 'entropy']\n",
        "\n",
        "for criterion in criterion_values:\n",
        "  random_forest = RandomForestClassifier(criterion=criterion)\n",
        "  random_forest.fit(x_train, y_train)\n",
        "\n",
        "  print(f\"Evaluation when criterion = {criterion}:\")\n",
        "  print(evaluate_model(random_forest, x_dev, y_dev))\n",
        "  print()"
      ],
      "metadata": {
        "colab": {
          "base_uri": "https://localhost:8080/"
        },
        "id": "vsoi5bgtZBQu",
        "outputId": "2dbc7c48-58b2-4a9c-805f-ee646539adc6"
      },
      "execution_count": null,
      "outputs": [
        {
          "output_type": "stream",
          "name": "stdout",
          "text": [
            "Evaluation when criterion = gini:\n",
            "                                               Model  Accuracy  Precision  \\\n",
            "0  (DecisionTreeClassifier(max_features='sqrt', r...  0.941329   0.942272   \n",
            "\n",
            "     Recall  F1-score  \n",
            "0  0.941329  0.941415  \n",
            "\n",
            "Evaluation when criterion = entropy:\n",
            "                                               Model  Accuracy  Precision  \\\n",
            "0  (DecisionTreeClassifier(criterion='entropy', m...  0.935618   0.936264   \n",
            "\n",
            "     Recall  F1-score  \n",
            "0  0.935618  0.935678  \n",
            "\n"
          ]
        }
      ]
    },
    {
      "cell_type": "code",
      "source": [
        "'''\n",
        "2st trial:\n",
        "n_estimators = [50, 100, 200, 300, 500]\n",
        "'''\n",
        "\n",
        "n_estimators_values = [50, 100, 200, 300, 500]\n",
        "criterion = 'gini'\n",
        "\n",
        "for n_estimators in n_estimators_values:\n",
        "  random_forest = RandomForestClassifier(n_estimators=n_estimators, criterion=criterion)\n",
        "  random_forest.fit(x_train, y_train)\n",
        "\n",
        "  print(f\"Evaluation when n_estimators = {n_estimators}:\")\n",
        "  print(evaluate_model(random_forest, x_dev, y_dev))\n",
        "  print()\n"
      ],
      "metadata": {
        "colab": {
          "base_uri": "https://localhost:8080/"
        },
        "id": "MB9vaMphWpvE",
        "outputId": "53928627-246f-411e-cfe7-7205111e98f0"
      },
      "execution_count": null,
      "outputs": [
        {
          "output_type": "stream",
          "name": "stdout",
          "text": [
            "Evaluation when n_estimators = 50:\n",
            "                                               Model  Accuracy  Precision  \\\n",
            "0  (DecisionTreeClassifier(max_features='sqrt', r...  0.934839   0.935595   \n",
            "\n",
            "     Recall  F1-score  \n",
            "0  0.934839  0.934868  \n",
            "\n",
            "Evaluation when n_estimators = 100:\n",
            "                                               Model  Accuracy  Precision  \\\n",
            "0  (DecisionTreeClassifier(max_features='sqrt', r...  0.937954   0.938769   \n",
            "\n",
            "     Recall  F1-score  \n",
            "0  0.937954  0.937994  \n",
            "\n",
            "Evaluation when n_estimators = 200:\n",
            "                                               Model  Accuracy  Precision  \\\n",
            "0  (DecisionTreeClassifier(max_features='sqrt', r...  0.938993   0.940046   \n",
            "\n",
            "     Recall  F1-score  \n",
            "0  0.938993  0.939161  \n",
            "\n",
            "Evaluation when n_estimators = 300:\n",
            "                                               Model  Accuracy  Precision  \\\n",
            "0  (DecisionTreeClassifier(max_features='sqrt', r...  0.937954   0.938854   \n",
            "\n",
            "     Recall  F1-score  \n",
            "0  0.937954  0.938039  \n",
            "\n",
            "Evaluation when n_estimators = 500:\n",
            "                                               Model  Accuracy  Precision  \\\n",
            "0  (DecisionTreeClassifier(max_features='sqrt', r...  0.941329   0.941916   \n",
            "\n",
            "     Recall  F1-score  \n",
            "0  0.941329  0.941276  \n",
            "\n"
          ]
        }
      ]
    },
    {
      "cell_type": "markdown",
      "source": [
        "**The best performance is achieved when n_estimators = 500**"
      ],
      "metadata": {
        "id": "VKO92QK9Y7qf"
      }
    },
    {
      "cell_type": "code",
      "source": [
        "'''\n",
        "3th trial:\n",
        "max_depth = [None, 10, 20, 30, 50]\n",
        "'''\n",
        "max_leaf_nodes_values = [None, 10, 20, 30, 50]\n",
        "criterion = 'gini'\n",
        "n_estimators = 500\n",
        "\n",
        "for max_depth in max_leaf_nodes_values:\n",
        "  random_forest = RandomForestClassifier(n_estimators=n_estimators, criterion=criterion, max_depth=max_depth)\n",
        "  random_forest.fit(x_train, y_train)\n",
        "\n",
        "  print(f\"Evaluation when max_depth = {max_depth}:\")\n",
        "  print(evaluate_model(random_forest, x_dev, y_dev))\n",
        "  print()"
      ],
      "metadata": {
        "colab": {
          "base_uri": "https://localhost:8080/"
        },
        "id": "lJBZarjgY8TY",
        "outputId": "e741f6ac-a764-4ba9-8bdb-d3cf7dd6ca7e"
      },
      "execution_count": null,
      "outputs": [
        {
          "output_type": "stream",
          "name": "stdout",
          "text": [
            "Evaluation when max_depth = None:\n",
            "                                               Model  Accuracy  Precision  \\\n",
            "0  (DecisionTreeClassifier(max_features='sqrt', r...  0.942108   0.942626   \n",
            "\n",
            "     Recall  F1-score  \n",
            "0  0.942108  0.942131  \n",
            "\n",
            "Evaluation when max_depth = 10:\n",
            "                                               Model  Accuracy  Precision  \\\n",
            "0  (DecisionTreeClassifier(max_depth=10, max_feat...   0.86812   0.871832   \n",
            "\n",
            "    Recall  F1-score  \n",
            "0  0.86812  0.866858  \n",
            "\n",
            "Evaluation when max_depth = 20:\n",
            "                                               Model  Accuracy  Precision  \\\n",
            "0  (DecisionTreeClassifier(max_depth=20, max_feat...  0.940031   0.940635   \n",
            "\n",
            "     Recall  F1-score  \n",
            "0  0.940031  0.940101  \n",
            "\n",
            "Evaluation when max_depth = 30:\n",
            "                                               Model  Accuracy  Precision  \\\n",
            "0  (DecisionTreeClassifier(max_depth=30, max_feat...  0.942368   0.943029   \n",
            "\n",
            "     Recall  F1-score  \n",
            "0  0.942368  0.942399  \n",
            "\n",
            "Evaluation when max_depth = 50:\n",
            "                                               Model  Accuracy  Precision  \\\n",
            "0  (DecisionTreeClassifier(max_depth=50, max_feat...  0.939252   0.939977   \n",
            "\n",
            "     Recall  F1-score  \n",
            "0  0.939252  0.939316  \n",
            "\n"
          ]
        }
      ]
    },
    {
      "cell_type": "markdown",
      "source": [
        "**Best Performance: The best performance is observed when max_depth = None**"
      ],
      "metadata": {
        "id": "A_r56QdKiR9R"
      }
    },
    {
      "cell_type": "code",
      "source": [
        "'''\n",
        "4th trial:\n",
        "max_features = ['auto', 'sqrt', 'log2', None]\n",
        "'''\n",
        "\n",
        "max_features_values = ['sqrt', 'log2', None, 0.5, 5, 50]\n",
        "criterion = 'gini'\n",
        "n_estimators = 500\n",
        "max_depth = None\n",
        "\n",
        "for max_features in max_features_values:\n",
        "  random_forest = RandomForestClassifier(n_estimators=n_estimators, criterion=criterion, max_depth=max_depth, max_features=max_features)\n",
        "  random_forest.fit(x_train, y_train)\n",
        "\n",
        "  print(f\"Evaluation when max_features = {max_features}:\")\n",
        "  print(evaluate_model(random_forest, x_dev, y_dev))\n",
        "  print()"
      ],
      "metadata": {
        "colab": {
          "base_uri": "https://localhost:8080/"
        },
        "id": "ZmSHOaEOgbux",
        "outputId": "774e54f1-2acd-45f0-926a-0fbb9a91bb8b"
      },
      "execution_count": null,
      "outputs": [
        {
          "output_type": "stream",
          "name": "stdout",
          "text": [
            "Evaluation when max_features = sqrt:\n",
            "                                               Model  Accuracy  Precision  \\\n",
            "0  (DecisionTreeClassifier(max_features='sqrt', r...  0.943146   0.943844   \n",
            "\n",
            "     Recall  F1-score  \n",
            "0  0.943146   0.94318  \n",
            "\n",
            "Evaluation when max_features = log2:\n",
            "                                               Model  Accuracy  Precision  \\\n",
            "0  (DecisionTreeClassifier(max_features='log2', r...  0.937695   0.938641   \n",
            "\n",
            "     Recall  F1-score  \n",
            "0  0.937695  0.937784  \n",
            "\n",
            "Evaluation when max_features = None:\n",
            "                                               Model  Accuracy  Precision  \\\n",
            "0  (DecisionTreeClassifier(random_state=89961200)...  0.923157   0.924555   \n",
            "\n",
            "     Recall  F1-score  \n",
            "0  0.923157  0.923413  \n",
            "\n",
            "Evaluation when max_features = 0.5:\n",
            "                                               Model  Accuracy  Precision  \\\n",
            "0  (DecisionTreeClassifier(max_features=0.5, rand...  0.943406   0.944241   \n",
            "\n",
            "     Recall  F1-score  \n",
            "0  0.943406   0.94353  \n",
            "\n",
            "Evaluation when max_features = 5:\n",
            "                                               Model  Accuracy  Precision  \\\n",
            "0  (DecisionTreeClassifier(max_features=5, random...  0.938474   0.939217   \n",
            "\n",
            "     Recall  F1-score  \n",
            "0  0.938474  0.938491  \n",
            "\n",
            "Evaluation when max_features = 50:\n",
            "                                               Model  Accuracy  Precision  \\\n",
            "0  (DecisionTreeClassifier(max_features=50, rando...  0.935618   0.936852   \n",
            "\n",
            "     Recall  F1-score  \n",
            "0  0.935618  0.935812  \n",
            "\n"
          ]
        }
      ]
    },
    {
      "cell_type": "markdown",
      "source": [
        "**Best Performance: The best performance is observed when max_features = ['sqr', 0.5]**"
      ],
      "metadata": {
        "id": "CgRr6lCZqw1A"
      }
    },
    {
      "cell_type": "code",
      "source": [
        "'''\n",
        "5th trial:\n",
        "min_samples_split = [2, 5, 10, 20]\n",
        "with max_features = 'sqrt'\n",
        "'''\n",
        "min_samples_split_values = [2, 5, 10, 20]\n",
        "criterion = 'gini'\n",
        "n_estimators = 500\n",
        "max_depth = None\n",
        "max_features = 'sqrt'\n",
        "\n",
        "for min_samples_split in min_samples_split_values:\n",
        "  random_forest = RandomForestClassifier(n_estimators=n_estimators, criterion=criterion, max_depth=max_depth, max_features=max_features, min_samples_split=min_samples_split)\n",
        "  random_forest.fit(x_train, y_train)\n",
        "\n",
        "  print(f\"Evaluation when min_samples_split = {min_samples_split}:\")\n",
        "  print(evaluate_model(random_forest, x_dev, y_dev))\n",
        "  print()"
      ],
      "metadata": {
        "colab": {
          "base_uri": "https://localhost:8080/"
        },
        "id": "tssf3kNXmMB_",
        "outputId": "ec907989-1a6a-47ad-b7e6-a030d86bb1b1"
      },
      "execution_count": null,
      "outputs": [
        {
          "output_type": "stream",
          "name": "stdout",
          "text": [
            "Evaluation when min_samples_split = 2:\n",
            "                                               Model  Accuracy  Precision  \\\n",
            "0  (DecisionTreeClassifier(max_features='sqrt', r...  0.941848    0.94259   \n",
            "\n",
            "     Recall  F1-score  \n",
            "0  0.941848  0.941902  \n",
            "\n",
            "Evaluation when min_samples_split = 5:\n",
            "                                               Model  Accuracy  Precision  \\\n",
            "0  (DecisionTreeClassifier(max_features='sqrt', m...  0.939772   0.940489   \n",
            "\n",
            "     Recall  F1-score  \n",
            "0  0.939772  0.939855  \n",
            "\n",
            "Evaluation when min_samples_split = 10:\n",
            "                                               Model  Accuracy  Precision  \\\n",
            "0  (DecisionTreeClassifier(max_features='sqrt', m...  0.938214    0.93881   \n",
            "\n",
            "     Recall  F1-score  \n",
            "0  0.938214   0.93824  \n",
            "\n",
            "Evaluation when min_samples_split = 20:\n",
            "                                               Model  Accuracy  Precision  \\\n",
            "0  (DecisionTreeClassifier(max_features='sqrt', m...  0.931464   0.932013   \n",
            "\n",
            "     Recall  F1-score  \n",
            "0  0.931464  0.931425  \n",
            "\n"
          ]
        }
      ]
    },
    {
      "cell_type": "markdown",
      "source": [
        "**Best score(0.941848): when min_samples_split=2 and max_features='sqrt'**"
      ],
      "metadata": {
        "id": "JrXtcfAgNzV3"
      }
    },
    {
      "cell_type": "code",
      "source": [
        "'''\n",
        "6th trial:\n",
        "min_samples_split = [2, 5, 10, 20]\n",
        "with max_features = 0.5\n",
        "'''\n",
        "min_samples_split_values = [2, 5, 10, 20]\n",
        "criterion = 'gini'\n",
        "n_estimators = 500\n",
        "max_depth = None\n",
        "max_features = 0.5\n",
        "\n",
        "for min_samples_split in min_samples_split_values:\n",
        "  random_forest = RandomForestClassifier(n_estimators=n_estimators, criterion=criterion, max_depth=max_depth, max_features=max_features, min_samples_split=min_samples_split)\n",
        "  random_forest.fit(x_train, y_train)\n",
        "\n",
        "  print(f\"Evaluation when min_samples_split = {min_samples_split}:\")\n",
        "  print(evaluate_model(random_forest, x_dev, y_dev))\n",
        "  print()"
      ],
      "metadata": {
        "colab": {
          "base_uri": "https://localhost:8080/"
        },
        "outputId": "36ac709a-b6c2-4d27-f98e-a48c8bb1a015",
        "id": "RvRFvKJ2rj5C"
      },
      "execution_count": null,
      "outputs": [
        {
          "output_type": "stream",
          "name": "stdout",
          "text": [
            "Evaluation when min_samples_split = 2:\n",
            "                                               Model  Accuracy  Precision  \\\n",
            "0  (DecisionTreeClassifier(max_features=0.5, rand...  0.943146   0.943952   \n",
            "\n",
            "     Recall  F1-score  \n",
            "0  0.943146  0.943262  \n",
            "\n",
            "Evaluation when min_samples_split = 5:\n",
            "                                               Model  Accuracy  Precision  \\\n",
            "0  (DecisionTreeClassifier(max_features=0.5, min_...  0.943406   0.944337   \n",
            "\n",
            "     Recall  F1-score  \n",
            "0  0.943406  0.943505  \n",
            "\n",
            "Evaluation when min_samples_split = 10:\n",
            "                                               Model  Accuracy  Precision  \\\n",
            "0  (DecisionTreeClassifier(max_features=0.5, min_...  0.942627   0.943595   \n",
            "\n",
            "     Recall  F1-score  \n",
            "0  0.942627   0.94274  \n",
            "\n",
            "Evaluation when min_samples_split = 20:\n",
            "                                               Model  Accuracy  Precision  \\\n",
            "0  (DecisionTreeClassifier(max_features=0.5, min_...  0.936137   0.937178   \n",
            "\n",
            "     Recall  F1-score  \n",
            "0  0.936137  0.936268  \n",
            "\n"
          ]
        }
      ]
    },
    {
      "cell_type": "markdown",
      "source": [
        "* **Best score(0.943406): when min_samples_split=5 and max_features=0.5**\n",
        "* This is better than min_samples_split=2 and max_features='sqr', but takes more time during training"
      ],
      "metadata": {
        "id": "WjxonHYZOSEw"
      }
    },
    {
      "cell_type": "code",
      "source": [
        "'''\n",
        "7th trial:\n",
        "min_samples_leaf = [1, 2, 4, 6]\n",
        "'''\n",
        "min_samples_leaf_values = [1, 2, 4, 6]\n",
        "criterion = 'gini'\n",
        "n_estimators = 500\n",
        "max_depth = None\n",
        "max_features = 'sqrt'\n",
        "min_samples_split = 2\n",
        "\n",
        "for min_samples_leaf in min_samples_leaf_values:\n",
        "  random_forest = RandomForestClassifier(n_estimators=n_estimators, criterion=criterion, max_depth=max_depth, max_features=max_features, min_samples_split=min_samples_split, min_samples_leaf=min_samples_leaf)\n",
        "  random_forest.fit(x_train, y_train)\n",
        "\n",
        "  print(f\"Evaluation when min_samples_leaf = {min_samples_leaf}:\")\n",
        "  print(evaluate_model(random_forest, x_dev, y_dev))"
      ],
      "metadata": {
        "colab": {
          "base_uri": "https://localhost:8080/"
        },
        "id": "4KjopQEZqpfM",
        "outputId": "538c082d-067a-4205-d0ff-2d9bbc7fb975"
      },
      "execution_count": null,
      "outputs": [
        {
          "output_type": "stream",
          "name": "stdout",
          "text": [
            "Evaluation when min_samples_leaf = 1:\n",
            "                                               Model  Accuracy  Precision  \\\n",
            "0  (DecisionTreeClassifier(max_features='sqrt', r...  0.942627   0.943444   \n",
            "\n",
            "     Recall  F1-score  \n",
            "0  0.942627  0.942672  \n",
            "Evaluation when min_samples_leaf = 2:\n",
            "                                               Model  Accuracy  Precision  \\\n",
            "0  (DecisionTreeClassifier(max_features='sqrt', m...  0.942368   0.943035   \n",
            "\n",
            "     Recall  F1-score  \n",
            "0  0.942368  0.942405  \n",
            "Evaluation when min_samples_leaf = 4:\n",
            "                                               Model  Accuracy  Precision  \\\n",
            "0  (DecisionTreeClassifier(max_features='sqrt', m...   0.93406   0.934757   \n",
            "\n",
            "    Recall  F1-score  \n",
            "0  0.93406  0.934056  \n",
            "Evaluation when min_samples_leaf = 6:\n",
            "                                               Model  Accuracy  Precision  \\\n",
            "0  (DecisionTreeClassifier(max_features='sqrt', m...  0.928609   0.929229   \n",
            "\n",
            "     Recall  F1-score  \n",
            "0  0.928609   0.92852  \n"
          ]
        }
      ]
    },
    {
      "cell_type": "code",
      "source": [
        "'''\n",
        "8th trial:\n",
        "bootstrap = [True, False]\n",
        "'''\n",
        "\n",
        "bootstrap_values = [True, False]\n",
        "criterion = 'gini'\n",
        "n_estimators = 500\n",
        "max_depth = None\n",
        "max_features = 'sqrt'\n",
        "min_samples_split = 5\n",
        "min_samples_leaf = 2\n",
        "\n",
        "for bootstrap in bootstrap_values:\n",
        "  random_forest = RandomForestClassifier(n_estimators=n_estimators, criterion=criterion, max_depth=max_depth, max_features=max_features, min_samples_split=min_samples_split, min_samples_leaf=min_samples_leaf, bootstrap=bootstrap)\n",
        "  random_forest.fit(x_train, y_train)\n",
        "\n",
        "  print(f\"Evaluation when bootstrap = {bootstrap}:\")\n",
        "  print(evaluate_model(random_forest, x_dev, y_dev))\n",
        "  print()"
      ],
      "metadata": {
        "colab": {
          "base_uri": "https://localhost:8080/"
        },
        "id": "E5WgsW7exvve",
        "outputId": "d4b23a20-f528-4b41-f110-659cd2819346"
      },
      "execution_count": null,
      "outputs": [
        {
          "output_type": "stream",
          "name": "stdout",
          "text": [
            "Evaluation when bootstrap = True:\n",
            "                                               Model  Accuracy  Precision  \\\n",
            "0  (DecisionTreeClassifier(max_features='sqrt', m...  0.938993   0.939584   \n",
            "\n",
            "     Recall  F1-score  \n",
            "0  0.938993  0.938994  \n",
            "\n",
            "Evaluation when bootstrap = False:\n",
            "                                               Model  Accuracy  Precision  \\\n",
            "0  (DecisionTreeClassifier(max_features='sqrt', m...  0.945742   0.946558   \n",
            "\n",
            "     Recall  F1-score  \n",
            "0  0.945742   0.94579  \n",
            "\n"
          ]
        }
      ]
    },
    {
      "cell_type": "markdown",
      "source": [
        "**It seems that bootstrap = False provides the best results for the RandomForest model**"
      ],
      "metadata": {
        "id": "jLf4GxXB8K2Z"
      }
    },
    {
      "cell_type": "markdown",
      "source": [
        "**RandomForest -- Best Hyperparameters:**\n",
        "\n",
        "1. n_estimators: 500\n",
        "2. max_depth = None\n",
        "3. max_features: sqrt\n",
        "4. bootstrap: False\n",
        "5. criterion = 'gini'\n",
        "6. min_samples_split = 2\n",
        "7. min_samples_leaf = 1"
      ],
      "metadata": {
        "id": "XeX9b16R8SQJ"
      }
    },
    {
      "cell_type": "code",
      "source": [
        "from sklearn.ensemble import RandomForestClassifier\n",
        "\n",
        "n_estimators = 500\n",
        "max_depth = None\n",
        "max_features = 'sqrt'\n",
        "bootstrap = False\n",
        "criterion = 'gini'\n",
        "min_samples_split = 2\n",
        "min_samples_leaf = 1\n",
        "\n",
        "random_forest = RandomForestClassifier(\n",
        "    n_estimators=n_estimators,\n",
        "    max_depth=max_depth,\n",
        "    max_features=max_features,\n",
        "    bootstrap=bootstrap,\n",
        "    criterion=criterion,\n",
        "    min_samples_split=min_samples_split,\n",
        "    min_samples_leaf=min_samples_leaf)\n",
        "\n",
        "random_forest.fit(final_x_train_df, final_y_train_df)\n",
        "\n",
        "random_forest_score = evaluate_model(random_forest, x_test, y_test)\n",
        "print(random_forest_score)\n",
        "\n",
        "append_to_csv(random_forest_score)"
      ],
      "metadata": {
        "colab": {
          "base_uri": "https://localhost:8080/"
        },
        "id": "lF9DvCE466Sk",
        "outputId": "cabfda6c-a159-4ad6-be9e-eab5b3c0791d"
      },
      "execution_count": null,
      "outputs": [
        {
          "output_type": "stream",
          "name": "stdout",
          "text": [
            "                                               Model  Accuracy  Precision  \\\n",
            "0  (DecisionTreeClassifier(max_features='sqrt', r...   0.95274    0.95336   \n",
            "\n",
            "    Recall  F1-score  \n",
            "0  0.95274  0.952854  \n",
            "Data saved to /content/drive/My Drive/scores_after_tuning.csv\n"
          ]
        }
      ]
    },
    {
      "cell_type": "markdown",
      "source": [
        "##**4. Support Vector Machine (SVM)**"
      ],
      "metadata": {
        "id": "oTDQkIofg4jt"
      }
    },
    {
      "cell_type": "code",
      "source": [
        "from sklearn.svm import SVC\n",
        "\n",
        "svm = SVC()\n",
        "svm.fit(x_train, y_train)\n",
        "\n",
        "svm_scores = evaluate_model(svm, x_dev, y_dev)\n",
        "print(svm_scores)\n",
        "append_to_csv(svm_scores, file_path='/content/drive/My Drive/scores using defualt hyperparas.csv')"
      ],
      "metadata": {
        "colab": {
          "base_uri": "https://localhost:8080/"
        },
        "id": "zOxxRVjZgzJa",
        "outputId": "9ba97162-d947-465f-d56f-2a913127123d"
      },
      "execution_count": null,
      "outputs": [
        {
          "output_type": "stream",
          "name": "stdout",
          "text": [
            "   Model  Accuracy  Precision    Recall  F1-score\n",
            "0  SVC()  0.835929   0.857081  0.835929  0.838628\n",
            "Data saved to /content/drive/My Drive/scores using defualt hyperparas.csv\n"
          ]
        }
      ]
    },
    {
      "cell_type": "markdown",
      "source": [
        "*Support Vector Machine (SVM) -- Hyperparameter Tuning*"
      ],
      "metadata": {
        "id": "qseznUZMAvCR"
      }
    },
    {
      "cell_type": "code",
      "source": [
        "'''\n",
        "1st trial:\n",
        "C = [0.001, 0.01, 0.1, 1, 10, 100]\n",
        "'''\n",
        "\n",
        "C_values = [0.001, 0.01, 0.1, 1, 10, 100]\n",
        "\n",
        "for C in C_values:\n",
        "  svm = SVC(C=C)\n",
        "  svm.fit(x_train, y_train)\n",
        "\n",
        "  print(f\"Evaluation when C = {C}:\")\n",
        "  print(evaluate_model(svm, x_dev, y_dev))\n",
        "  print()"
      ],
      "metadata": {
        "colab": {
          "base_uri": "https://localhost:8080/"
        },
        "id": "dKiKQ7LQBDSN",
        "outputId": "b67c3498-c8fb-4994-800c-5f053891e3cc"
      },
      "execution_count": null,
      "outputs": [
        {
          "output_type": "stream",
          "name": "stdout",
          "text": [
            "Evaluation when C = 0.001:\n"
          ]
        },
        {
          "output_type": "stream",
          "name": "stderr",
          "text": [
            "/usr/local/lib/python3.11/dist-packages/sklearn/metrics/_classification.py:1565: UndefinedMetricWarning: Precision is ill-defined and being set to 0.0 in labels with no predicted samples. Use `zero_division` parameter to control this behavior.\n",
            "  _warn_prf(average, modifier, f\"{metric.capitalize()} is\", len(result))\n"
          ]
        },
        {
          "output_type": "stream",
          "name": "stdout",
          "text": [
            "          Model  Accuracy  Precision    Recall  F1-score\n",
            "0  SVC(C=0.001)  0.063603   0.004045  0.063603  0.007607\n",
            "\n",
            "Evaluation when C = 0.01:\n"
          ]
        },
        {
          "output_type": "stream",
          "name": "stderr",
          "text": [
            "/usr/local/lib/python3.11/dist-packages/sklearn/metrics/_classification.py:1565: UndefinedMetricWarning: Precision is ill-defined and being set to 0.0 in labels with no predicted samples. Use `zero_division` parameter to control this behavior.\n",
            "  _warn_prf(average, modifier, f\"{metric.capitalize()} is\", len(result))\n"
          ]
        },
        {
          "output_type": "stream",
          "name": "stdout",
          "text": [
            "         Model  Accuracy  Precision    Recall  F1-score\n",
            "0  SVC(C=0.01)  0.247923   0.169615  0.247923   0.17617\n",
            "\n",
            "Evaluation when C = 0.1:\n"
          ]
        },
        {
          "output_type": "stream",
          "name": "stderr",
          "text": [
            "/usr/local/lib/python3.11/dist-packages/sklearn/metrics/_classification.py:1565: UndefinedMetricWarning: Precision is ill-defined and being set to 0.0 in labels with no predicted samples. Use `zero_division` parameter to control this behavior.\n",
            "  _warn_prf(average, modifier, f\"{metric.capitalize()} is\", len(result))\n"
          ]
        },
        {
          "output_type": "stream",
          "name": "stdout",
          "text": [
            "        Model  Accuracy  Precision    Recall  F1-score\n",
            "0  SVC(C=0.1)  0.598131   0.653946  0.598131  0.584203\n",
            "\n",
            "Evaluation when C = 1:\n",
            "      Model  Accuracy  Precision    Recall  F1-score\n",
            "0  SVC(C=1)  0.835929   0.857081  0.835929  0.838628\n",
            "\n",
            "Evaluation when C = 10:\n",
            "       Model  Accuracy  Precision    Recall  F1-score\n",
            "0  SVC(C=10)  0.922118   0.926731  0.922118  0.922418\n",
            "\n",
            "Evaluation when C = 100:\n",
            "        Model  Accuracy  Precision    Recall  F1-score\n",
            "0  SVC(C=100)  0.962098   0.962886  0.962098  0.962099\n",
            "\n"
          ]
        }
      ]
    },
    {
      "cell_type": "markdown",
      "source": [
        "**Higher C values (C = 100) resulted in the best performance, as the model became more flexible and fit the data better**"
      ],
      "metadata": {
        "id": "78PIwMATSok_"
      }
    },
    {
      "cell_type": "code",
      "source": [
        "'''\n",
        "2nd trial:\n",
        "kernel = ['linear', 'poly', 'rbf', 'sigmoid']\n",
        "'''\n",
        "kernel_values = ['linear', 'poly', 'rbf', 'sigmoid']\n",
        "c_value = 100\n",
        "\n",
        "for kernel in kernel_values:\n",
        "  svm = SVC(C=c_value, kernel=kernel)\n",
        "  svm.fit(x_train, y_train)\n",
        "\n",
        "  print(f\"Evaluation when kernel = {kernel}:\")\n",
        "  print(evaluate_model(svm, x_dev, y_dev))\n",
        "  print()"
      ],
      "metadata": {
        "colab": {
          "base_uri": "https://localhost:8080/"
        },
        "id": "Ip4-3PCOBQnF",
        "outputId": "b68cf99d-0a84-4fc2-ae3d-cccb4bb5ed4d"
      },
      "execution_count": null,
      "outputs": [
        {
          "output_type": "stream",
          "name": "stdout",
          "text": [
            "Evaluation when kernel = linear:\n",
            "                         Model  Accuracy  Precision    Recall  F1-score\n",
            "0  SVC(C=100, kernel='linear')  0.905244    0.90601  0.905244  0.905253\n",
            "\n",
            "Evaluation when kernel = poly:\n",
            "                       Model  Accuracy  Precision  Recall  F1-score\n",
            "0  SVC(C=100, kernel='poly')    0.9081   0.920624  0.9081  0.910049\n",
            "\n",
            "Evaluation when kernel = rbf:\n",
            "        Model  Accuracy  Precision    Recall  F1-score\n",
            "0  SVC(C=100)  0.962098   0.962886  0.962098  0.962099\n",
            "\n",
            "Evaluation when kernel = sigmoid:\n",
            "                          Model  Accuracy  Precision    Recall  F1-score\n",
            "0  SVC(C=100, kernel='sigmoid')  0.259865   0.434971  0.259865  0.272413\n",
            "\n"
          ]
        }
      ]
    },
    {
      "cell_type": "markdown",
      "source": [
        "**RBF kernel performed the best**"
      ],
      "metadata": {
        "id": "vp2_5nZ3TW-i"
      }
    },
    {
      "cell_type": "code",
      "source": [
        "'''\n",
        "3rd trial:\n",
        "gamma = ['scale', 'auto', , 0.1, 1]\n",
        "'''\n",
        "gamma_values = ['scale', 'auto', 0.1, 1]\n",
        "kernel_value = 'rbf'\n",
        "c_value = 100\n",
        "\n",
        "for gamma in gamma_values:\n",
        "  svm = SVC(C=c_value, kernel=kernel_value, gamma=gamma)\n",
        "  svm.fit(x_train, y_train)\n",
        "\n",
        "  print(f\"Evaluation when gamma = {gamma}, c = {c}:\")\n",
        "  print(evaluate_model(svm, x_dev, y_dev))\n",
        "  print()"
      ],
      "metadata": {
        "colab": {
          "base_uri": "https://localhost:8080/"
        },
        "id": "spjVQT-FC3ow",
        "outputId": "d55165a3-4113-4420-ef5a-b9bb58d4b24e"
      },
      "execution_count": null,
      "outputs": [
        {
          "output_type": "stream",
          "name": "stdout",
          "text": [
            "Evaluation when gamma = scale, c = 100:\n",
            "        Model  Accuracy  Precision    Recall  F1-score\n",
            "0  SVC(C=100)  0.962098   0.962886  0.962098  0.962099\n",
            "\n",
            "Evaluation when gamma = auto, c = 100:\n",
            "                      Model  Accuracy  Precision    Recall  F1-score\n",
            "0  SVC(C=100, gamma='auto')  0.872015   0.877281  0.872015   0.87225\n",
            "\n",
            "Evaluation when gamma = 0.1, c = 100:\n",
            "                   Model  Accuracy  Precision    Recall  F1-score\n",
            "0  SVC(C=100, gamma=0.1)  0.944964   0.946966  0.944964  0.945065\n",
            "\n",
            "Evaluation when gamma = 1, c = 100:\n",
            "                 Model  Accuracy  Precision    Recall  F1-score\n",
            "0  SVC(C=100, gamma=1)  0.968588   0.968901  0.968588  0.968592\n",
            "\n"
          ]
        }
      ]
    },
    {
      "cell_type": "markdown",
      "source": [
        "Gamma = 1 performed the best, meaning the model captured complex decision boundaries well."
      ],
      "metadata": {
        "id": "JjnGQ1beUEZy"
      }
    },
    {
      "cell_type": "code",
      "source": [
        "'''\n",
        "4th trial:\n",
        "degree = [2, 3, 4, 7]\n",
        "'''\n",
        "\n",
        "degree_values = [2, 3, 4, 7]\n",
        "kernel_values = ['rbf', 'poly']\n",
        "gamma_value = 1\n",
        "c_value = 100\n",
        "\n",
        "for degree in degree_values:\n",
        "  for kernel in kernel_values:\n",
        "    svm = SVC(C=c_value, kernel=kernel, gamma=gamma_value, degree=degree)\n",
        "    svm.fit(x_train, y_train)\n",
        "\n",
        "    print(f\"Evaluation when degree = {degree}, kernel = {kernel}:\")\n",
        "    print(evaluate_model(svm, x_dev, y_dev))\n",
        "    print()\n"
      ],
      "metadata": {
        "colab": {
          "base_uri": "https://localhost:8080/"
        },
        "id": "5MjLFmToEQUR",
        "outputId": "ce753960-a89c-4ae9-ff14-05deac00b8a4"
      },
      "execution_count": null,
      "outputs": [
        {
          "output_type": "stream",
          "name": "stdout",
          "text": [
            "Evaluation when degree = 2, kernel = rbf:\n",
            "                           Model  Accuracy  Precision    Recall  F1-score\n",
            "0  SVC(C=100, degree=2, gamma=1)  0.968588   0.968901  0.968588  0.968592\n",
            "\n",
            "Evaluation when degree = 2, kernel = poly:\n",
            "                                          Model  Accuracy  Precision  \\\n",
            "0  SVC(C=100, degree=2, gamma=1, kernel='poly')  0.975078   0.975389   \n",
            "\n",
            "     Recall  F1-score  \n",
            "0  0.975078   0.97509  \n",
            "\n",
            "Evaluation when degree = 3, kernel = rbf:\n",
            "                 Model  Accuracy  Precision    Recall  F1-score\n",
            "0  SVC(C=100, gamma=1)  0.968588   0.968901  0.968588  0.968592\n",
            "\n",
            "Evaluation when degree = 3, kernel = poly:\n",
            "                                Model  Accuracy  Precision    Recall  F1-score\n",
            "0  SVC(C=100, gamma=1, kernel='poly')  0.970665    0.97108  0.970665  0.970667\n",
            "\n",
            "Evaluation when degree = 4, kernel = rbf:\n",
            "                           Model  Accuracy  Precision    Recall  F1-score\n",
            "0  SVC(C=100, degree=4, gamma=1)  0.968588   0.968901  0.968588  0.968592\n",
            "\n",
            "Evaluation when degree = 4, kernel = poly:\n",
            "                                          Model  Accuracy  Precision  \\\n",
            "0  SVC(C=100, degree=4, gamma=1, kernel='poly')  0.956646   0.958343   \n",
            "\n",
            "     Recall  F1-score  \n",
            "0  0.956646  0.956934  \n",
            "\n",
            "Evaluation when degree = 7, kernel = rbf:\n",
            "                           Model  Accuracy  Precision    Recall  F1-score\n",
            "0  SVC(C=100, degree=7, gamma=1)  0.968588   0.968901  0.968588  0.968592\n",
            "\n",
            "Evaluation when degree = 7, kernel = poly:\n",
            "                                          Model  Accuracy  Precision  \\\n",
            "0  SVC(C=100, degree=7, gamma=1, kernel='poly')  0.885254   0.925264   \n",
            "\n",
            "     Recall  F1-score  \n",
            "0  0.885254  0.897241  \n",
            "\n"
          ]
        }
      ]
    },
    {
      "cell_type": "markdown",
      "source": [
        "1. Observations for rbf Kernel\n",
        "Degree parameter has no effect on RBF kernel.\n",
        "\n",
        "  * Accuracy remains 96.86% for all values of degree.\n",
        "\n",
        "2. Observations for poly Kernel\n",
        "Best Performance:\n",
        "\n",
        "  * Degree = 2 → 97.50% Accuracy (Best for poly kernel)"
      ],
      "metadata": {
        "id": "sdbzwbOZVeO9"
      }
    },
    {
      "cell_type": "code",
      "source": [
        "'''\n",
        "5th trial:\n",
        "probability = [True, False]\n",
        "'''\n",
        "\n",
        "probability_values = [True, False]\n",
        "kernel_value = 'poly'\n",
        "gamma_value = 1\n",
        "c_value = 100\n",
        "degree_value = 2\n",
        "\n",
        "for probability in probability_values:\n",
        "  svm = SVC(C=c_value, kernel=kernel_value, gamma=gamma_value, degree=degree_value, probability=probability)\n",
        "  svm.fit(x_train, y_train)\n",
        "\n",
        "  print(f\"Evaluation when probability = {probability}:\")\n",
        "  print(evaluate_model(svm, x_dev, y_dev))\n",
        "  print()"
      ],
      "metadata": {
        "colab": {
          "base_uri": "https://localhost:8080/"
        },
        "id": "8-s8ZHTbEm41",
        "outputId": "30c1d59e-6cc3-448c-ad40-397fc04cb98b"
      },
      "execution_count": null,
      "outputs": [
        {
          "output_type": "stream",
          "name": "stdout",
          "text": [
            "Evaluation when probability = True:\n",
            "                                               Model  Accuracy  Precision  \\\n",
            "0  SVC(C=100, degree=2, gamma=1, kernel='poly', p...  0.975078   0.975389   \n",
            "\n",
            "     Recall  F1-score  \n",
            "0  0.975078   0.97509  \n",
            "\n",
            "Evaluation when probability = False:\n",
            "                                          Model  Accuracy  Precision  \\\n",
            "0  SVC(C=100, degree=2, gamma=1, kernel='poly')  0.975078   0.975389   \n",
            "\n",
            "     Recall  F1-score  \n",
            "0  0.975078   0.97509  \n",
            "\n"
          ]
        }
      ]
    },
    {
      "cell_type": "code",
      "source": [
        "'''\n",
        "6th trial:\n",
        "class_weight = ['balanced', None]\n",
        "'''\n",
        "\n",
        "class_weight_values = ['balanced', None]\n",
        "kernel_value =  'poly'\n",
        "degree_value = 2\n",
        "gamma_value = 1\n",
        "c_value = 100\n",
        "\n",
        "for class_weight in class_weight_values:\n",
        "  svm = SVC(C=c_value, kernel=kernel_value, degree=degree_value , gamma=gamma_value, class_weight=class_weight)\n",
        "  svm.fit(x_train, y_train)\n",
        "\n",
        "  print(f\"Evaluation when class_weight = {class_weight}, c = {c}:\")\n",
        "  print(evaluate_model(svm, x_dev, y_dev))\n",
        "  print()"
      ],
      "metadata": {
        "colab": {
          "base_uri": "https://localhost:8080/"
        },
        "id": "80LDOdhFFnSH",
        "outputId": "2ad6fd27-b1ac-4153-b568-f26c0bb030b6"
      },
      "execution_count": null,
      "outputs": [
        {
          "output_type": "stream",
          "name": "stdout",
          "text": [
            "Evaluation when class_weight = balanced, c = 100:\n",
            "                                               Model  Accuracy  Precision  \\\n",
            "0  SVC(C=100, class_weight='balanced', degree=2, ...  0.974299   0.974672   \n",
            "\n",
            "     Recall  F1-score  \n",
            "0  0.974299  0.974325  \n",
            "\n",
            "Evaluation when class_weight = None, c = 100:\n",
            "                                          Model  Accuracy  Precision  \\\n",
            "0  SVC(C=100, degree=2, gamma=1, kernel='poly')  0.975078   0.975389   \n",
            "\n",
            "     Recall  F1-score  \n",
            "0  0.975078   0.97509  \n",
            "\n"
          ]
        }
      ]
    },
    {
      "cell_type": "code",
      "source": [
        "'''\n",
        "6th trial:\n",
        "class_weight = ['balanced', None]\n",
        "'''\n",
        "\n",
        "class_weight_values = ['balanced', None]\n",
        "kernel_value =  'poly'\n",
        "degree_value = 2\n",
        "gamma_value = 1\n",
        "c_value = 100\n",
        "\n",
        "for class_weight in class_weight_values:\n",
        "  svm = SVC(C=c_value, kernel=kernel_value, degree=degree_value , gamma=gamma_value, class_weight=class_weight)\n",
        "  svm.fit(x_train, y_train)\n",
        "\n",
        "  print(f\"Evaluation when class_weight = {class_weight}\")\n",
        "  print(evaluate_model(svm, x_dev, y_dev))\n",
        "  print()"
      ],
      "metadata": {
        "colab": {
          "base_uri": "https://localhost:8080/"
        },
        "outputId": "7df42738-1da7-423c-ad17-1dd02556b9d4",
        "id": "V81YEwVQIcrp"
      },
      "execution_count": null,
      "outputs": [
        {
          "output_type": "stream",
          "name": "stdout",
          "text": [
            "Evaluation when class_weight = balanced\n",
            "                                               Model  Accuracy  Precision  \\\n",
            "0  SVC(C=100, class_weight='balanced', degree=2, ...  0.974299   0.974672   \n",
            "\n",
            "     Recall  F1-score  \n",
            "0  0.974299  0.974325  \n",
            "\n",
            "Evaluation when class_weight = None\n",
            "                                          Model  Accuracy  Precision  \\\n",
            "0  SVC(C=100, degree=2, gamma=1, kernel='poly')  0.975078   0.975389   \n",
            "\n",
            "     Recall  F1-score  \n",
            "0  0.975078   0.97509  \n",
            "\n"
          ]
        }
      ]
    },
    {
      "cell_type": "markdown",
      "source": [
        "Both class_weight='balanced' and class_weight=None perform well, but class_weight=None gives slightly better results:"
      ],
      "metadata": {
        "id": "XogAOy_1Xn-s"
      }
    },
    {
      "cell_type": "markdown",
      "source": [
        "**Best SVM Hyperparameters:**\n",
        "1. class_weight = None\n",
        "2. kernel = 'poly'\n",
        "3. degree = 2\n",
        "4. gamma = 1\n",
        "5. C = 100"
      ],
      "metadata": {
        "id": "dbhTr2RTXA1k"
      }
    },
    {
      "cell_type": "code",
      "source": [
        "# Best fitted Hyperparmeters\n",
        "C_value = 100\n",
        "kernel_value = 'poly'\n",
        "degree_value = 2\n",
        "gamma_value = 1\n",
        "class_weight_value = None\n",
        "\n",
        "svm = SVC(C=C_value, kernel=kernel_value, degree=degree_value, gamma=gamma_value, class_weight=class_weight_value)\n",
        "svm.fit(final_x_train_df, final_y_train_df)\n",
        "\n",
        "svm_score = evaluate_model(svm, x_test, y_test)\n",
        "print(svm_score)\n",
        "append_to_csv(svm_score)"
      ],
      "metadata": {
        "colab": {
          "base_uri": "https://localhost:8080/"
        },
        "id": "PVLFwZKEXQXn",
        "outputId": "b3ea1012-3149-4203-d817-4826c173d7d3"
      },
      "execution_count": null,
      "outputs": [
        {
          "output_type": "stream",
          "name": "stdout",
          "text": [
            "                                          Model  Accuracy  Precision  \\\n",
            "0  SVC(C=100, degree=2, gamma=1, kernel='poly')  0.980784   0.981003   \n",
            "\n",
            "     Recall  F1-score  \n",
            "0  0.980784  0.980812  \n",
            "Data saved to /content/drive/My Drive/scores_after_tuning.csv\n"
          ]
        }
      ]
    },
    {
      "cell_type": "markdown",
      "source": [
        "##**5. k-Nearest Neighbors (k-NN)**"
      ],
      "metadata": {
        "id": "tItYowPQg_sf"
      }
    },
    {
      "cell_type": "code",
      "source": [
        "from sklearn.neighbors import KNeighborsClassifier\n",
        "\n",
        "knn = KNeighborsClassifier()\n",
        "knn.fit(x_train, y_train)\n",
        "\n",
        "knn_scores = evaluate_model(knn, x_dev, y_dev)\n",
        "print(knn_scores)\n",
        "append_to_csv(knn_scores, file_path='/content/drive/My Drive/scores using defualt hyperparas.csv')"
      ],
      "metadata": {
        "colab": {
          "base_uri": "https://localhost:8080/"
        },
        "id": "lnn_s_ZqJYDf",
        "outputId": "0b725ef7-d4fa-4152-d400-c9945a89fb36"
      },
      "execution_count": null,
      "outputs": [
        {
          "output_type": "stream",
          "name": "stdout",
          "text": [
            "                    Model  Accuracy  Precision  Recall  F1-score\n",
            "0  KNeighborsClassifier()    0.9081   0.909704  0.9081  0.908438\n",
            "Data saved to /content/drive/My Drive/scores using defualt hyperparas.csv\n"
          ]
        }
      ]
    },
    {
      "cell_type": "markdown",
      "source": [
        "*k-Nearest Neighbors (k-NN) -- Hyperparameter Tuning*"
      ],
      "metadata": {
        "id": "mzqSpAhotxpt"
      }
    },
    {
      "cell_type": "code",
      "source": [
        "'''\n",
        "1st trial:\n",
        "n_neighbors = [3, 5, 7, 9, 15, 20, 30]\n",
        "'''\n",
        "\n",
        "n_neighbors_values = [3, 5, 7, 9, 15, 20, 30]\n",
        "\n",
        "for n_neighbors in n_neighbors_values:\n",
        "  knn = KNeighborsClassifier(n_neighbors=n_neighbors)\n",
        "  knn.fit(x_train, y_train)\n",
        "\n",
        "  print(f\"Evaluation when n_neighbors = {n_neighbors}:\")\n",
        "  print(evaluate_model(knn, x_dev, y_dev))\n",
        "  print()"
      ],
      "metadata": {
        "colab": {
          "base_uri": "https://localhost:8080/"
        },
        "id": "Atm3pH_At6d4",
        "outputId": "2cfd82b4-8688-44d5-a2a7-b24d24e4aadb"
      },
      "execution_count": null,
      "outputs": [
        {
          "output_type": "stream",
          "name": "stdout",
          "text": [
            "Evaluation when n_neighbors = 3:\n",
            "                                 Model  Accuracy  Precision    Recall  \\\n",
            "0  KNeighborsClassifier(n_neighbors=3)  0.911475   0.912187  0.911475   \n",
            "\n",
            "   F1-score  \n",
            "0  0.911407  \n",
            "\n",
            "Evaluation when n_neighbors = 5:\n",
            "                    Model  Accuracy  Precision  Recall  F1-score\n",
            "0  KNeighborsClassifier()    0.9081   0.909704  0.9081  0.908438\n",
            "\n",
            "Evaluation when n_neighbors = 7:\n",
            "                                 Model  Accuracy  Precision    Recall  \\\n",
            "0  KNeighborsClassifier(n_neighbors=7)  0.905504   0.906905  0.905504   \n",
            "\n",
            "   F1-score  \n",
            "0  0.905763  \n",
            "\n",
            "Evaluation when n_neighbors = 9:\n",
            "                                 Model  Accuracy  Precision    Recall  \\\n",
            "0  KNeighborsClassifier(n_neighbors=9)  0.902648   0.904147  0.902648   \n",
            "\n",
            "   F1-score  \n",
            "0  0.902994  \n",
            "\n",
            "Evaluation when n_neighbors = 15:\n",
            "                                  Model  Accuracy  Precision    Recall  \\\n",
            "0  KNeighborsClassifier(n_neighbors=15)  0.895639   0.897631  0.895639   \n",
            "\n",
            "   F1-score  \n",
            "0  0.896051  \n",
            "\n",
            "Evaluation when n_neighbors = 20:\n",
            "                                  Model  Accuracy  Precision    Recall  \\\n",
            "0  KNeighborsClassifier(n_neighbors=20)  0.883697   0.886368  0.883697   \n",
            "\n",
            "   F1-score  \n",
            "0  0.884135  \n",
            "\n",
            "Evaluation when n_neighbors = 30:\n",
            "                                  Model  Accuracy  Precision    Recall  \\\n",
            "0  KNeighborsClassifier(n_neighbors=30)  0.870717   0.874401  0.870717   \n",
            "\n",
            "   F1-score  \n",
            "0  0.871356  \n",
            "\n"
          ]
        }
      ]
    },
    {
      "cell_type": "markdown",
      "source": [
        "Since performance slightly decreases as n_neighbors increases, **a smaller value like 3 seems optimal**"
      ],
      "metadata": {
        "id": "ZkjcPyVUvt0x"
      }
    },
    {
      "cell_type": "code",
      "source": [
        "'''\n",
        "2nd trial:\n",
        "weights = ['uniform', 'distance']\n",
        "'''\n",
        "\n",
        "weights_values = ['uniform', 'distance']\n",
        "n_neighbors_value = 3\n",
        "\n",
        "for weights in weights_values:\n",
        "  knn = KNeighborsClassifier(n_neighbors=n_neighbors_value, weights=weights)\n",
        "  knn.fit(x_train, y_train)\n",
        "\n",
        "  print(f\"Evaluation when weights = {weights}:\")\n",
        "  print(evaluate_model(knn, x_dev, y_dev))\n",
        "  print()"
      ],
      "metadata": {
        "colab": {
          "base_uri": "https://localhost:8080/"
        },
        "id": "ckSRjuxmuXSz",
        "outputId": "c647d036-8aa7-42bb-ca0f-8367ab4e3965"
      },
      "execution_count": null,
      "outputs": [
        {
          "output_type": "stream",
          "name": "stdout",
          "text": [
            "Evaluation when weights = uniform:\n",
            "                                 Model  Accuracy  Precision    Recall  \\\n",
            "0  KNeighborsClassifier(n_neighbors=3)  0.911475   0.912187  0.911475   \n",
            "\n",
            "   F1-score  \n",
            "0  0.911407  \n",
            "\n",
            "Evaluation when weights = distance:\n",
            "                                               Model  Accuracy  Precision  \\\n",
            "0  KNeighborsClassifier(n_neighbors=3, weights='d...  0.916667   0.917538   \n",
            "\n",
            "     Recall  F1-score  \n",
            "0  0.916667  0.916806  \n",
            "\n"
          ]
        }
      ]
    },
    {
      "cell_type": "markdown",
      "source": [
        "Using weights='distance' improves performance compared to weights='uniform'"
      ],
      "metadata": {
        "id": "fkACt-QZwNkQ"
      }
    },
    {
      "cell_type": "code",
      "source": [
        "'''\n",
        "3rd trial:\n",
        "algorithm = ['auto', 'ball_tree', 'kd_tree', 'brute']\n",
        "'''\n",
        "\n",
        "algorithm_values = ['auto', 'ball_tree', 'kd_tree', 'brute']\n",
        "n_neighbors_value = 3\n",
        "weights_value = 'distance'\n",
        "\n",
        "for algorithm in algorithm_values:\n",
        "  knn = KNeighborsClassifier(n_neighbors=n_neighbors_value, weights=weights_value, algorithm=algorithm)\n",
        "  knn.fit(x_train, y_train)\n",
        "\n",
        "  print(f\"Evaluation when algorithm = {algorithm}:\")\n",
        "  print(evaluate_model(knn, x_dev, y_dev))\n",
        "  print()"
      ],
      "metadata": {
        "colab": {
          "base_uri": "https://localhost:8080/"
        },
        "id": "yMoUJUUgugFV",
        "outputId": "98c8d2f1-9f44-4343-afd9-95b2633d23ee"
      },
      "execution_count": null,
      "outputs": [
        {
          "output_type": "stream",
          "name": "stdout",
          "text": [
            "Evaluation when algorithm = auto:\n",
            "                                               Model  Accuracy  Precision  \\\n",
            "0  KNeighborsClassifier(n_neighbors=3, weights='d...  0.916667   0.917538   \n",
            "\n",
            "     Recall  F1-score  \n",
            "0  0.916667  0.916806  \n",
            "\n",
            "Evaluation when algorithm = ball_tree:\n",
            "                                               Model  Accuracy  Precision  \\\n",
            "0  KNeighborsClassifier(algorithm='ball_tree', n_...  0.916667   0.917538   \n",
            "\n",
            "     Recall  F1-score  \n",
            "0  0.916667  0.916806  \n",
            "\n",
            "Evaluation when algorithm = kd_tree:\n",
            "                                               Model  Accuracy  Precision  \\\n",
            "0  KNeighborsClassifier(algorithm='kd_tree', n_ne...  0.916667   0.917538   \n",
            "\n",
            "     Recall  F1-score  \n",
            "0  0.916667  0.916806  \n",
            "\n",
            "Evaluation when algorithm = brute:\n",
            "                                               Model  Accuracy  Precision  \\\n",
            "0  KNeighborsClassifier(algorithm='brute', n_neig...  0.916667   0.917538   \n",
            "\n",
            "     Recall  F1-score  \n",
            "0  0.916667  0.916806  \n",
            "\n"
          ]
        }
      ]
    },
    {
      "cell_type": "markdown",
      "source": [
        "All algorithms (auto, ball_tree, kd_tree, brute) provide identical performance"
      ],
      "metadata": {
        "id": "mmAnIB5uwhqm"
      }
    },
    {
      "cell_type": "code",
      "source": [
        "'''\n",
        "4th trial:\n",
        "metric = ['euclidean', 'manhattan', 'minkowski']\n",
        "'''\n",
        "\n",
        "metric_values = ['euclidean', 'manhattan', 'minkowski']\n",
        "n_neighbors_value = 3\n",
        "weights_value = 'distance'\n",
        "algorithm_value = 'auto'\n",
        "\n",
        "for metric in metric_values:\n",
        "  knn = KNeighborsClassifier(n_neighbors=n_neighbors_value, weights=weights_value, algorithm=algorithm_value, metric=metric)\n",
        "  knn.fit(x_train, y_train)\n",
        "\n",
        "  print(f\"Evaluation when metric = {metric}:\")\n",
        "  print(evaluate_model(knn, x_dev, y_dev))\n",
        "  print()"
      ],
      "metadata": {
        "colab": {
          "base_uri": "https://localhost:8080/"
        },
        "id": "xK0DFW70unTQ",
        "outputId": "1dbe489d-8a08-453b-dbee-74c04b2b8ab0"
      },
      "execution_count": null,
      "outputs": [
        {
          "output_type": "stream",
          "name": "stdout",
          "text": [
            "Evaluation when metric = euclidean:\n",
            "                                               Model  Accuracy  Precision  \\\n",
            "0  KNeighborsClassifier(metric='euclidean', n_nei...  0.916667   0.917538   \n",
            "\n",
            "     Recall  F1-score  \n",
            "0  0.916667  0.916806  \n",
            "\n",
            "Evaluation when metric = manhattan:\n",
            "                                               Model  Accuracy  Precision  \\\n",
            "0  KNeighborsClassifier(metric='manhattan', n_nei...  0.884476   0.887082   \n",
            "\n",
            "     Recall  F1-score  \n",
            "0  0.884476   0.88492  \n",
            "\n",
            "Evaluation when metric = minkowski:\n",
            "                                               Model  Accuracy  Precision  \\\n",
            "0  KNeighborsClassifier(n_neighbors=3, weights='d...  0.916667   0.917538   \n",
            "\n",
            "     Recall  F1-score  \n",
            "0  0.916667  0.916806  \n",
            "\n"
          ]
        }
      ]
    },
    {
      "cell_type": "markdown",
      "source": [
        "The evaluation results show that the Euclidean and Minkowski metrics perform identically:"
      ],
      "metadata": {
        "id": "z1qCBHPkwrm2"
      }
    },
    {
      "cell_type": "code",
      "source": [
        "'''\n",
        "5th trial:\n",
        "p = [1, 2, 3]\n",
        "'''\n",
        "\n",
        "p_values = [1, 2, 3]\n",
        "n_neighbors_value = 3\n",
        "weights_value = 'distance'\n",
        "algorithm_value = 'auto'\n",
        "metric_value = 'minkowski'\n",
        "\n",
        "for p in p_values:\n",
        "  knn = KNeighborsClassifier(n_neighbors=n_neighbors_value, weights=weights_value, algorithm=algorithm_value, metric=metric_value, p=p)\n",
        "  knn.fit(x_train, y_train)\n",
        "\n",
        "  print(f\"Evaluation when p = {p}:\")\n",
        "  print(evaluate_model(knn, x_dev, y_dev))\n",
        "  print()\n"
      ],
      "metadata": {
        "colab": {
          "base_uri": "https://localhost:8080/"
        },
        "id": "oP07-J7SvCHO",
        "outputId": "eb3c48f6-1d7c-4c4b-ae99-30fe120dd7c2"
      },
      "execution_count": null,
      "outputs": [
        {
          "output_type": "stream",
          "name": "stdout",
          "text": [
            "Evaluation when p = 1:\n",
            "                                               Model  Accuracy  Precision  \\\n",
            "0  KNeighborsClassifier(n_neighbors=3, p=1, weigh...  0.884476   0.887082   \n",
            "\n",
            "     Recall  F1-score  \n",
            "0  0.884476   0.88492  \n",
            "\n",
            "Evaluation when p = 2:\n",
            "                                               Model  Accuracy  Precision  \\\n",
            "0  KNeighborsClassifier(n_neighbors=3, weights='d...  0.916667   0.917538   \n",
            "\n",
            "     Recall  F1-score  \n",
            "0  0.916667  0.916806  \n",
            "\n",
            "Evaluation when p = 3:\n",
            "                                               Model  Accuracy  Precision  \\\n",
            "0  KNeighborsClassifier(n_neighbors=3, p=3, weigh...  0.924455   0.925293   \n",
            "\n",
            "     Recall  F1-score  \n",
            "0  0.924455  0.924598  \n",
            "\n"
          ]
        }
      ]
    },
    {
      "cell_type": "markdown",
      "source": [
        "The best performing value for p is 3, which gives the highest performance across all metrics"
      ],
      "metadata": {
        "id": "XHXe3BnGw-LU"
      }
    },
    {
      "cell_type": "markdown",
      "source": [
        "**Final Best k-NN Hyperparameters:**\n",
        "1. n_neighbors=3\n",
        "2. weights='distance'\n",
        "3. algorithm='auto'\n",
        "4. metric='minkowski'\n",
        "5. p=3"
      ],
      "metadata": {
        "id": "qchkTrpvw935"
      }
    },
    {
      "cell_type": "code",
      "source": [
        "# Evaluating KNN with the best hyperparameters into test_df\n",
        "\n",
        "n_neighbors_value = 3\n",
        "weights_value = 'distance'\n",
        "algorithm_value = 'auto'\n",
        "metric_value = 'minkowski'\n",
        "p_value = 3\n",
        "\n",
        "knn = KNeighborsClassifier(n_neighbors=n_neighbors_value, weights=weights_value, algorithm=algorithm_value, metric=metric_value, p=p_value)\n",
        "knn.fit(final_x_train_df, final_y_train_df)\n",
        "\n",
        "knn_score = evaluate_model(knn, x_test, y_test)\n",
        "print(knn_score)\n",
        "append_to_csv(knn_score)"
      ],
      "metadata": {
        "colab": {
          "base_uri": "https://localhost:8080/"
        },
        "id": "9D85CZNbBVmd",
        "outputId": "1227ad54-645c-48bd-bee8-720dc745a310"
      },
      "execution_count": null,
      "outputs": [
        {
          "output_type": "stream",
          "name": "stdout",
          "text": [
            "                                               Model  Accuracy  Precision  \\\n",
            "0  KNeighborsClassifier(n_neighbors=3, p=3, weigh...  0.932485   0.933095   \n",
            "\n",
            "     Recall  F1-score  \n",
            "0  0.932485  0.932654  \n",
            "Data saved to /content/drive/My Drive/scores_after_tuning.csv\n"
          ]
        }
      ]
    },
    {
      "cell_type": "markdown",
      "source": [
        "##**6. XGBoost**"
      ],
      "metadata": {
        "id": "EYlIRy7ZhGTu"
      }
    },
    {
      "cell_type": "code",
      "source": [
        "from xgboost import XGBClassifier\n",
        "\n",
        "xgb = XGBClassifier()\n",
        "xgb.fit(x_train, y_train)\n",
        "\n",
        "xgb_score = evaluate_model(xgb, x_dev, y_dev)\n",
        "print(xgb_score)\n",
        "append_to_csv(xgb_score, file_path='/content/drive/My Drive/scores using defualt hyperparas.csv')"
      ],
      "metadata": {
        "colab": {
          "base_uri": "https://localhost:8080/"
        },
        "id": "Si1Ikue5Jwos",
        "outputId": "e507f5cf-63e2-465b-ceb6-a6f5aff8e7a3"
      },
      "execution_count": null,
      "outputs": [
        {
          "output_type": "stream",
          "name": "stdout",
          "text": [
            "                                               Model  Accuracy  Precision  \\\n",
            "0  XGBClassifier(base_score=None, booster=None, c...  0.969886   0.970357   \n",
            "\n",
            "     Recall  F1-score  \n",
            "0  0.969886  0.969903  \n",
            "Data saved to /content/drive/My Drive/scores using defualt hyperparas.csv\n"
          ]
        }
      ]
    },
    {
      "cell_type": "markdown",
      "source": [
        "*XGBoost -- Hyperparameter Tuning*"
      ],
      "metadata": {
        "id": "1AJlCZ7IyqiK"
      }
    },
    {
      "cell_type": "code",
      "source": [
        "'''\n",
        "1st trial:\n",
        "n_estimators = [100, 200, 300, 400, 500]\n",
        "'''\n",
        "\n",
        "n_estimators_values = [100, 200, 300, 400, 500]\n",
        "\n",
        "for n_estimators in n_estimators_values:\n",
        "  xgb = XGBClassifier(n_estimators=n_estimators)\n",
        "  xgb.fit(x_train, y_train)\n",
        "\n",
        "  print(f\"Evaluation when n_estimators = {n_estimators}:\")\n",
        "  print(evaluate_model(xgb, x_dev, y_dev))\n",
        "  print()"
      ],
      "metadata": {
        "colab": {
          "base_uri": "https://localhost:8080/"
        },
        "id": "AZ_dukJKIskU",
        "outputId": "c30dbc32-65d0-488a-861c-13868ec8decf"
      },
      "execution_count": null,
      "outputs": [
        {
          "output_type": "stream",
          "name": "stdout",
          "text": [
            "Evaluation when n_estimators = 100:\n",
            "                                               Model  Accuracy  Precision  \\\n",
            "0  XGBClassifier(base_score=None, booster=None, c...  0.969886   0.970357   \n",
            "\n",
            "     Recall  F1-score  \n",
            "0  0.969886  0.969903  \n",
            "\n",
            "Evaluation when n_estimators = 200:\n",
            "                                               Model  Accuracy  Precision  \\\n",
            "0  XGBClassifier(base_score=None, booster=None, c...  0.972482   0.972854   \n",
            "\n",
            "     Recall  F1-score  \n",
            "0  0.972482  0.972502  \n",
            "\n",
            "Evaluation when n_estimators = 300:\n",
            "                                               Model  Accuracy  Precision  \\\n",
            "0  XGBClassifier(base_score=None, booster=None, c...  0.972482   0.972912   \n",
            "\n",
            "     Recall  F1-score  \n",
            "0  0.972482  0.972505  \n",
            "\n",
            "Evaluation when n_estimators = 400:\n",
            "                                               Model  Accuracy  Precision  \\\n",
            "0  XGBClassifier(base_score=None, booster=None, c...  0.973261   0.973629   \n",
            "\n",
            "     Recall  F1-score  \n",
            "0  0.973261  0.973274  \n",
            "\n",
            "Evaluation when n_estimators = 500:\n",
            "                                               Model  Accuracy  Precision  \\\n",
            "0  XGBClassifier(base_score=None, booster=None, c...  0.972741   0.973084   \n",
            "\n",
            "     Recall  F1-score  \n",
            "0  0.972741  0.972756  \n",
            "\n"
          ]
        }
      ]
    },
    {
      "cell_type": "markdown",
      "source": [
        "* 400 gives you the best accuracy and F1-score and will give 200 another try as well!"
      ],
      "metadata": {
        "id": "TQ8GRJw7xa82"
      }
    },
    {
      "cell_type": "code",
      "source": [
        "'''\n",
        "2nd trial:\n",
        "learning_rate = [0.001, 0.01, 0.1, 0.2, 0.3]\n",
        "'''\n",
        "\n",
        "learning_rate_values = [0.001, 0.005, 0.01, 0.1, 0.2, 0.3]\n",
        "n_estimators_values = [200, 400]\n",
        "\n",
        "for learning_rate in learning_rate_values:\n",
        "  for n_estimators in n_estimators_values:\n",
        "    xgb = XGBClassifier(learning_rate=learning_rate, n_estimators=n_estimators)\n",
        "    xgb.fit(x_train, y_train)\n",
        "\n",
        "    print(f\"Evaluation when learning_rate = {learning_rate}, n_estimators ={n_estimators}:\")\n",
        "    print(evaluate_model(xgb, x_dev, y_dev))\n",
        "    print()"
      ],
      "metadata": {
        "colab": {
          "base_uri": "https://localhost:8080/"
        },
        "id": "_4jXeWMvy-Dh",
        "outputId": "ba6d4a67-362e-4e86-d516-c5f647f43b1e"
      },
      "execution_count": null,
      "outputs": [
        {
          "output_type": "stream",
          "name": "stdout",
          "text": [
            "Evaluation when learning_rate = 0.001, n_estimators =200:\n",
            "                                               Model  Accuracy  Precision  \\\n",
            "0  XGBClassifier(base_score=None, booster=None, c...  0.848131   0.854094   \n",
            "\n",
            "     Recall  F1-score  \n",
            "0  0.848131  0.848666  \n",
            "\n",
            "Evaluation when learning_rate = 0.001, n_estimators =400:\n",
            "                                               Model  Accuracy  Precision  \\\n",
            "0  XGBClassifier(base_score=None, booster=None, c...  0.856438   0.861894   \n",
            "\n",
            "     Recall  F1-score  \n",
            "0  0.856438   0.85652  \n",
            "\n",
            "Evaluation when learning_rate = 0.005, n_estimators =200:\n",
            "                                               Model  Accuracy  Precision  \\\n",
            "0  XGBClassifier(base_score=None, booster=None, c...  0.880322   0.883698   \n",
            "\n",
            "     Recall  F1-score  \n",
            "0  0.880322  0.880414  \n",
            "\n",
            "Evaluation when learning_rate = 0.005, n_estimators =400:\n",
            "                                               Model  Accuracy  Precision  \\\n",
            "0  XGBClassifier(base_score=None, booster=None, c...  0.912253   0.913928   \n",
            "\n",
            "     Recall  F1-score  \n",
            "0  0.912253  0.912456  \n",
            "\n",
            "Evaluation when learning_rate = 0.01, n_estimators =200:\n",
            "                                               Model  Accuracy  Precision  \\\n",
            "0  XGBClassifier(base_score=None, booster=None, c...  0.911215   0.912888   \n",
            "\n",
            "     Recall  F1-score  \n",
            "0  0.911215  0.911429  \n",
            "\n",
            "Evaluation when learning_rate = 0.01, n_estimators =400:\n",
            "                                               Model  Accuracy  Precision  \\\n",
            "0  XGBClassifier(base_score=None, booster=None, c...  0.937695    0.93874   \n",
            "\n",
            "     Recall  F1-score  \n",
            "0  0.937695  0.937817  \n",
            "\n",
            "Evaluation when learning_rate = 0.1, n_estimators =200:\n",
            "                                               Model  Accuracy  Precision  \\\n",
            "0  XGBClassifier(base_score=None, booster=None, c...  0.970665   0.971109   \n",
            "\n",
            "     Recall  F1-score  \n",
            "0  0.970665  0.970674  \n",
            "\n",
            "Evaluation when learning_rate = 0.1, n_estimators =400:\n",
            "                                               Model  Accuracy  Precision  \\\n",
            "0  XGBClassifier(base_score=None, booster=None, c...  0.972222   0.972682   \n",
            "\n",
            "     Recall  F1-score  \n",
            "0  0.972222  0.972236  \n",
            "\n",
            "Evaluation when learning_rate = 0.2, n_estimators =200:\n",
            "                                               Model  Accuracy  Precision  \\\n",
            "0  XGBClassifier(base_score=None, booster=None, c...  0.973261   0.973781   \n",
            "\n",
            "     Recall  F1-score  \n",
            "0  0.973261  0.973293  \n",
            "\n",
            "Evaluation when learning_rate = 0.2, n_estimators =400:\n",
            "                                               Model  Accuracy  Precision  \\\n",
            "0  XGBClassifier(base_score=None, booster=None, c...   0.97352   0.973946   \n",
            "\n",
            "    Recall  F1-score  \n",
            "0  0.97352  0.973535  \n",
            "\n",
            "Evaluation when learning_rate = 0.3, n_estimators =200:\n",
            "                                               Model  Accuracy  Precision  \\\n",
            "0  XGBClassifier(base_score=None, booster=None, c...  0.972482   0.972854   \n",
            "\n",
            "     Recall  F1-score  \n",
            "0  0.972482  0.972502  \n",
            "\n",
            "Evaluation when learning_rate = 0.3, n_estimators =400:\n",
            "                                               Model  Accuracy  Precision  \\\n",
            "0  XGBClassifier(base_score=None, booster=None, c...  0.973261   0.973629   \n",
            "\n",
            "     Recall  F1-score  \n",
            "0  0.973261  0.973274  \n",
            "\n"
          ]
        }
      ]
    },
    {
      "cell_type": "markdown",
      "source": [
        "learning_rate = 0.2\n",
        "\n",
        "n_estimators = 400\n",
        "\n",
        "It gives you the best accuracy and F1-score, and we can see the model performance increases nicely as learning rate increases"
      ],
      "metadata": {
        "id": "FdV-md-SzViE"
      }
    },
    {
      "cell_type": "code",
      "source": [
        "'''\n",
        "3th trial:\n",
        "max_depth = [3, 5, 7, 10, 15]\n",
        "'''\n",
        "\n",
        "max_depth_values = [3, 5, 7, 10, 15]\n",
        "learning_rate = 0.2\n",
        "n_estimators = 400\n",
        "\n",
        "for max_depth in max_depth_values:\n",
        "  xgb = XGBClassifier(learning_rate=learning_rate, n_estimators=n_estimators, max_depth=max_depth)\n",
        "  xgb.fit(x_train, y_train)\n",
        "\n",
        "  print(f\"Evaluation when max_depth = {max_depth}:\")\n",
        "  print(evaluate_model(xgb, x_dev, y_dev))\n",
        "  print()"
      ],
      "metadata": {
        "colab": {
          "base_uri": "https://localhost:8080/"
        },
        "id": "lCJ6mFnfzuvo",
        "outputId": "b2b2b7a6-cc34-4184-c2ae-8055a87f900f"
      },
      "execution_count": null,
      "outputs": [
        {
          "output_type": "stream",
          "name": "stdout",
          "text": [
            "Evaluation when max_depth = 3:\n",
            "                                               Model  Accuracy  Precision  \\\n",
            "0  XGBClassifier(base_score=None, booster=None, c...   0.97378   0.974124   \n",
            "\n",
            "    Recall  F1-score  \n",
            "0  0.97378  0.973794  \n",
            "\n",
            "Evaluation when max_depth = 5:\n",
            "                                               Model  Accuracy  Precision  \\\n",
            "0  XGBClassifier(base_score=None, booster=None, c...  0.971963   0.972211   \n",
            "\n",
            "     Recall  F1-score  \n",
            "0  0.971963  0.971948  \n",
            "\n",
            "Evaluation when max_depth = 7:\n",
            "                                               Model  Accuracy  Precision  \\\n",
            "0  XGBClassifier(base_score=None, booster=None, c...  0.973001   0.973471   \n",
            "\n",
            "     Recall  F1-score  \n",
            "0  0.973001  0.973051  \n",
            "\n",
            "Evaluation when max_depth = 10:\n",
            "                                               Model  Accuracy  Precision  \\\n",
            "0  XGBClassifier(base_score=None, booster=None, c...  0.971703    0.97206   \n",
            "\n",
            "     Recall  F1-score  \n",
            "0  0.971703  0.971735  \n",
            "\n",
            "Evaluation when max_depth = 15:\n",
            "                                               Model  Accuracy  Precision  \\\n",
            "0  XGBClassifier(base_score=None, booster=None, c...  0.968847   0.969305   \n",
            "\n",
            "     Recall  F1-score  \n",
            "0  0.968847  0.968884  \n",
            "\n"
          ]
        }
      ]
    },
    {
      "cell_type": "markdown",
      "source": [
        "* Best Performance at max_depth = 3\n",
        "* Performance slightly drops as depth increases, especially after max_depth = 7\n",
        "* Smaller trees (like depth 3) are faster to train and predict — win-win in both accuracy and compute!\n",
        "\n"
      ],
      "metadata": {
        "id": "9paXoRAp1Nc_"
      }
    },
    {
      "cell_type": "code",
      "source": [
        "'''\n",
        "4th trial:\n",
        "min_child_weight = [1, 3, 5, 7, 10]\n",
        "'''\n",
        "\n",
        "min_child_weight_values = [1, 3, 5, 7, 10]\n",
        "learning_rate = 0.2\n",
        "n_estimators = 400\n",
        "max_depth = 3\n",
        "\n",
        "for min_child_weight in min_child_weight_values:\n",
        "  xgb = XGBClassifier(learning_rate=learning_rate, n_estimators=n_estimators, max_depth=max_depth, min_child_weight=min_child_weight)\n",
        "  xgb.fit(x_train, y_train)\n",
        "\n",
        "  print(f\"Evaluation when min_child_weight = {min_child_weight}:\")\n",
        "  print(evaluate_model(xgb, x_dev, y_dev))\n",
        "  print()"
      ],
      "metadata": {
        "colab": {
          "base_uri": "https://localhost:8080/"
        },
        "id": "HanbEAJf1jRg",
        "outputId": "9fa30ff9-6a46-44d7-9bd0-86efe573fb49"
      },
      "execution_count": null,
      "outputs": [
        {
          "output_type": "stream",
          "name": "stdout",
          "text": [
            "Evaluation when min_child_weight = 1:\n",
            "                                               Model  Accuracy  Precision  \\\n",
            "0  XGBClassifier(base_score=None, booster=None, c...   0.97378   0.974124   \n",
            "\n",
            "    Recall  F1-score  \n",
            "0  0.97378  0.973794  \n",
            "\n",
            "Evaluation when min_child_weight = 3:\n",
            "                                               Model  Accuracy  Precision  \\\n",
            "0  XGBClassifier(base_score=None, booster=None, c...  0.974559   0.974897   \n",
            "\n",
            "     Recall  F1-score  \n",
            "0  0.974559  0.974584  \n",
            "\n",
            "Evaluation when min_child_weight = 5:\n",
            "                                               Model  Accuracy  Precision  \\\n",
            "0  XGBClassifier(base_score=None, booster=None, c...   0.97352   0.973878   \n",
            "\n",
            "    Recall  F1-score  \n",
            "0  0.97352  0.973549  \n",
            "\n",
            "Evaluation when min_child_weight = 7:\n",
            "                                               Model  Accuracy  Precision  \\\n",
            "0  XGBClassifier(base_score=None, booster=None, c...  0.972741   0.973036   \n",
            "\n",
            "     Recall  F1-score  \n",
            "0  0.972741  0.972747  \n",
            "\n",
            "Evaluation when min_child_weight = 10:\n",
            "                                               Model  Accuracy  Precision  \\\n",
            "0  XGBClassifier(base_score=None, booster=None, c...  0.969886   0.970189   \n",
            "\n",
            "     Recall  F1-score  \n",
            "0  0.969886  0.969887  \n",
            "\n"
          ]
        }
      ]
    },
    {
      "cell_type": "code",
      "source": [
        "'''\n",
        "5th trial:\n",
        "subsample = [0.5, 0.6, 0.7, 0.8, 0.9, 1.0]\n",
        "'''\n",
        "\n",
        "subsample_values = [0.5, 0.6, 0.7, 0.8, 0.9, 1.0]\n",
        "learning_rate = 0.2\n",
        "n_estimators = 400\n",
        "max_depth = 3\n",
        "min_child_weight = 2\n",
        "\n",
        "for subsample in subsample_values:\n",
        "  xgb = XGBClassifier(learning_rate=learning_rate, n_estimators=n_estimators, max_depth=max_depth, min_child_weight=min_child_weight, subsample=subsample)\n",
        "  xgb.fit(x_train, y_train)\n",
        "\n",
        "  print(f\"Evaluation when subsample = {subsample}:\")\n",
        "  print(evaluate_model(xgb, x_dev, y_dev))"
      ],
      "metadata": {
        "colab": {
          "base_uri": "https://localhost:8080/"
        },
        "id": "gubG6vnQ3U8S",
        "outputId": "9f87f578-e676-4320-f49e-10b08bf461be"
      },
      "execution_count": null,
      "outputs": [
        {
          "output_type": "stream",
          "name": "stdout",
          "text": [
            "Evaluation when subsample = 0.5:\n",
            "                                               Model  Accuracy  Precision  \\\n",
            "0  XGBClassifier(base_score=None, booster=None, c...  0.971963   0.972369   \n",
            "\n",
            "     Recall  F1-score  \n",
            "0  0.971963  0.971985  \n",
            "Evaluation when subsample = 0.6:\n",
            "                                               Model  Accuracy  Precision  \\\n",
            "0  XGBClassifier(base_score=None, booster=None, c...   0.97352   0.973869   \n",
            "\n",
            "    Recall  F1-score  \n",
            "0  0.97352  0.973543  \n",
            "Evaluation when subsample = 0.7:\n",
            "                                               Model  Accuracy  Precision  \\\n",
            "0  XGBClassifier(base_score=None, booster=None, c...  0.971703   0.972113   \n",
            "\n",
            "     Recall  F1-score  \n",
            "0  0.971703  0.971719  \n",
            "Evaluation when subsample = 0.8:\n",
            "                                               Model  Accuracy  Precision  \\\n",
            "0  XGBClassifier(base_score=None, booster=None, c...  0.974039    0.97444   \n",
            "\n",
            "     Recall  F1-score  \n",
            "0  0.974039  0.974072  \n",
            "Evaluation when subsample = 0.9:\n",
            "                                               Model  Accuracy  Precision  \\\n",
            "0  XGBClassifier(base_score=None, booster=None, c...  0.974818   0.975192   \n",
            "\n",
            "     Recall  F1-score  \n",
            "0  0.974818  0.974841  \n",
            "Evaluation when subsample = 1.0:\n",
            "                                               Model  Accuracy  Precision  \\\n",
            "0  XGBClassifier(base_score=None, booster=None, c...   0.97378   0.974087   \n",
            "\n",
            "    Recall  F1-score  \n",
            "0  0.97378  0.973804  \n"
          ]
        }
      ]
    },
    {
      "cell_type": "markdown",
      "source": [
        "Best Performance at subsample = 0.9"
      ],
      "metadata": {
        "id": "UATgfLhU5dGZ"
      }
    },
    {
      "cell_type": "code",
      "source": [
        "'''\n",
        "6th trial:\n",
        "colsample_bytree = [0.5, 0.6, 0.7, 0.8, 0.9, 1.0]\n",
        "'''\n",
        "\n",
        "colsample_bytree_values = [0.5, 0.6, 0.7, 0.8, 0.9, 1.0]\n",
        "learning_rate = 0.2\n",
        "n_estimators = 400\n",
        "max_depth = 3\n",
        "min_child_weight = 2\n",
        "subsample = 0.9\n",
        "\n",
        "for colsample_bytree in colsample_bytree_values:\n",
        "  xgb = XGBClassifier(learning_rate=learning_rate, n_estimators=n_estimators, max_depth=max_depth, min_child_weight=min_child_weight, subsample=subsample, colsample_bytree=colsample_bytree)\n",
        "  xgb.fit(x_train, y_train)\n",
        "\n",
        "  print(f\"Evaluation when colsample_bytree = {colsample_bytree}:\")\n",
        "  print(evaluate_model(xgb, x_dev, y_dev))\n",
        "  print()"
      ],
      "metadata": {
        "colab": {
          "base_uri": "https://localhost:8080/"
        },
        "id": "lWJb-C4N5oGP",
        "outputId": "cac31b29-b4fa-4c0d-f1eb-fc8ba990c78b"
      },
      "execution_count": null,
      "outputs": [
        {
          "output_type": "stream",
          "name": "stdout",
          "text": [
            "Evaluation when colsample_bytree = 0.5:\n",
            "                                               Model  Accuracy  Precision  \\\n",
            "0  XGBClassifier(base_score=None, booster=None, c...   0.97352   0.973886   \n",
            "\n",
            "    Recall  F1-score  \n",
            "0  0.97352  0.973516  \n",
            "\n",
            "Evaluation when colsample_bytree = 0.6:\n",
            "                                               Model  Accuracy  Precision  \\\n",
            "0  XGBClassifier(base_score=None, booster=None, c...   0.97352   0.973919   \n",
            "\n",
            "    Recall  F1-score  \n",
            "0  0.97352  0.973544  \n",
            "\n",
            "Evaluation when colsample_bytree = 0.7:\n",
            "                                               Model  Accuracy  Precision  \\\n",
            "0  XGBClassifier(base_score=None, booster=None, c...  0.973261   0.973572   \n",
            "\n",
            "     Recall  F1-score  \n",
            "0  0.973261   0.97327  \n",
            "\n",
            "Evaluation when colsample_bytree = 0.8:\n",
            "                                               Model  Accuracy  Precision  \\\n",
            "0  XGBClassifier(base_score=None, booster=None, c...  0.974299   0.974681   \n",
            "\n",
            "     Recall  F1-score  \n",
            "0  0.974299  0.974309  \n",
            "\n",
            "Evaluation when colsample_bytree = 0.9:\n",
            "                                               Model  Accuracy  Precision  \\\n",
            "0  XGBClassifier(base_score=None, booster=None, c...   0.97378   0.974174   \n",
            "\n",
            "    Recall  F1-score  \n",
            "0  0.97378  0.973804  \n",
            "\n",
            "Evaluation when colsample_bytree = 1.0:\n",
            "                                               Model  Accuracy  Precision  \\\n",
            "0  XGBClassifier(base_score=None, booster=None, c...  0.974818   0.975192   \n",
            "\n",
            "     Recall  F1-score  \n",
            "0  0.974818  0.974841  \n",
            "\n"
          ]
        }
      ]
    },
    {
      "cell_type": "markdown",
      "source": [
        "Best Performance at colsample_bytree = 1.0"
      ],
      "metadata": {
        "id": "At392kxs7IGc"
      }
    },
    {
      "cell_type": "code",
      "source": [
        "'''\n",
        "7th trial:\n",
        "reg_alpha = [0.001, 0.01, 0.1, 1, 10, 100]\n",
        "'''\n",
        "\n",
        "reg_alpha_values = [0.001, 0.01, 0.1, 1, 10, 100]\n",
        "learning_rate = 0.2\n",
        "n_estimators = 400\n",
        "max_depth = 3\n",
        "min_child_weight = 2\n",
        "subsample = 0.9\n",
        "colsample_bytree = 1.0\n",
        "\n",
        "for reg_alpha in reg_alpha_values:\n",
        "  xgb = XGBClassifier(learning_rate=learning_rate, n_estimators=n_estimators, max_depth=max_depth, min_child_weight=min_child_weight, subsample=subsample, colsample_bytree=colsample_bytree, reg_alpha=reg_alpha)\n",
        "  xgb.fit(x_train, y_train)\n",
        "\n",
        "  print(f\"Evaluation when reg_alpha = {reg_alpha}:\")\n",
        "  print(evaluate_model(xgb, x_dev, y_dev))\n",
        "  print()"
      ],
      "metadata": {
        "colab": {
          "base_uri": "https://localhost:8080/"
        },
        "id": "17QtFxVW7Sb7",
        "outputId": "ebbee400-bb3c-4a83-ddc5-595a45443bcf"
      },
      "execution_count": null,
      "outputs": [
        {
          "output_type": "stream",
          "name": "stdout",
          "text": [
            "Evaluation when reg_alpha = 0.001:\n",
            "                                               Model  Accuracy  Precision  \\\n",
            "0  XGBClassifier(base_score=None, booster=None, c...  0.972741   0.973139   \n",
            "\n",
            "     Recall  F1-score  \n",
            "0  0.972741  0.972756  \n",
            "\n",
            "Evaluation when reg_alpha = 0.01:\n",
            "                                               Model  Accuracy  Precision  \\\n",
            "0  XGBClassifier(base_score=None, booster=None, c...  0.974818   0.975141   \n",
            "\n",
            "     Recall  F1-score  \n",
            "0  0.974818  0.974834  \n",
            "\n",
            "Evaluation when reg_alpha = 0.1:\n",
            "                                               Model  Accuracy  Precision  \\\n",
            "0  XGBClassifier(base_score=None, booster=None, c...   0.97352   0.973911   \n",
            "\n",
            "    Recall  F1-score  \n",
            "0  0.97352   0.97354  \n",
            "\n",
            "Evaluation when reg_alpha = 1:\n",
            "                                               Model  Accuracy  Precision  \\\n",
            "0  XGBClassifier(base_score=None, booster=None, c...  0.970665   0.971187   \n",
            "\n",
            "     Recall  F1-score  \n",
            "0  0.970665  0.970703  \n",
            "\n",
            "Evaluation when reg_alpha = 10:\n",
            "                                               Model  Accuracy  Precision  \\\n",
            "0  XGBClassifier(base_score=None, booster=None, c...  0.953271   0.953797   \n",
            "\n",
            "     Recall  F1-score  \n",
            "0  0.953271  0.953271  \n",
            "\n",
            "Evaluation when reg_alpha = 100:\n",
            "                                               Model  Accuracy  Precision  \\\n",
            "0  XGBClassifier(base_score=None, booster=None, c...  0.819574   0.822858   \n",
            "\n",
            "     Recall  F1-score  \n",
            "0  0.819574  0.819752  \n",
            "\n"
          ]
        }
      ]
    },
    {
      "cell_type": "markdown",
      "source": [
        "* Best Value: reg_alpha = 0.01"
      ],
      "metadata": {
        "id": "7M7de2t18uQZ"
      }
    },
    {
      "cell_type": "code",
      "source": [
        "'''\n",
        "8th trial:\n",
        "gemma = [0.001, 0.01, 0.1, 1, 10, 100]\n",
        "'''\n",
        "\n",
        "gamma_values = [0.001, 0.01, 0.1, 1, 10, 100]\n",
        "learning_rate = 0.2\n",
        "n_estimators = 400\n",
        "max_depth = 3\n",
        "min_child_weight = 2\n",
        "subsample = 0.9\n",
        "colsample_bytree = 1.0\n",
        "reg_alpha = 0.01\n",
        "\n",
        "for gamma in gamma_values:\n",
        "  xgb = XGBClassifier(learning_rate=learning_rate, n_estimators=n_estimators, max_depth=max_depth, min_child_weight=min_child_weight, subsample=subsample, colsample_bytree=colsample_bytree, reg_alpha=reg_alpha, gamma=gamma)\n",
        "  xgb.fit(x_train, y_train)\n",
        "\n",
        "  print(f\"Evaluation when gamma = {gamma}:\")\n",
        "  print(evaluate_model(xgb, x_dev, y_dev))\n",
        "  print()"
      ],
      "metadata": {
        "colab": {
          "base_uri": "https://localhost:8080/"
        },
        "id": "PLVf8b487dpO",
        "outputId": "c0dc2f0b-12bd-4b38-e795-5ad7f375ac60"
      },
      "execution_count": null,
      "outputs": [
        {
          "output_type": "stream",
          "name": "stdout",
          "text": [
            "Evaluation when gamma = 0.001:\n",
            "                                               Model  Accuracy  Precision  \\\n",
            "0  XGBClassifier(base_score=None, booster=None, c...  0.974299   0.974655   \n",
            "\n",
            "     Recall  F1-score  \n",
            "0  0.974299  0.974315  \n",
            "\n",
            "Evaluation when gamma = 0.01:\n",
            "                                               Model  Accuracy  Precision  \\\n",
            "0  XGBClassifier(base_score=None, booster=None, c...  0.975078   0.975409   \n",
            "\n",
            "     Recall  F1-score  \n",
            "0  0.975078  0.975092  \n",
            "\n",
            "Evaluation when gamma = 0.1:\n",
            "                                               Model  Accuracy  Precision  \\\n",
            "0  XGBClassifier(base_score=None, booster=None, c...   0.97352   0.973928   \n",
            "\n",
            "    Recall  F1-score  \n",
            "0  0.97352  0.973547  \n",
            "\n",
            "Evaluation when gamma = 1:\n",
            "                                               Model  Accuracy  Precision  \\\n",
            "0  XGBClassifier(base_score=None, booster=None, c...  0.964953   0.965275   \n",
            "\n",
            "     Recall  F1-score  \n",
            "0  0.964953  0.964954  \n",
            "\n",
            "Evaluation when gamma = 10:\n",
            "                                               Model  Accuracy  Precision  \\\n",
            "0  XGBClassifier(base_score=None, booster=None, c...  0.906542   0.907908   \n",
            "\n",
            "     Recall  F1-score  \n",
            "0  0.906542  0.906585  \n",
            "\n",
            "Evaluation when gamma = 100:\n",
            "                                               Model  Accuracy  Precision  \\\n",
            "0  XGBClassifier(base_score=None, booster=None, c...  0.740135   0.743281   \n",
            "\n",
            "     Recall  F1-score  \n",
            "0  0.740135  0.735211  \n",
            "\n"
          ]
        }
      ]
    },
    {
      "cell_type": "markdown",
      "source": [
        "* Best Value: gamma = 0.01"
      ],
      "metadata": {
        "id": "vjpmKa7C-evo"
      }
    },
    {
      "cell_type": "code",
      "source": [
        "'''\n",
        "9th trial:\n",
        "scale_pos_weight = [0.5, 1.0, 5, 10]\n",
        "'''\n",
        "\n",
        "scale_pos_weight_values = [0.5, 1.0, 5, 10]\n",
        "learning_rate = 0.2\n",
        "n_estimators = 400\n",
        "max_depth = 3\n",
        "min_child_weight = 2\n",
        "subsample = 0.9\n",
        "colsample_bytree = 1.0\n",
        "reg_alpha = 0.01\n",
        "gamma = 0.01\n",
        "\n",
        "for scale_pos_weight in scale_pos_weight_values:\n",
        "  xgb = XGBClassifier(learning_rate=learning_rate, n_estimators=n_estimators, max_depth=max_depth, min_child_weight=min_child_weight, subsample=subsample, colsample_bytree=colsample_bytree, reg_alpha=reg_alpha, gamma=gamma, scale_pos_weight=scale_pos_weight)\n",
        "  xgb.fit(x_train, y_train)\n",
        "\n",
        "  print(f\"Evaluation when scale_pos_weight = {scale_pos_weight}:\")\n",
        "  print(evaluate_model(xgb, x_dev, y_dev))\n",
        "  print()\n"
      ],
      "metadata": {
        "colab": {
          "base_uri": "https://localhost:8080/"
        },
        "id": "dvWOcg_M9R9z",
        "outputId": "91710ac0-0ffe-442f-b215-654f22fe8643"
      },
      "execution_count": null,
      "outputs": [
        {
          "output_type": "stream",
          "name": "stderr",
          "text": [
            "/usr/local/lib/python3.11/dist-packages/xgboost/core.py:158: UserWarning: [22:43:28] WARNING: /workspace/src/learner.cc:740: \n",
            "Parameters: { \"scale_pos_weight\" } are not used.\n",
            "\n",
            "  warnings.warn(smsg, UserWarning)\n"
          ]
        },
        {
          "output_type": "stream",
          "name": "stdout",
          "text": [
            "Evaluation when scale_pos_weight = 0.5:\n",
            "                                               Model  Accuracy  Precision  \\\n",
            "0  XGBClassifier(base_score=None, booster=None, c...  0.975078   0.975409   \n",
            "\n",
            "     Recall  F1-score  \n",
            "0  0.975078  0.975092  \n",
            "\n"
          ]
        },
        {
          "output_type": "stream",
          "name": "stderr",
          "text": [
            "/usr/local/lib/python3.11/dist-packages/xgboost/core.py:158: UserWarning: [22:44:30] WARNING: /workspace/src/learner.cc:740: \n",
            "Parameters: { \"scale_pos_weight\" } are not used.\n",
            "\n",
            "  warnings.warn(smsg, UserWarning)\n"
          ]
        },
        {
          "output_type": "stream",
          "name": "stdout",
          "text": [
            "Evaluation when scale_pos_weight = 1.0:\n",
            "                                               Model  Accuracy  Precision  \\\n",
            "0  XGBClassifier(base_score=None, booster=None, c...  0.975078   0.975409   \n",
            "\n",
            "     Recall  F1-score  \n",
            "0  0.975078  0.975092  \n",
            "\n"
          ]
        },
        {
          "output_type": "stream",
          "name": "stderr",
          "text": [
            "/usr/local/lib/python3.11/dist-packages/xgboost/core.py:158: UserWarning: [22:45:24] WARNING: /workspace/src/learner.cc:740: \n",
            "Parameters: { \"scale_pos_weight\" } are not used.\n",
            "\n",
            "  warnings.warn(smsg, UserWarning)\n"
          ]
        },
        {
          "output_type": "stream",
          "name": "stdout",
          "text": [
            "Evaluation when scale_pos_weight = 5:\n",
            "                                               Model  Accuracy  Precision  \\\n",
            "0  XGBClassifier(base_score=None, booster=None, c...  0.975078   0.975409   \n",
            "\n",
            "     Recall  F1-score  \n",
            "0  0.975078  0.975092  \n",
            "\n"
          ]
        },
        {
          "output_type": "stream",
          "name": "stderr",
          "text": [
            "/usr/local/lib/python3.11/dist-packages/xgboost/core.py:158: UserWarning: [22:46:59] WARNING: /workspace/src/learner.cc:740: \n",
            "Parameters: { \"scale_pos_weight\" } are not used.\n",
            "\n",
            "  warnings.warn(smsg, UserWarning)\n"
          ]
        },
        {
          "output_type": "stream",
          "name": "stdout",
          "text": [
            "Evaluation when scale_pos_weight = 10:\n",
            "                                               Model  Accuracy  Precision  \\\n",
            "0  XGBClassifier(base_score=None, booster=None, c...  0.975078   0.975409   \n",
            "\n",
            "     Recall  F1-score  \n",
            "0  0.975078  0.975092  \n",
            "\n"
          ]
        }
      ]
    },
    {
      "cell_type": "markdown",
      "source": [
        "scale_pos_weight is not being used by the model.\n",
        "\n"
      ],
      "metadata": {
        "id": "LeTQzXEm-4-9"
      }
    },
    {
      "cell_type": "code",
      "source": [
        "'''\n",
        "10th trial:\n",
        "booster = ['gbtree', 'gblinear', 'dart']\n",
        "'''\n",
        "\n",
        "booster_values = ['gbtree', 'gblinear', 'dart']\n",
        "learning_rate = 0.2\n",
        "n_estimators = 400\n",
        "max_depth = 3\n",
        "min_child_weight = 2\n",
        "subsample = 0.9\n",
        "colsample_bytree = 1.0\n",
        "reg_alpha = 0.01\n",
        "gamma = 0.01\n",
        "\n",
        "for booster in booster_values:\n",
        "  xgb = XGBClassifier(learning_rate=learning_rate, n_estimators=n_estimators, max_depth=max_depth, min_child_weight=min_child_weight, subsample=subsample, colsample_bytree=colsample_bytree, reg_alpha=reg_alpha, gamma=gamma, booster=booster)\n",
        "  xgb.fit(x_train, y_train)\n",
        "\n",
        "  print(f\"Evaluation when booster = {booster}:\")\n",
        "  print(evaluate_model(xgb, x_dev, y_dev))\n",
        "  print()"
      ],
      "metadata": {
        "colab": {
          "base_uri": "https://localhost:8080/"
        },
        "id": "WCfMISmb9kJU",
        "outputId": "e6a1bb6f-3412-4b8f-9a80-a06ce6b89ac0"
      },
      "execution_count": null,
      "outputs": [
        {
          "output_type": "stream",
          "name": "stdout",
          "text": [
            "Evaluation when booster = gbtree:\n",
            "                                               Model  Accuracy  Precision  \\\n",
            "0  XGBClassifier(base_score=None, booster='gbtree...  0.975078   0.975409   \n",
            "\n",
            "     Recall  F1-score  \n",
            "0  0.975078  0.975092  \n",
            "\n"
          ]
        },
        {
          "output_type": "stream",
          "name": "stderr",
          "text": [
            "/usr/local/lib/python3.11/dist-packages/xgboost/core.py:158: UserWarning: [22:49:46] WARNING: /workspace/src/learner.cc:740: \n",
            "Parameters: { \"colsample_bytree\", \"gamma\", \"max_depth\", \"min_child_weight\", \"subsample\" } are not used.\n",
            "\n",
            "  warnings.warn(smsg, UserWarning)\n"
          ]
        },
        {
          "output_type": "stream",
          "name": "stdout",
          "text": [
            "Evaluation when booster = gblinear:\n",
            "                                               Model  Accuracy  Precision  \\\n",
            "0  XGBClassifier(base_score=None, booster='gbline...  0.226116   0.112291   \n",
            "\n",
            "     Recall  F1-score  \n",
            "0  0.226116  0.131346  \n",
            "\n"
          ]
        },
        {
          "output_type": "stream",
          "name": "stderr",
          "text": [
            "/usr/local/lib/python3.11/dist-packages/sklearn/metrics/_classification.py:1565: UndefinedMetricWarning: Precision is ill-defined and being set to 0.0 in labels with no predicted samples. Use `zero_division` parameter to control this behavior.\n",
            "  _warn_prf(average, modifier, f\"{metric.capitalize()} is\", len(result))\n"
          ]
        }
      ]
    },
    {
      "cell_type": "markdown",
      "source": [
        "**Best Hyperparameter Combination:**\n",
        "\n",
        "1. learning_rate =\t0.2\n",
        "2. n_estimators =\t400\n",
        "3. max_depth =\t3\n",
        "4. min_child_weight =\t2\n",
        "5. subsample =\t0.9\n",
        "6. colsample_bytree =\t1.0\n",
        "7. reg_alpha =\t0.01\n",
        "8. gamma =\t0.01\n",
        "9. booster = gbtree:"
      ],
      "metadata": {
        "id": "nxmMKw6C_DKC"
      }
    },
    {
      "cell_type": "code",
      "source": [
        "# Evaluating Best Hyperparameter Combination over the test_df\n",
        "\n",
        "learning_rate = 0.2\n",
        "n_estimators = 400\n",
        "max_depth = 3\n",
        "min_child_weight = 2\n",
        "subsample = 0.9\n",
        "colsample_bytree = 1.0\n",
        "reg_alpha = 0.01\n",
        "gamma = 0.01\n",
        "booster = 'gbtree'\n",
        "\n",
        "\n",
        "xgb = XGBClassifier(learning_rate=learning_rate, n_estimators=n_estimators, max_depth=max_depth, min_child_weight=min_child_weight, subsample=subsample, colsample_bytree=colsample_bytree, reg_alpha=reg_alpha, gamma=gamma, booster=booster)\n",
        "xgb.fit(final_x_train_df, final_y_train_df)\n",
        "\n",
        "xgb_score = evaluate_model(xgb, x_test, y_test)\n",
        "print(xgb_score)\n",
        "append_to_csv(xgb_score)"
      ],
      "metadata": {
        "colab": {
          "base_uri": "https://localhost:8080/"
        },
        "id": "XHAq_SuSBF28",
        "outputId": "d554a845-1ed8-41d2-c47c-6cc13064eb3a"
      },
      "execution_count": null,
      "outputs": [
        {
          "output_type": "stream",
          "name": "stdout",
          "text": [
            "                                               Model  Accuracy  Precision  \\\n",
            "0  XGBClassifier(base_score=None, booster='gbtree...  0.978187   0.978411   \n",
            "\n",
            "     Recall  F1-score  \n",
            "0  0.978187  0.978242  \n",
            "Data saved to /content/drive/My Drive/scores_after_tuning.csv\n"
          ]
        }
      ]
    },
    {
      "cell_type": "markdown",
      "source": [
        "# Evaluation"
      ],
      "metadata": {
        "id": "fRAYZ-SNJqHe"
      }
    },
    {
      "cell_type": "code",
      "source": [
        "results_before_tuning = pd.read_csv('/content/drive/MyDrive/scores using defualt hyperparas.csv', index_col=False)\n",
        "results_after_tuning = pd.read_csv('/content/drive/MyDrive/scores_after_tuning.csv', index_col=False)\n",
        "\n",
        "print('Results Before Tuning')\n",
        "print(results_before_tuning)\n",
        "print()\n",
        "print('Results After Tuning')\n",
        "print(results_after_tuning)"
      ],
      "metadata": {
        "colab": {
          "base_uri": "https://localhost:8080/"
        },
        "id": "zb75orlvIsg6",
        "outputId": "efb4eeeb-d0c7-4451-bcb3-6654b3ee849e"
      },
      "execution_count": null,
      "outputs": [
        {
          "output_type": "stream",
          "name": "stdout",
          "text": [
            "Results Before Tuning\n",
            "                                               Model  Accuracy  Precision  \\\n",
            "0                               LogisticRegression()  0.799585   0.798508   \n",
            "1                           DecisionTreeClassifier()  0.853583   0.855773   \n",
            "2                           RandomForestClassifier()  0.938733   0.939686   \n",
            "3                                              SVC()  0.835929   0.857081   \n",
            "4                             KNeighborsClassifier()  0.908100   0.909704   \n",
            "5  XGBClassifier(base_score=None, booster=None, c...  0.969886   0.970357   \n",
            "\n",
            "     Recall  F1-score  \n",
            "0  0.799585  0.797764  \n",
            "1  0.853583  0.854184  \n",
            "2  0.938733  0.938756  \n",
            "3  0.835929  0.838628  \n",
            "4  0.908100  0.908438  \n",
            "5  0.969886  0.969903  \n",
            "\n",
            "Results After Tuning\n",
            "                                               Model  Accuracy  Precision  \\\n",
            "0  LogisticRegression(C=10, max_iter=500, solver=...  0.930667   0.930706   \n",
            "1  DecisionTreeClassifier(criterion='entropy', ma...  0.868086   0.869012   \n",
            "2  RandomForestClassifier(bootstrap=False, n_esti...  0.952740   0.953360   \n",
            "3       SVC(C=100, degree=2, gamma=1, kernel='poly')  0.980784   0.981003   \n",
            "4  KNeighborsClassifier(n_neighbors=3, p=3, weigh...  0.932485   0.933095   \n",
            "5  XGBClassifier(base_score=None, booster='gbtree...  0.978187   0.978411   \n",
            "\n",
            "     Recall  F1-score  \n",
            "0  0.930667  0.930359  \n",
            "1  0.868086  0.868076  \n",
            "2  0.952740  0.952854  \n",
            "3  0.980784  0.980812  \n",
            "4  0.932485  0.932654  \n",
            "5  0.978187  0.978242  \n"
          ]
        }
      ]
    },
    {
      "cell_type": "code",
      "source": [
        "def modify_model_name(model_name):\n",
        "  # Want to only keep the text before (\n",
        "  name = model_name.split('(')[0]\n",
        "  return name\n",
        "\n",
        "results_before_tuning['Model'] = results_before_tuning['Model'].apply(modify_model_name)\n",
        "results_after_tuning['Model'] = results_after_tuning['Model'].apply(modify_model_name)\n",
        "\n",
        "print('Results Before Tuning')\n",
        "print(results_before_tuning)\n",
        "print()\n",
        "print('Results After Tuning')\n",
        "print(results_after_tuning)"
      ],
      "metadata": {
        "colab": {
          "base_uri": "https://localhost:8080/"
        },
        "id": "9J3LkCwCIse3",
        "outputId": "325d3dd5-b873-41a6-a13d-723935b7eb74"
      },
      "execution_count": null,
      "outputs": [
        {
          "output_type": "stream",
          "name": "stdout",
          "text": [
            "Results Before Tuning\n",
            "                    Model  Accuracy  Precision    Recall  F1-score\n",
            "0      LogisticRegression  0.799585   0.798508  0.799585  0.797764\n",
            "1  DecisionTreeClassifier  0.853583   0.855773  0.853583  0.854184\n",
            "2  RandomForestClassifier  0.938733   0.939686  0.938733  0.938756\n",
            "3                     SVC  0.835929   0.857081  0.835929  0.838628\n",
            "4    KNeighborsClassifier  0.908100   0.909704  0.908100  0.908438\n",
            "5           XGBClassifier  0.969886   0.970357  0.969886  0.969903\n",
            "\n",
            "Results After Tuning\n",
            "                    Model  Accuracy  Precision    Recall  F1-score\n",
            "0      LogisticRegression  0.930667   0.930706  0.930667  0.930359\n",
            "1  DecisionTreeClassifier  0.868086   0.869012  0.868086  0.868076\n",
            "2  RandomForestClassifier  0.952740   0.953360  0.952740  0.952854\n",
            "3                     SVC  0.980784   0.981003  0.980784  0.980812\n",
            "4    KNeighborsClassifier  0.932485   0.933095  0.932485  0.932654\n",
            "5           XGBClassifier  0.978187   0.978411  0.978187  0.978242\n"
          ]
        }
      ]
    },
    {
      "cell_type": "code",
      "source": [
        "import matplotlib.pyplot as plt\n",
        "import numpy as np\n",
        "import pandas as pd\n",
        "\n",
        "# Convert your dictionaries to DataFrames\n",
        "df_before = pd.DataFrame.from_dict(results_before_tuning, orient='index',\n",
        "                                 columns=['Accuracy', 'Precision', 'Recall', 'F1-score'])\n",
        "df_after = pd.DataFrame.from_dict(results_after_tuning, orient='index',\n",
        "                                columns=['Accuracy', 'Precision', 'Recall', 'F1-score'])\n",
        "\n",
        "# Sort by Accuracy\n",
        "df_before_sorted = df_before.sort_values(by='Accuracy', ascending=False)\n",
        "df_after_sorted = df_after.sort_values(by='Accuracy', ascending=False)\n",
        "\n",
        "# Create figure with two subplots\n",
        "fig, axes = plt.subplots(1, 2, figsize=(16, 8))\n",
        "\n",
        "# Custom color palette\n",
        "metrics_colors = ['#e74c3c', '#9b59b6', '#f39c12', '#1abc9c']\n",
        "\n",
        "# Plot for Before Tuning\n",
        "df_before_sorted.plot(kind='bar', width=0.8, color=metrics_colors,\n",
        "                     ax=axes[0], edgecolor='black', linewidth=0.5)\n",
        "axes[0].set_title(\"Before Tuning\", fontsize=14, pad=20, fontweight='bold')\n",
        "axes[0].set_xticklabels(df_before_sorted.index, rotation=45, ha='right', size=10)\n",
        "axes[0].grid(axis='y', linestyle='--', alpha=0.5)\n",
        "axes[0].set_ylim(0.7, 1.0)\n",
        "\n",
        "# Add percentage-formatted annotations (79.2 style)\n",
        "for p in axes[0].patches:\n",
        "    height = p.get_height()\n",
        "    axes[0].annotate(f\"{height*100:.1f}\",\n",
        "                    (p.get_x() + p.get_width() / 2., height),\n",
        "                    ha='center', va='center', xytext=(0, 3),\n",
        "                    textcoords='offset points', fontsize=7)\n",
        "\n",
        "# Plot for After Tuning\n",
        "df_after_sorted.plot(kind='bar', width=0.8, color=metrics_colors,\n",
        "                    ax=axes[1], edgecolor='black', linewidth=0.5)\n",
        "axes[1].set_title(\"After Tuning\", fontsize=14, pad=20, fontweight='bold')\n",
        "axes[1].set_xticklabels(df_after_sorted.index, rotation=45, ha='right', size=10)\n",
        "axes[1].grid(axis='y', linestyle='--', alpha=0.5)\n",
        "axes[1].set_ylim(0.7, 1.0)\n",
        "\n",
        "# Add percentage-formatted annotations (79.2 style)\n",
        "for p in axes[1].patches:\n",
        "    height = p.get_height()\n",
        "    axes[1].annotate(f\"{height*100:.1f}\",\n",
        "                    (p.get_x() + p.get_width() / 2., height),\n",
        "                    ha='center', va='center', xytext=(0, 3),\n",
        "                    textcoords='offset points', fontsize=7)\n",
        "\n",
        "# Main title and labels\n",
        "fig.suptitle(\"Model Performance Comparison\",\n",
        "            fontsize=18, fontweight='bold', y=1.02)\n",
        "fig.supxlabel(\"Machine Learning Models\", fontsize=12, y=0.02)\n",
        "fig.supylabel(\"Scores\", fontsize=12, x=0.02)\n",
        "\n",
        "# Custom legend placement\n",
        "handles, labels = axes[0].get_legend_handles_labels()\n",
        "fig.legend(handles, labels, loc='upper center',\n",
        "          bbox_to_anchor=(0.5, 1.1), ncol=4, frameon=False, fontsize=10)\n",
        "\n",
        "# Adjust layout\n",
        "plt.tight_layout(rect=[0, 0, 1, 0.95])\n",
        "plt.subplots_adjust(wspace=0.15)\n",
        "\n",
        "plt.show()"
      ],
      "metadata": {
        "colab": {
          "base_uri": "https://localhost:8080/",
          "height": 914
        },
        "id": "IerImZRXsmSe",
        "outputId": "e599ae35-58cb-4667-a0b2-1acb259d96e0"
      },
      "execution_count": null,
      "outputs": [
        {
          "output_type": "display_data",
          "data": {
            "text/plain": [
              "<Figure size 1600x800 with 2 Axes>"
            ],
            "image/png": "[encoded data removed]"
          },
          "metadata": {}
        }
      ]
    },
    {
      "cell_type": "code",
      "source": [
        "import matplotlib.pyplot as plt\n",
        "import numpy as np\n",
        "\n",
        "# Data from your results\n",
        "models = [\n",
        "    'Logistic Regression',\n",
        "    'Decision Tree',\n",
        "    'Random Forest',\n",
        "    'SVC',\n",
        "    'KNeighbors',\n",
        "    'XGBoost'\n",
        "]\n",
        "\n",
        "metrics = ['Accuracy', 'Precision', 'Recall', 'F1-score']\n",
        "\n",
        "# Before tuning results\n",
        "results_before_tuning = {\n",
        "    'Logistic Regression': [0.799585, 0.798508, 0.799585, 0.797764],\n",
        "    'Decision Tree': [0.853583, 0.855773, 0.853583, 0.854184],\n",
        "    'Random Forest': [0.938733, 0.939686, 0.938733, 0.938756],\n",
        "    'SVC': [0.835929, 0.857081, 0.835929, 0.838628],\n",
        "    'KNeighbors': [0.908100, 0.909704, 0.908100, 0.908438],\n",
        "    'XGBoost': [0.969886, 0.970357, 0.969886, 0.969903]\n",
        "}\n",
        "\n",
        "# After tuning results\n",
        "results_after_tuning = {\n",
        "    'Logistic Regression': [0.930667, 0.930706, 0.930667, 0.930359],\n",
        "    'Decision Tree': [0.868086, 0.869012, 0.868086, 0.868076],\n",
        "    'Random Forest': [0.952740, 0.953360, 0.952740, 0.952854],\n",
        "    'SVC': [0.980784, 0.981003, 0.980784, 0.980812],\n",
        "    'KNeighbors': [0.932485, 0.933095, 0.932485, 0.932654],\n",
        "    'XGBoost': [0.978187, 0.978411, 0.978187, 0.978242]\n",
        "}\n",
        "\n",
        "# Create one big figure with subplots\n",
        "plt.figure(figsize=(18, 15))\n",
        "plt.suptitle('Models Improvement', fontsize=20, fontweight='bold', y=1.02)\n",
        "\n",
        "# Create subplots for each model\n",
        "for i, model in enumerate(models, 1):\n",
        "    plt.subplot(2, 3, i)\n",
        "\n",
        "    # Set width of bar\n",
        "    bar_width = 0.35\n",
        "    x = np.arange(len(metrics))\n",
        "\n",
        "    # Get before and after scores\n",
        "    before = results_before_tuning[model]\n",
        "    after = results_after_tuning[model]\n",
        "\n",
        "    # Plot bars\n",
        "    bars_before = plt.bar(x - bar_width/2, before, width=bar_width,\n",
        "                         label='Before Tuning', color='#A45A52', edgecolor='grey')\n",
        "    bars_after = plt.bar(x + bar_width/2, after, width=bar_width,\n",
        "                        label='After Tuning', color='#50C878', edgecolor='grey')\n",
        "\n",
        "    # Add labels\n",
        "    plt.title(model, fontweight='bold')\n",
        "    plt.xticks(x, metrics, rotation=45, ha='right')\n",
        "    plt.ylim(0.7, 1.0)\n",
        "\n",
        "    # Add value labels\n",
        "    for bar in bars_before:\n",
        "        height = bar.get_height()\n",
        "        plt.text(bar.get_x() + bar.get_width()/2., height,\n",
        "                f'{height:.3f}',\n",
        "                ha='center', va='bottom', fontsize=9)\n",
        "\n",
        "    for bar in bars_after:\n",
        "        height = bar.get_height()\n",
        "        plt.text(bar.get_x() + bar.get_width()/2., height,\n",
        "                f'{height:.3f}',\n",
        "                ha='center', va='bottom', fontsize=9)\n",
        "\n",
        "    # Add grid\n",
        "    plt.grid(axis='y', linestyle='--', alpha=0.7)\n",
        "\n",
        "    # Only show legend for first subplot\n",
        "    if i == 1:\n",
        "        plt.legend(bbox_to_anchor=(0, 1.15), loc='upper left', ncol=2)\n",
        "\n",
        "plt.tight_layout()\n",
        "plt.show()"
      ],
      "metadata": {
        "colab": {
          "base_uri": "https://localhost:8080/",
          "height": 971
        },
        "id": "ptidNJqTmwb8",
        "outputId": "04d45c2f-dcae-4510-829c-de324650d4a1"
      },
      "execution_count": null,
      "outputs": [
        {
          "output_type": "display_data",
          "data": {
            "text/plain": [
              "<Figure size 1800x1500 with 6 Axes>"
            ],
            "image/png": "[encoded data removed]"
          },
          "metadata": {}
        }
      ]
    },
    {
      "cell_type": "markdown",
      "source": [
        "# Model Performance Evaluation Report\n"
      ],
      "metadata": {
        "id": "Ni9R4zJluMy8"
      }
    },
    {
      "cell_type": "markdown",
      "source": [
        "1. **Machine Learning Models:**\n",
        "\n",
        "    We have used 6 models, which are:\n",
        "    1. Logistic Regression\n",
        "    2. Decision Tree\n",
        "    3. Random Forest\n",
        "    4. SVC\n",
        "    5. KNeighbors\n",
        "    6. XGBoost\n",
        "\n",
        "2. **Evaluation Metrics**\n",
        "\n",
        "    We evaluated six machine learning models using four standard classification metrics:\n",
        "\n",
        "    1. Accuracy\n",
        "    2. Precision\n",
        "    3. Recall\n",
        "    4. F1-score"
      ],
      "metadata": {
        "id": "kUv4EADPuP_f"
      }
    },
    {
      "cell_type": "markdown",
      "source": [
        "3. **Evaluation Methodology**\n",
        "\n",
        "  For each model, we conducted two test runs:\n",
        "\n",
        "  - Default Configuration: Using the model's out-of-box hyperparameters\n",
        "  - Tuned Configuration: Using optimized hyperparameters found through grid search"
      ],
      "metadata": {
        "id": "LZ7TFc0jvkOj"
      }
    },
    {
      "cell_type": "markdown",
      "source": [
        "![image.png](data:image/png;base64,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)"
      ],
      "metadata": {
        "id": "xihPUf4vw5Nd"
      }
    },
    {
      "cell_type": "markdown",
      "source": [
        "**Key Observations**\n",
        "\n",
        "- Performance Improvement:\n",
        "    1. SVC showed the most dramatic improvement (+14.49% accuracy)\n",
        "    2. Logistic Regression also improved significantly (+13.11% accuracy)\n",
        "    3. XGBoost maintained consistently high performance\n",
        "\n",
        "- Top Performers After Tuning:\n",
        "    1. SVC became the best model after tuning (98.08% accuracy)\n",
        "    2. XGBoost remained a close second (97.82% accuracy)\n",
        "    3. Random Forest maintained strong performance (95.27% accuracy)\n",
        "\n",
        "- Consistency Across Metrics:\n",
        "    1. All top models showed balanced precision and recall\n",
        "    2. F1-scores closely matched accuracy scores, indicating good balance"
      ],
      "metadata": {
        "id": "hcxxn6njw9lk"
      }
    },
    {
      "cell_type": "markdown",
      "source": [
        "**Conclusion**\n",
        "\n",
        "Based on the comprehensive evaluation:\n",
        "\n",
        "1. **Best Performing Model:**\n",
        "\n",
        "  **SVC** (Support Vector Classifier) emerged as the top model after hyperparameter tuning, achieving 98.08% accuracy and consistently high scores across all metrics.\n",
        "\n",
        "2. **Recommendations:**\n",
        "\n",
        "  Primary Choice: Implement the tuned SVC model for production due to its superior performance\n",
        "\n",
        "  Secondary Option: XGBoost provides excellent performance (97.82%) with potentially faster inference times"
      ],
      "metadata": {
        "id": "dE5eFK8-x2K6"
      }
    },
    {
      "cell_type": "markdown",
      "source": [
        "# Saving models for further use:"
      ],
      "metadata": {
        "id": "kSc4DRAsydnf"
      }
    },
    {
      "cell_type": "code",
      "source": [
        "import pickle\n",
        "\n",
        "#save the svc\n",
        "with open('best_model.pkl', 'wb') as f:\n",
        "  pickle.dump(svm, f)\n",
        "\n",
        "# save xgboost\n",
        "with open('2nd_best_model.pkl', 'wb') as f:\n",
        "    pickle.dump(xgb, f)"
      ],
      "metadata": {
        "colab": {
          "base_uri": "https://localhost:8080/"
        },
        "id": "-pxmuMrlx1h7",
        "outputId": "a09455eb-d5ae-442a-b1d5-cdef2c5f4a25"
      },
      "execution_count": null,
      "outputs": [
        {
          "output_type": "execute_result",
          "data": {
            "text/plain": [
              "['xgb_model.pkl']"
            ]
          },
          "metadata": {},
          "execution_count": 121
        }
      ]
    }
  ],
  "metadata": {
    "colab": {
      "provenance": [],
      "gpuType": "T4",
      "authorship_tag": "ABX9TyP/hczqqJMnhugLTLcK7ASZ",
      "include_colab_link": true
    },
    "kernelspec": {
      "display_name": "Python 3",
      "name": "python3"
    },
    "language_info": {
      "name": "python"
    },
    "accelerator": "GPU"
  },
  "nbformat": 4,
  "nbformat_minor": 0
}